{
 "cells": [
  {
   "cell_type": "markdown",
   "metadata": {},
   "source": [
    "# Similitud Notebook\n",
    "#### En este notebook podremos analizar con más facilidad la similitud entre las respuestas calificadas con mayor calificación con las de menor"
   ]
  },
  {
   "cell_type": "code",
   "execution_count": 1,
   "metadata": {},
   "outputs": [],
   "source": [
    "# importo librerias\n",
    "import spacy\n",
    "import numpy as np\n",
    "\n",
    "spa_lex = spacy.load('es_core_news_md')"
   ]
  },
  {
   "cell_type": "code",
   "execution_count": 18,
   "metadata": {},
   "outputs": [],
   "source": [
    "# funcion para inicializar el diccionario de resultados, para tener resultados diferente por prueba\n",
    "def start_dict():\n",
    "    dic = {\n",
    "    'token_base': [],      # tokens originales\n",
    "    'token_toCompare': [], # token con el que se comparo\n",
    "    'similarity': [],      # valor de la similitud de ambos\n",
    "    'total_sim_mean': 0    # promedio similitud por frase\n",
    "    }\n",
    "    return dic"
   ]
  },
  {
   "cell_type": "code",
   "execution_count": 19,
   "metadata": {},
   "outputs": [],
   "source": [
    "# funcion para analizar\n",
    "def analize(base, comparer):\n",
    "    dic = start_dict()\n",
    "    for token_base in base:\n",
    "        for token_toCompare in comparer:\n",
    "            t1 = token_base.text\n",
    "            t2 = token_toCompare.text\n",
    "            simil = token_base.similarity(token_toCompare)\n",
    "            dic['token_base'].append(t1)\n",
    "            dic['token_toCompare'].append(t2)\n",
    "            dic['similarity'].append(simil)\n",
    "    # genero el promedio de similitud que fue extraido de la sim de cada token con token\n",
    "    dic['total_sim_mean'] = np.mean(dic['similarity'])\n",
    "    return dic"
   ]
  },
  {
   "cell_type": "code",
   "execution_count": 36,
   "metadata": {},
   "outputs": [],
   "source": [
    "# funcion para analizar rapido y mostrar similitud\n",
    "def quickize(master_row, row):\n",
    "    master_row = spa_lex(master_row)\n",
    "    row = spa_lex(row)\n",
    "    dic = analize(master_row, row)\n",
    "    return dic"
   ]
  },
  {
   "cell_type": "markdown",
   "metadata": {},
   "source": [
    "### Debajo pondremos la respuesta a ser comparada"
   ]
  },
  {
   "cell_type": "code",
   "execution_count": 21,
   "metadata": {},
   "outputs": [],
   "source": [
    "master_row = spa_lex('por que hace mucho ruido')"
   ]
  },
  {
   "cell_type": "markdown",
   "metadata": {},
   "source": [
    "### Debajo pondremos la respuesta que compararemos"
   ]
  },
  {
   "cell_type": "code",
   "execution_count": 22,
   "metadata": {},
   "outputs": [],
   "source": [
    "row = spa_lex('que es fastidioso')"
   ]
  },
  {
   "cell_type": "markdown",
   "metadata": {},
   "source": [
    "### Ejecutamos el analisis"
   ]
  },
  {
   "cell_type": "code",
   "execution_count": 26,
   "metadata": {},
   "outputs": [],
   "source": [
    "results = analize(master_row, row)"
   ]
  },
  {
   "cell_type": "markdown",
   "metadata": {},
   "source": [
    "### Resultado (SECU_TODO_CLEAN)"
   ]
  },
  {
   "cell_type": "code",
   "execution_count": 37,
   "metadata": {},
   "outputs": [
    {
     "name": "stdout",
     "output_type": "stream",
     "text": [
      "3 a 1: 0.7051820238431294\n",
      "\n",
      "\n"
     ]
    }
   ],
   "source": [
    "# promedio similitud entre respuestas\n",
    "print('3 a 1: ' + str(results['total_sim_mean']))\n",
    "print('\\n')\n",
    "#print(list(zip(results['token_base'], results['token_toCompare'], results['similarity'])))"
   ]
  },
  {
   "cell_type": "markdown",
   "metadata": {},
   "source": [
    "### Resultado (WORDCOUNT_SECUNDARIA)"
   ]
  },
  {
   "cell_type": "code",
   "execution_count": 39,
   "metadata": {},
   "outputs": [
    {
     "name": "stdout",
     "output_type": "stream",
     "text": [
      "3 a 1: 0.50617975\n"
     ]
    }
   ],
   "source": [
    "# aqui se han retirado las STOPWORDS\n",
    "# de acuerdo al siguiente criterio de quickPlotter.py usando Spacy\n",
    "# if token.is_stop or token.is_punct or token.is_quote or len(token) == 1\n",
    "\n",
    "r = quickize('ruido', 'fastidioso')\n",
    "print('3 a 1: ' + str(r['total_sim_mean']))\n",
    "#print('\\n')\n",
    "#print(list(zip(results['token_base'], results['token_toCompare'], results['similarity'])))"
   ]
  },
  {
   "cell_type": "code",
   "execution_count": 40,
   "metadata": {},
   "outputs": [
    {
     "name": "stdout",
     "output_type": "stream",
     "text": [
      "3 a 1: 0.32015392\n"
     ]
    }
   ],
   "source": [
    "r = quickize('persona gritona','hermano etsa gordo pasa gritando')\n",
    "print('3 a 1: ' + str(r['total_sim_mean']))"
   ]
  },
  {
   "cell_type": "code",
   "execution_count": 42,
   "metadata": {},
   "outputs": [
    {
     "name": "stdout",
     "output_type": "stream",
     "text": [
      "3 a 3: 0.7727020084857941\n",
      "3 a 3: 0.44147807\n",
      "3 a 3: 0.5552541\n",
      "3 a 3: 0.44147807\n",
      "\n",
      "\n",
      "3 a 3: 1.0\n",
      "3 a 3: 0.4979604\n",
      "3 a 3: 0.66183156\n",
      "3 a 3: 0.4979604\n"
     ]
    }
   ],
   "source": [
    "r = quickize('hermano grita','grita')\n",
    "print('3 a 3: ' + str(r['total_sim_mean']))\n",
    "\n",
    "r = quickize('hermano grita','ruido')\n",
    "print('3 a 3: ' + str(r['total_sim_mean']))\n",
    "                   \n",
    "r = quickize('hermano grita','gritos')\n",
    "print('3 a 3: ' + str(r['total_sim_mean']))\n",
    "                   \n",
    "r = quickize('hermano grita','ruido')\n",
    "print('3 a 3: ' + str(r['total_sim_mean']))\n",
    "\n",
    "print('\\n')\n",
    "\n",
    "r = quickize('grita','grita')\n",
    "print('3 a 3: ' + str(r['total_sim_mean']))\n",
    "\n",
    "r = quickize('grita','ruido')\n",
    "print('3 a 3: ' + str(r['total_sim_mean']))\n",
    "                   \n",
    "r = quickize('grita','gritos')\n",
    "print('3 a 3: ' + str(r['total_sim_mean']))\n",
    "                   \n",
    "r = quickize('grita','ruido')\n",
    "print('3 a 3: ' + str(r['total_sim_mean']))"
   ]
  },
  {
   "cell_type": "markdown",
   "metadata": {},
   "source": [
    "### Resultado (WORDCOUNT_PRIMARIA_dominios_prueba2)"
   ]
  },
  {
   "cell_type": "code",
   "execution_count": null,
   "metadata": {},
   "outputs": [],
   "source": [
    "# aqui se manejan dominios solamente\n",
    "\n",
    "results = quickize('XXXXXXXXXXXXXXXXXXXXXXXX','XXXXXXXXXXXXXXXXXXXXXXXX')\n",
    "print('3 a 1: ' + str(results['total_sim_mean']))\n",
    "#print('\\n')\n",
    "#print(list(zip(results['token_base'], results['token_toCompare'], results['similarity'])))"
   ]
  }
 ],
 "metadata": {
  "kernelspec": {
   "display_name": "Python 3",
   "language": "python",
   "name": "python3"
  },
  "language_info": {
   "codemirror_mode": {
    "name": "ipython",
    "version": 3
   },
   "file_extension": ".py",
   "mimetype": "text/x-python",
   "name": "python",
   "nbconvert_exporter": "python",
   "pygments_lexer": "ipython3",
   "version": "3.8.2"
  }
 },
 "nbformat": 4,
 "nbformat_minor": 4
}
