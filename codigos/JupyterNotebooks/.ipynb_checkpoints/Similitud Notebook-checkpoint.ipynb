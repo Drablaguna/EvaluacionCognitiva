{
 "cells": [
  {
   "cell_type": "markdown",
   "metadata": {},
   "source": [
    "# Similitud Notebook\n",
    "#### En este notebook podremos analizar con más facilidad la similitud entre las respuestas calificadas con mayor calificación con las de menor"
   ]
  },
  {
   "cell_type": "code",
   "execution_count": 1,
   "metadata": {},
   "outputs": [],
   "source": [
    "# importo librerias\n",
    "import spacy\n",
    "import numpy as np\n",
    "import pandas as pd\n",
    "from hunspell import Hunspell\n",
    "\n",
    "h = Hunspell('es_MX', hunspell_data_dir = 'C:/Python/Lib/site-packages/dictionaries')\n",
    "spa_lex = spacy.load('es_core_news_md')"
   ]
  },
  {
   "cell_type": "markdown",
   "metadata": {},
   "source": [
    "#### Importamos el CSV original como un dataframe"
   ]
  },
  {
   "cell_type": "code",
   "execution_count": 2,
   "metadata": {},
   "outputs": [],
   "source": [
    "df = pd.read_csv(\"C:/Users/Drablaguna/Desktop/UNAM/EvaluacionCognitiva/cuenta_de_palabras/WORDCOUNT_SECUNDARIA.csv\")"
   ]
  },
  {
   "cell_type": "markdown",
   "metadata": {},
   "source": [
    "#### Funciones"
   ]
  },
  {
   "cell_type": "code",
   "execution_count": 3,
   "metadata": {},
   "outputs": [],
   "source": [
    "# funciones para eliminar caracteres de puntuacion\n",
    "def evalChar(x):\n",
    "    if x in [\",\",\".\",\":\",\";\",\"`\",\"'\",'\"',\"(\",\")\",\"-\",\"_\",\"~\",\"/\",\"?\",\"¿\",\"=\",\"[\",\"]\"]:\n",
    "        x = \"\"\n",
    "    return x\n",
    "def cleanString(x):\n",
    "    s = map(evalChar, x)\n",
    "    s = \"\".join(list(s))\n",
    "    return s"
   ]
  },
  {
   "cell_type": "code",
   "execution_count": 4,
   "metadata": {},
   "outputs": [],
   "source": [
    "# funcion para inicializar el diccionario de resultados, para tener resultados diferentes por prueba\n",
    "def start_dict():\n",
    "    dic = {\n",
    "    'token_base': [],      # tokens originales\n",
    "    'token_toCompare': [], # token con el que se comparo\n",
    "    'similarity': [],      # valor de la similitud de ambos\n",
    "    'total_sim_mean': 0    # promedio similitud por frase\n",
    "    }\n",
    "    return dic"
   ]
  },
  {
   "cell_type": "code",
   "execution_count": 5,
   "metadata": {},
   "outputs": [],
   "source": [
    "# funcion para analizar\n",
    "def analize(base, comparer):\n",
    "    dic = start_dict()\n",
    "    for token_base in base:\n",
    "        for token_toCompare in comparer:\n",
    "            t1 = token_base.text\n",
    "            t2 = token_toCompare.text\n",
    "            simil = token_base.similarity(token_toCompare)\n",
    "            dic['token_base'].append(t1)\n",
    "            dic['token_toCompare'].append(t2)\n",
    "            dic['similarity'].append(simil)\n",
    "    # genero el promedio de similitud que fue extraido de la sim de cada token con token\n",
    "    dic['total_sim_mean'] = np.mean(dic['similarity'])\n",
    "    return dic"
   ]
  },
  {
   "cell_type": "code",
   "execution_count": 6,
   "metadata": {},
   "outputs": [],
   "source": [
    "# funcion para analizar rapido y mostrar similitud\n",
    "def quickize(master_row, row):\n",
    "    master_row = spa_lex(master_row)\n",
    "    row = spa_lex(row)\n",
    "    dic = analize(master_row, row)\n",
    "    return dic"
   ]
  },
  {
   "cell_type": "code",
   "execution_count": 22,
   "metadata": {},
   "outputs": [
    {
     "name": "stdout",
     "output_type": "stream",
     "text": [
      "\n",
      "\n",
      "0: si\n",
      "1: sin\n",
      "2: sis\n",
      "3: sil\n",
      "ID respuesta correcta: \n",
      "Escribe la respuesta: \n",
      "porque mas que nada\n"
     ]
    }
   ],
   "source": [
    "# funcion para elegir la palabra correcta entre sus sugerencias\n",
    "def checkWord(word, hun_dic):\n",
    "    if not hun_dic.spell(word): # si la palabra NO se encuentra en el diccionario hunspell\n",
    "        n = 0\n",
    "        a = hun_dic.suggest(word)\n",
    "        print(\"\\n\")\n",
    "        for x in a:\n",
    "            print(str(n) + \": \" + x)\n",
    "            n+=1\n",
    "        try: # si la respuesta correcta no se encuentra en el arreglo PRESIONAR ENTER sin ingresar algun numero\n",
    "            correct_id = int(input(\"ID respuesta correcta: \"))\n",
    "            correct = a[correct_id]\n",
    "        except: # ingreso manual de la respuesta\n",
    "            correct = input(\"Escribe la respuesta: \")\n",
    "    else: # si la palabra se encuentra en el diccionario hunspell\n",
    "        correct = word\n",
    "    return correct\n",
    "\n",
    "# funcion para checar una oracion usando la funcion de escoger la palabra correcta\n",
    "def checkSentence(s_string, hun_dic):\n",
    "    new_sentence = []\n",
    "    for token in s_string.split(\" \"): # se evaluara cada token si es una palabra existente o no\n",
    "        correct_word = checkWord(token, hun_dic)\n",
    "        if correct_word != \"\": # se agregara a la oracion nueva solo si es algo\n",
    "            new_sentence.append(correct_word)\n",
    "    return \" \".join(new_sentence)\n",
    "        \n",
    "#s = \"porque sii mas que nada\"\n",
    "#s = checkSentence(s,h)\n",
    "#print(s)"
   ]
  },
  {
   "cell_type": "markdown",
   "metadata": {},
   "source": [
    "# Resultado (SECU_TODO_CLEAN)"
   ]
  },
  {
   "cell_type": "code",
   "execution_count": 44,
   "metadata": {},
   "outputs": [
    {
     "ename": "NameError",
     "evalue": "name 'results' is not defined",
     "output_type": "error",
     "traceback": [
      "\u001b[1;31m---------------------------------------------------------------------------\u001b[0m",
      "\u001b[1;31mNameError\u001b[0m                                 Traceback (most recent call last)",
      "\u001b[1;32m<ipython-input-44-a83a24ebfc5f>\u001b[0m in \u001b[0;36m<module>\u001b[1;34m\u001b[0m\n\u001b[0;32m      1\u001b[0m \u001b[1;31m# promedio similitud entre respuestas\u001b[0m\u001b[1;33m\u001b[0m\u001b[1;33m\u001b[0m\u001b[1;33m\u001b[0m\u001b[0m\n\u001b[1;32m----> 2\u001b[1;33m \u001b[0mprint\u001b[0m\u001b[1;33m(\u001b[0m\u001b[1;34m'3 a 1: '\u001b[0m \u001b[1;33m+\u001b[0m \u001b[0mstr\u001b[0m\u001b[1;33m(\u001b[0m\u001b[0mresults\u001b[0m\u001b[1;33m[\u001b[0m\u001b[1;34m'total_sim_mean'\u001b[0m\u001b[1;33m]\u001b[0m\u001b[1;33m)\u001b[0m\u001b[1;33m)\u001b[0m\u001b[1;33m\u001b[0m\u001b[1;33m\u001b[0m\u001b[0m\n\u001b[0m\u001b[0;32m      3\u001b[0m \u001b[1;31m#print('\\n')\u001b[0m\u001b[1;33m\u001b[0m\u001b[1;33m\u001b[0m\u001b[1;33m\u001b[0m\u001b[0m\n\u001b[0;32m      4\u001b[0m \u001b[1;31m#print(list(zip(results['token_base'], results['token_toCompare'], results['similarity'])))\u001b[0m\u001b[1;33m\u001b[0m\u001b[1;33m\u001b[0m\u001b[1;33m\u001b[0m\u001b[0m\n",
      "\u001b[1;31mNameError\u001b[0m: name 'results' is not defined"
     ]
    }
   ],
   "source": [
    "# promedio similitud entre respuestas\n",
    "#print('\\n')\n",
    "#print(list(zip(results['token_base'], results['token_toCompare'], results['similarity'])))"
   ]
  },
  {
   "cell_type": "markdown",
   "metadata": {},
   "source": [
    "# Resultado (WORDCOUNT_SECUNDARIA)"
   ]
  },
  {
   "cell_type": "code",
   "execution_count": null,
   "metadata": {},
   "outputs": [],
   "source": [
    "# aqui se han retirado las STOPWORDS\n",
    "# de acuerdo al siguiente criterio de quickPlotter.py usando Spacy\n",
    "# if token.is_stop or token.is_punct or token.is_quote or len(token) == 1\n",
    "#print('\\n')\n",
    "#print(list(zip(results['token_base'], results['token_toCompare'], results['similarity'])))"
   ]
  },
  {
   "cell_type": "markdown",
   "metadata": {},
   "source": [
    "### Dataframe base"
   ]
  },
  {
   "cell_type": "code",
   "execution_count": 8,
   "metadata": {},
   "outputs": [],
   "source": [
    "# variable de la columna con las respuestas limpias\n",
    "ans_col = \"explica_lo_que_quiere_decir_mi_hermanito_es_una_pelota_de_gritos_clean_ans\"\n",
    "\n",
    "# variable de la columna con las evaluaciones numericas\n",
    "eval_col = \"explica_lo_que_quiere_decir_mi_hermanito_es_una_pelota_de_gritos_eval\"\n",
    "\n",
    "# obtengo los valores de respuestas limpias y sus evaluaciones en un dataframe\n",
    "df_base = df[[ans_col, eval_col]]"
   ]
  },
  {
   "cell_type": "markdown",
   "metadata": {},
   "source": [
    "### Dataframe evaluado a  3"
   ]
  },
  {
   "cell_type": "code",
   "execution_count": 24,
   "metadata": {},
   "outputs": [],
   "source": [
    "# selecciono todas las rows que esten evaluadas 3\n",
    "df_three = df_base.loc[df_base[eval_col] == 3]\n",
    "#df_three.head(5)"
   ]
  },
  {
   "cell_type": "markdown",
   "metadata": {},
   "source": [
    "### Dataframe evaluado a 2, 1 y 0"
   ]
  },
  {
   "cell_type": "code",
   "execution_count": 10,
   "metadata": {},
   "outputs": [],
   "source": [
    "# selecciono todas las rows que esten evaluadas con todo menos 3\n",
    "df_two  = df_base.loc[df_base[eval_col] == 2]\n",
    "df_one  = df_base.loc[df_base[eval_col] == 1]\n",
    "df_zero = df_base.loc[df_base[eval_col] == 0]"
   ]
  },
  {
   "cell_type": "code",
   "execution_count": 33,
   "metadata": {},
   "outputs": [
    {
     "data": {
      "text/plain": [
       "(5, 2)"
      ]
     },
     "execution_count": 33,
     "metadata": {},
     "output_type": "execute_result"
    }
   ],
   "source": [
    "# df head testing\n",
    "\n",
    "#df_three.head(60)\n",
    "#df_three.shape\n",
    "#print(df_three)\n",
    "\n",
    "#df_two.head(3)\n",
    "#df_two.shape\n",
    "\n",
    "#df_one.head(3)\n",
    "#df_one.shape\n",
    "\n",
    "#df_zero.head(3)\n",
    "#df_zero.shape"
   ]
  },
  {
   "cell_type": "markdown",
   "metadata": {},
   "source": [
    "### Columna de 3 para procesar por cada una evaluada a 2"
   ]
  },
  {
   "cell_type": "code",
   "execution_count": 36,
   "metadata": {},
   "outputs": [
    {
     "name": "stdout",
     "output_type": "stream",
     "text": [
      "============================== HERMANO GRITA NORMAL ==============================\n"
     ]
    },
    {
     "name": "stderr",
     "output_type": "stream",
     "text": [
      "c:\\python\\python38\\lib\\site-packages\\numpy\\core\\fromnumeric.py:3334: RuntimeWarning: Mean of empty slice.\n",
      "  return _methods._mean(a, axis=axis, dtype=dtype,\n",
      "c:\\python\\python38\\lib\\site-packages\\numpy\\core\\_methods.py:161: RuntimeWarning: invalid value encountered in double_scalars\n",
      "  ret = ret.dtype.type(ret / rcount)\n",
      "c:\\python\\python38\\lib\\runpy.py:193: UserWarning: [W008] Evaluating Token.similarity based on empty vectors.\n",
      "  return _run_code(code, main_globals, None,\n",
      "c:\\python\\python38\\lib\\runpy.py:193: UserWarning: [W008] Evaluating Token.similarity based on empty vectors.\n",
      "  return _run_code(code, main_globals, None,\n",
      "c:\\python\\python38\\lib\\runpy.py:193: UserWarning: [W008] Evaluating Token.similarity based on empty vectors.\n",
      "  return _run_code(code, main_globals, None,\n",
      "c:\\python\\python38\\lib\\runpy.py:193: UserWarning: [W008] Evaluating Token.similarity based on empty vectors.\n",
      "  return _run_code(code, main_globals, None,\n",
      "c:\\python\\python38\\lib\\runpy.py:193: UserWarning: [W008] Evaluating Token.similarity based on empty vectors.\n",
      "  return _run_code(code, main_globals, None,\n",
      "c:\\python\\python38\\lib\\runpy.py:193: UserWarning: [W008] Evaluating Token.similarity based on empty vectors.\n",
      "  return _run_code(code, main_globals, None,\n",
      "c:\\python\\python38\\lib\\site-packages\\numpy\\core\\fromnumeric.py:3334: RuntimeWarning: Mean of empty slice.\n",
      "  return _methods._mean(a, axis=axis, dtype=dtype,\n",
      "c:\\python\\python38\\lib\\site-packages\\numpy\\core\\_methods.py:161: RuntimeWarning: invalid value encountered in double_scalars\n",
      "  ret = ret.dtype.type(ret / rcount)\n",
      "c:\\python\\python38\\lib\\runpy.py:193: UserWarning: [W008] Evaluating Token.similarity based on empty vectors.\n",
      "  return _run_code(code, main_globals, None,\n",
      "c:\\python\\python38\\lib\\runpy.py:193: UserWarning: [W008] Evaluating Token.similarity based on empty vectors.\n",
      "  return _run_code(code, main_globals, None,\n",
      "c:\\python\\python38\\lib\\runpy.py:193: UserWarning: [W008] Evaluating Token.similarity based on empty vectors.\n",
      "  return _run_code(code, main_globals, None,\n",
      "c:\\python\\python38\\lib\\runpy.py:193: UserWarning: [W008] Evaluating Token.similarity based on empty vectors.\n",
      "  return _run_code(code, main_globals, None,\n",
      "c:\\python\\python38\\lib\\runpy.py:193: UserWarning: [W008] Evaluating Token.similarity based on empty vectors.\n",
      "  return _run_code(code, main_globals, None,\n",
      "c:\\python\\python38\\lib\\runpy.py:193: UserWarning: [W008] Evaluating Token.similarity based on empty vectors.\n",
      "  return _run_code(code, main_globals, None,\n",
      "c:\\python\\python38\\lib\\runpy.py:193: UserWarning: [W008] Evaluating Token.similarity based on empty vectors.\n",
      "  return _run_code(code, main_globals, None,\n",
      "c:\\python\\python38\\lib\\runpy.py:193: UserWarning: [W008] Evaluating Token.similarity based on empty vectors.\n",
      "  return _run_code(code, main_globals, None,\n",
      "c:\\python\\python38\\lib\\runpy.py:193: UserWarning: [W008] Evaluating Token.similarity based on empty vectors.\n",
      "  return _run_code(code, main_globals, None,\n",
      "c:\\python\\python38\\lib\\runpy.py:193: UserWarning: [W008] Evaluating Token.similarity based on empty vectors.\n",
      "  return _run_code(code, main_globals, None,\n",
      "c:\\python\\python38\\lib\\runpy.py:193: UserWarning: [W008] Evaluating Token.similarity based on empty vectors.\n",
      "  return _run_code(code, main_globals, None,\n",
      "c:\\python\\python38\\lib\\runpy.py:193: UserWarning: [W008] Evaluating Token.similarity based on empty vectors.\n",
      "  return _run_code(code, main_globals, None,\n",
      "c:\\python\\python38\\lib\\runpy.py:193: UserWarning: [W008] Evaluating Token.similarity based on empty vectors.\n",
      "  return _run_code(code, main_globals, None,\n",
      "c:\\python\\python38\\lib\\runpy.py:193: UserWarning: [W008] Evaluating Token.similarity based on empty vectors.\n",
      "  return _run_code(code, main_globals, None,\n",
      "c:\\python\\python38\\lib\\runpy.py:193: UserWarning: [W008] Evaluating Token.similarity based on empty vectors.\n",
      "  return _run_code(code, main_globals, None,\n",
      "c:\\python\\python38\\lib\\runpy.py:193: UserWarning: [W008] Evaluating Token.similarity based on empty vectors.\n",
      "  return _run_code(code, main_globals, None,\n",
      "c:\\python\\python38\\lib\\runpy.py:193: UserWarning: [W008] Evaluating Token.similarity based on empty vectors.\n",
      "  return _run_code(code, main_globals, None,\n",
      "c:\\python\\python38\\lib\\runpy.py:193: UserWarning: [W008] Evaluating Token.similarity based on empty vectors.\n",
      "  return _run_code(code, main_globals, None,\n",
      "c:\\python\\python38\\lib\\runpy.py:193: UserWarning: [W008] Evaluating Token.similarity based on empty vectors.\n",
      "  return _run_code(code, main_globals, None,\n",
      "c:\\python\\python38\\lib\\runpy.py:193: UserWarning: [W008] Evaluating Token.similarity based on empty vectors.\n",
      "  return _run_code(code, main_globals, None,\n",
      "c:\\python\\python38\\lib\\runpy.py:193: UserWarning: [W008] Evaluating Token.similarity based on empty vectors.\n",
      "  return _run_code(code, main_globals, None,\n",
      "c:\\python\\python38\\lib\\runpy.py:193: UserWarning: [W008] Evaluating Token.similarity based on empty vectors.\n",
      "  return _run_code(code, main_globals, None,\n",
      "c:\\python\\python38\\lib\\runpy.py:193: UserWarning: [W008] Evaluating Token.similarity based on empty vectors.\n",
      "  return _run_code(code, main_globals, None,\n",
      "c:\\python\\python38\\lib\\runpy.py:193: UserWarning: [W008] Evaluating Token.similarity based on empty vectors.\n",
      "  return _run_code(code, main_globals, None,\n",
      "c:\\python\\python38\\lib\\runpy.py:193: UserWarning: [W008] Evaluating Token.similarity based on empty vectors.\n",
      "  return _run_code(code, main_globals, None,\n",
      "c:\\python\\python38\\lib\\runpy.py:193: UserWarning: [W008] Evaluating Token.similarity based on empty vectors.\n",
      "  return _run_code(code, main_globals, None,\n",
      "c:\\python\\python38\\lib\\runpy.py:193: UserWarning: [W008] Evaluating Token.similarity based on empty vectors.\n",
      "  return _run_code(code, main_globals, None,\n",
      "c:\\python\\python38\\lib\\runpy.py:193: UserWarning: [W008] Evaluating Token.similarity based on empty vectors.\n",
      "  return _run_code(code, main_globals, None,\n",
      "c:\\python\\python38\\lib\\runpy.py:193: UserWarning: [W008] Evaluating Token.similarity based on empty vectors.\n",
      "  return _run_code(code, main_globals, None,\n",
      "c:\\python\\python38\\lib\\runpy.py:193: UserWarning: [W008] Evaluating Token.similarity based on empty vectors.\n",
      "  return _run_code(code, main_globals, None,\n",
      "c:\\python\\python38\\lib\\runpy.py:193: UserWarning: [W008] Evaluating Token.similarity based on empty vectors.\n",
      "  return _run_code(code, main_globals, None,\n",
      "c:\\python\\python38\\lib\\runpy.py:193: UserWarning: [W008] Evaluating Token.similarity based on empty vectors.\n",
      "  return _run_code(code, main_globals, None,\n",
      "c:\\python\\python38\\lib\\runpy.py:193: UserWarning: [W008] Evaluating Token.similarity based on empty vectors.\n",
      "  return _run_code(code, main_globals, None,\n",
      "c:\\python\\python38\\lib\\runpy.py:193: UserWarning: [W008] Evaluating Token.similarity based on empty vectors.\n",
      "  return _run_code(code, main_globals, None,\n",
      "c:\\python\\python38\\lib\\runpy.py:193: UserWarning: [W008] Evaluating Token.similarity based on empty vectors.\n",
      "  return _run_code(code, main_globals, None,\n",
      "c:\\python\\python38\\lib\\runpy.py:193: UserWarning: [W008] Evaluating Token.similarity based on empty vectors.\n",
      "  return _run_code(code, main_globals, None,\n",
      "c:\\python\\python38\\lib\\runpy.py:193: UserWarning: [W008] Evaluating Token.similarity based on empty vectors.\n",
      "  return _run_code(code, main_globals, None,\n",
      "c:\\python\\python38\\lib\\runpy.py:193: UserWarning: [W008] Evaluating Token.similarity based on empty vectors.\n",
      "  return _run_code(code, main_globals, None,\n",
      "c:\\python\\python38\\lib\\runpy.py:193: UserWarning: [W008] Evaluating Token.similarity based on empty vectors.\n",
      "  return _run_code(code, main_globals, None,\n",
      "c:\\python\\python38\\lib\\runpy.py:193: UserWarning: [W008] Evaluating Token.similarity based on empty vectors.\n",
      "  return _run_code(code, main_globals, None,\n",
      "c:\\python\\python38\\lib\\runpy.py:193: UserWarning: [W008] Evaluating Token.similarity based on empty vectors.\n",
      "  return _run_code(code, main_globals, None,\n",
      "c:\\python\\python38\\lib\\runpy.py:193: UserWarning: [W008] Evaluating Token.similarity based on empty vectors.\n",
      "  return _run_code(code, main_globals, None,\n",
      "c:\\python\\python38\\lib\\runpy.py:193: UserWarning: [W008] Evaluating Token.similarity based on empty vectors.\n",
      "  return _run_code(code, main_globals, None,\n",
      "c:\\python\\python38\\lib\\runpy.py:193: UserWarning: [W008] Evaluating Token.similarity based on empty vectors.\n",
      "  return _run_code(code, main_globals, None,\n",
      "c:\\python\\python38\\lib\\runpy.py:193: UserWarning: [W008] Evaluating Token.similarity based on empty vectors.\n",
      "  return _run_code(code, main_globals, None,\n"
     ]
    },
    {
     "name": "stderr",
     "output_type": "stream",
     "text": [
      "c:\\python\\python38\\lib\\runpy.py:193: UserWarning: [W008] Evaluating Token.similarity based on empty vectors.\n",
      "  return _run_code(code, main_globals, None,\n",
      "c:\\python\\python38\\lib\\runpy.py:193: UserWarning: [W008] Evaluating Token.similarity based on empty vectors.\n",
      "  return _run_code(code, main_globals, None,\n",
      "c:\\python\\python38\\lib\\runpy.py:193: UserWarning: [W008] Evaluating Token.similarity based on empty vectors.\n",
      "  return _run_code(code, main_globals, None,\n",
      "c:\\python\\python38\\lib\\runpy.py:193: UserWarning: [W008] Evaluating Token.similarity based on empty vectors.\n",
      "  return _run_code(code, main_globals, None,\n",
      "c:\\python\\python38\\lib\\runpy.py:193: UserWarning: [W008] Evaluating Token.similarity based on empty vectors.\n",
      "  return _run_code(code, main_globals, None,\n",
      "c:\\python\\python38\\lib\\runpy.py:193: UserWarning: [W008] Evaluating Token.similarity based on empty vectors.\n",
      "  return _run_code(code, main_globals, None,\n",
      "c:\\python\\python38\\lib\\runpy.py:193: UserWarning: [W008] Evaluating Token.similarity based on empty vectors.\n",
      "  return _run_code(code, main_globals, None,\n",
      "c:\\python\\python38\\lib\\runpy.py:193: UserWarning: [W008] Evaluating Token.similarity based on empty vectors.\n",
      "  return _run_code(code, main_globals, None,\n",
      "c:\\python\\python38\\lib\\runpy.py:193: UserWarning: [W008] Evaluating Token.similarity based on empty vectors.\n",
      "  return _run_code(code, main_globals, None,\n",
      "c:\\python\\python38\\lib\\runpy.py:193: UserWarning: [W008] Evaluating Token.similarity based on empty vectors.\n",
      "  return _run_code(code, main_globals, None,\n",
      "c:\\python\\python38\\lib\\runpy.py:193: UserWarning: [W008] Evaluating Token.similarity based on empty vectors.\n",
      "  return _run_code(code, main_globals, None,\n",
      "c:\\python\\python38\\lib\\runpy.py:193: UserWarning: [W008] Evaluating Token.similarity based on empty vectors.\n",
      "  return _run_code(code, main_globals, None,\n",
      "c:\\python\\python38\\lib\\runpy.py:193: UserWarning: [W008] Evaluating Token.similarity based on empty vectors.\n",
      "  return _run_code(code, main_globals, None,\n",
      "c:\\python\\python38\\lib\\runpy.py:193: UserWarning: [W008] Evaluating Token.similarity based on empty vectors.\n",
      "  return _run_code(code, main_globals, None,\n",
      "c:\\python\\python38\\lib\\runpy.py:193: UserWarning: [W008] Evaluating Token.similarity based on empty vectors.\n",
      "  return _run_code(code, main_globals, None,\n",
      "c:\\python\\python38\\lib\\runpy.py:193: UserWarning: [W008] Evaluating Token.similarity based on empty vectors.\n",
      "  return _run_code(code, main_globals, None,\n",
      "c:\\python\\python38\\lib\\runpy.py:193: UserWarning: [W008] Evaluating Token.similarity based on empty vectors.\n",
      "  return _run_code(code, main_globals, None,\n",
      "c:\\python\\python38\\lib\\runpy.py:193: UserWarning: [W008] Evaluating Token.similarity based on empty vectors.\n",
      "  return _run_code(code, main_globals, None,\n",
      "c:\\python\\python38\\lib\\runpy.py:193: UserWarning: [W008] Evaluating Token.similarity based on empty vectors.\n",
      "  return _run_code(code, main_globals, None,\n",
      "c:\\python\\python38\\lib\\runpy.py:193: UserWarning: [W008] Evaluating Token.similarity based on empty vectors.\n",
      "  return _run_code(code, main_globals, None,\n",
      "c:\\python\\python38\\lib\\runpy.py:193: UserWarning: [W008] Evaluating Token.similarity based on empty vectors.\n",
      "  return _run_code(code, main_globals, None,\n",
      "c:\\python\\python38\\lib\\runpy.py:193: UserWarning: [W008] Evaluating Token.similarity based on empty vectors.\n",
      "  return _run_code(code, main_globals, None,\n",
      "c:\\python\\python38\\lib\\runpy.py:193: UserWarning: [W008] Evaluating Token.similarity based on empty vectors.\n",
      "  return _run_code(code, main_globals, None,\n",
      "c:\\python\\python38\\lib\\runpy.py:193: UserWarning: [W008] Evaluating Token.similarity based on empty vectors.\n",
      "  return _run_code(code, main_globals, None,\n",
      "c:\\python\\python38\\lib\\runpy.py:193: UserWarning: [W008] Evaluating Token.similarity based on empty vectors.\n",
      "  return _run_code(code, main_globals, None,\n",
      "c:\\python\\python38\\lib\\runpy.py:193: UserWarning: [W008] Evaluating Token.similarity based on empty vectors.\n",
      "  return _run_code(code, main_globals, None,\n",
      "c:\\python\\python38\\lib\\runpy.py:193: UserWarning: [W008] Evaluating Token.similarity based on empty vectors.\n",
      "  return _run_code(code, main_globals, None,\n",
      "c:\\python\\python38\\lib\\runpy.py:193: UserWarning: [W008] Evaluating Token.similarity based on empty vectors.\n",
      "  return _run_code(code, main_globals, None,\n",
      "c:\\python\\python38\\lib\\runpy.py:193: UserWarning: [W008] Evaluating Token.similarity based on empty vectors.\n",
      "  return _run_code(code, main_globals, None,\n",
      "c:\\python\\python38\\lib\\runpy.py:193: UserWarning: [W008] Evaluating Token.similarity based on empty vectors.\n",
      "  return _run_code(code, main_globals, None,\n",
      "c:\\python\\python38\\lib\\runpy.py:193: UserWarning: [W008] Evaluating Token.similarity based on empty vectors.\n",
      "  return _run_code(code, main_globals, None,\n",
      "c:\\python\\python38\\lib\\runpy.py:193: UserWarning: [W008] Evaluating Token.similarity based on empty vectors.\n",
      "  return _run_code(code, main_globals, None,\n",
      "c:\\python\\python38\\lib\\runpy.py:193: UserWarning: [W008] Evaluating Token.similarity based on empty vectors.\n",
      "  return _run_code(code, main_globals, None,\n",
      "c:\\python\\python38\\lib\\runpy.py:193: UserWarning: [W008] Evaluating Token.similarity based on empty vectors.\n",
      "  return _run_code(code, main_globals, None,\n",
      "c:\\python\\python38\\lib\\runpy.py:193: UserWarning: [W008] Evaluating Token.similarity based on empty vectors.\n",
      "  return _run_code(code, main_globals, None,\n",
      "c:\\python\\python38\\lib\\runpy.py:193: UserWarning: [W008] Evaluating Token.similarity based on empty vectors.\n",
      "  return _run_code(code, main_globals, None,\n",
      "c:\\python\\python38\\lib\\runpy.py:193: UserWarning: [W008] Evaluating Token.similarity based on empty vectors.\n",
      "  return _run_code(code, main_globals, None,\n",
      "c:\\python\\python38\\lib\\runpy.py:193: UserWarning: [W008] Evaluating Token.similarity based on empty vectors.\n",
      "  return _run_code(code, main_globals, None,\n",
      "c:\\python\\python38\\lib\\runpy.py:193: UserWarning: [W008] Evaluating Token.similarity based on empty vectors.\n",
      "  return _run_code(code, main_globals, None,\n",
      "c:\\python\\python38\\lib\\runpy.py:193: UserWarning: [W008] Evaluating Token.similarity based on empty vectors.\n",
      "  return _run_code(code, main_globals, None,\n",
      "c:\\python\\python38\\lib\\runpy.py:193: UserWarning: [W008] Evaluating Token.similarity based on empty vectors.\n",
      "  return _run_code(code, main_globals, None,\n",
      "c:\\python\\python38\\lib\\runpy.py:193: UserWarning: [W008] Evaluating Token.similarity based on empty vectors.\n",
      "  return _run_code(code, main_globals, None,\n",
      "c:\\python\\python38\\lib\\runpy.py:193: UserWarning: [W008] Evaluating Token.similarity based on empty vectors.\n",
      "  return _run_code(code, main_globals, None,\n",
      "c:\\python\\python38\\lib\\runpy.py:193: UserWarning: [W008] Evaluating Token.similarity based on empty vectors.\n",
      "  return _run_code(code, main_globals, None,\n",
      "c:\\python\\python38\\lib\\runpy.py:193: UserWarning: [W008] Evaluating Token.similarity based on empty vectors.\n",
      "  return _run_code(code, main_globals, None,\n",
      "c:\\python\\python38\\lib\\runpy.py:193: UserWarning: [W008] Evaluating Token.similarity based on empty vectors.\n",
      "  return _run_code(code, main_globals, None,\n",
      "c:\\python\\python38\\lib\\runpy.py:193: UserWarning: [W008] Evaluating Token.similarity based on empty vectors.\n",
      "  return _run_code(code, main_globals, None,\n",
      "c:\\python\\python38\\lib\\runpy.py:193: UserWarning: [W008] Evaluating Token.similarity based on empty vectors.\n",
      "  return _run_code(code, main_globals, None,\n",
      "c:\\python\\python38\\lib\\runpy.py:193: UserWarning: [W008] Evaluating Token.similarity based on empty vectors.\n",
      "  return _run_code(code, main_globals, None,\n",
      "c:\\python\\python38\\lib\\runpy.py:193: UserWarning: [W008] Evaluating Token.similarity based on empty vectors.\n",
      "  return _run_code(code, main_globals, None,\n",
      "c:\\python\\python38\\lib\\runpy.py:193: UserWarning: [W008] Evaluating Token.similarity based on empty vectors.\n",
      "  return _run_code(code, main_globals, None,\n",
      "c:\\python\\python38\\lib\\runpy.py:193: UserWarning: [W008] Evaluating Token.similarity based on empty vectors.\n",
      "  return _run_code(code, main_globals, None,\n",
      "c:\\python\\python38\\lib\\runpy.py:193: UserWarning: [W008] Evaluating Token.similarity based on empty vectors.\n",
      "  return _run_code(code, main_globals, None,\n",
      "c:\\python\\python38\\lib\\runpy.py:193: UserWarning: [W008] Evaluating Token.similarity based on empty vectors.\n",
      "  return _run_code(code, main_globals, None,\n",
      "c:\\python\\python38\\lib\\runpy.py:193: UserWarning: [W008] Evaluating Token.similarity based on empty vectors.\n",
      "  return _run_code(code, main_globals, None,\n",
      "c:\\python\\python38\\lib\\runpy.py:193: UserWarning: [W008] Evaluating Token.similarity based on empty vectors.\n",
      "  return _run_code(code, main_globals, None,\n"
     ]
    },
    {
     "name": "stdout",
     "output_type": "stream",
     "text": [
      "[-0.314522, 0.4602612442026536, 0.24011867, -0.04292406, 0.34709004, nan, 0.5659874677658081, 0.49943185, nan, 0.52422553, 0.46210828, 0.40203407, 0.0, 0.0, 0.19064248, 0.2748563, nan, 0.19064248, 0.47174883, 0.5705967744191488, 0.4548014, 0.3629591545710961, 0.4253323053320249, 0.46210828, 0.6312693655490875, 0.6190886894861857, 0.6312693655490875, 0.6153895755608877, 0.35169846, 0.48850010335445404, 0.3235324862457457, 0.4290064937538571, 0.57722414, 0.49620160708824795, 0.047000274, 0.51732326, 0.554364, -0.36294135, 0.40506482031196356]\n",
      "[0.5012034, 0.54099107, 0.42819488793611526, 0.6312693655490875, 0.4400464209417502, 0.4943935, 0.23693926632404327, 0.361232, 0.0, 0.5460131416718165, 0.4318285, 0.61532813, 0.33945901691913605, 0.25554886, 0.38265228, 0.28882918, 0.5888442960050371, 0.5205372, 0.6281154652436575, 0.6435097406307856, 0.6281154652436575, 0.55761385, 0.6109502, 0.4793321, 0.6027142, 0.43994056185086566, 0.47948837, -0.15253161, 0.4003726005554199, 0.5133863470206658, 0.5649672]\n",
      "[0.5205372, 0.6411462624867758, 0.45357445, 0.46004927655061084, -0.44202805, 0.6312693655490875, 0.11844499905904134, 0.61556244, 0.5453663525127229, 0.39172430988401175, 0.6312693655490875, 0.10633365, 0.4909019035597642, 0.3183049, 0.0, 0.5609327703714371, 0.5939787526925405, 0.6312693655490875, 0.07385729253292084, 0.3657423, 0.6312693655490875, 0.6312693655490875, 0.6550936996936798, 0.6312693655490875, 0.5885623, 0.6312693655490875, 0.6435097406307856, 0.5305808583895365, 0.41437500052981907, 0.4793321, 0.52452254, 0.5463251, 0.0, 0.6312693655490875, 0.0, 0.49116176, 0.5899878, 0.6550936996936798, 0.6686377591556973, 0.4800611589517858, 0.588868722319603, -0.44202805, 0.5723039441638522, 0.5987459421157837, 0.6550936996936798, 0.6537251008881463, 0.5321688527862231, 0.5425933023293813, 0.46004927655061084, 0.6312693655490875, 0.6312693655490875, -0.5223437, 0.6312693655490875, 0.5519929074105763, 0.6312693655490875, 0.6186332901318868, 0.6550936996936798, 0.6312693655490875, -0.44202805, 0.6312693655490875, 0.36881638, 0.50735116, 0.6435097406307856, 0.0, 0.6435097406307856, 0.6550936996936798, 0.46663556, 0.47463715, 0.42016507165196043, 0.5800265835391151, 0.11844499905904134, 0.12684892, 0.2082684, 0.3861020083228747, 0.648856414688958, 0.6134712745745977, 0.050633896, 0.53265256, 0.54135185, 0.4057903, 0.6550936996936798, 0.6435097406307856, -0.2210140178600947, 0.6312693655490875, 0.6312693655490875, 0.5463251, 0.51292443, 0.4102773, 0.6027142, 0.6312693655490875, 0.5330055289798312, 0.50735116, 0.5526158892446094, 0.5463251, 0.5334952986902661, 0.6312693655490875, 0.6312693655490875, 0.6550936996936798, 0.6312693655490875, 0.5688208, 0.5811200274361504, 0.6312693655490875, 0.5547132, 0.34636605, 0.6312693655490875, 0.6550936996936798, 0.6312693655490875, 0.4228388809909423, 0.4533235728740692, 0.4533235728740692, 0.2707671, 0.52422553, 0.6312693655490875, 0.6550936996936798, 0.5351072759884927, 0.6550936996936798, 0.5922898517714607, 0.5311331550280253, 0.39253998, 0.6312693655490875, 0.6281154652436575, 0.38334826, 0.6027142, 0.5305808583895365, 0.6312693655490875, 0.21453816, 0.6312693655490875, 0.604546512166659, 0.52422553, 0.5729546820123991, 0.42650548, 0.6312693655490875, 0.6312693655490875, 0.6281154652436575, 0.4962506865461667, 0.6550936996936798, 0.6550936996936798, 0.6312633355458578, 0.4029759135511186, 0.5693441679080328, 0.6634976218144099, 0.6312693655490875, 0.16840343674023947, 0.6027142, 0.25588198006153107, 0.4239494684669707, 0.6312693655490875, 0.6312693655490875, 0.5330054772396883, 0.6312693655490875, 0.6312693655490875, 0.6550936996936798, 0.11844499905904134, 0.610241542259852, 0.6312693655490875, 0.6312693655490875, 0.6312693655490875, 0.530175, 0.53010297, 0.5727598468462626, 0.6550936996936798, 0.34038439724180436, 0.5800265835391151, 0.11844499905904134, 0.6312693655490875, 0.5330055289798312, 0.5771643221378326, 0.6325301850835482, 0.30998126, 0.6634976218144099, 0.6550936996936798, 0.5042541509582883, 0.6550936996936798, 0.6312693655490875, 0.5992823, 0.46773174, 0.6312693655490875, 0.0, 0.5072948078314463, 0.51710665, 0.6550936996936798, 0.6550936996936798, 0.6527952, 0.4810375, 0.2862184, 0.6435097406307856, 0.4062555, 0.6550936996936798, 0.10686103, 0.54380745, 0.6079614, 0.6312693655490875, 0.5510100771983465, 0.35096872, 0.6435097406307856, 0.5762904849317338, 0.6312693655490875, 0.0, -0.0060678422, 0.22937447, 0.6312693655490875, 0.6550936996936798, 0.58155066, 0.4619514277825753, 0.6435097406307856, 0.3980902, 0.5922591835260391, 0.47341684216544744, 0.6312693655490875, 0.30582196, -0.53446436, 0.092172205, 0.6312693655490875, 0.6435097406307856, 0.5796937222282091, 0.6094586948553721, 0.5887972315152487, 0.648856414688958, 0.0, 0.6435097406307856, 0.6550936996936798, 0.41310826, 0.28446825842062634, 0.6312693655490875, 0.31563468277454376, 0.523982, 0.6550936996936798, 0.6312693655490875, 0.6176773130893707, 0.2348035, 0.4938421986169285, 0.10686103, 0.6312693655490875, 0.5238213315606117, 0.35866866, 0.16579767, 0.0, 0.600309652586778, 0.604546512166659, 0.6435097406307856, 0.6435097406307856, 0.6550936996936798, 0.5203869166887469, 0.5747692286968231, 0.6064685814910464, 0.6550936996936798, 0.08897919704516728, 0.6338256051143011, 0.35851061437278986, 0.61328435, 0.6312693655490875, 0.5658731, 0.5793291827042898, 0.6452559265825484, 0.513144171663693, 0.6016979813575745, 0.46210828, 0.6312693655490875, 0.24596193, 0.6550936996936798, 0.6312693655490875, 0.19462518, 0.6312693655490875, 0.42311608244975407, 0.11844499905904134, 0.6312693655490875, 0.5740846991539001, 0.54510695, 0.6027142, 0.38089696566263836, 0.10686103, 0.6550936996936798, 0.6550936996936798, 0.6435097406307856, 0.380894344051679, 0.6312693655490875, 0.6027142, 0.6058461964130402, 0.6550936996936798, 0.6550936996936798, 0.28502212713162106, 0.604546512166659, 0.24077173074086508, 0.50085646, 0.6302203287680944, 0.39792362, 0.6550936996936798, 0.2716479152441025, 0.6435097406307856, 0.4554349407553673, -0.44202805, 0.34553456, 0.6312693655490875, 0.5252828896045685, 0.6550936996936798, 0.6312693655490875, 0.5992823, 0.5471376180648804, 0.5135216, 0.6550936996936798, 0.3538498, 0.50735116, 0.6123747477928797, 0.6312693655490875, 0.530175, 0.6281154652436575, 0.42255040340953404, 0.047000274, 0.6550936996936798, 0.31268418, 0.530175, 0.5376252184311548, 0.5463251, 0.6312693655490875, 0.5148584, 0.6550936996936798, 0.46004927655061084, 0.6435097406307856, 0.5718874964449141, 0.533748209476471, -0.07659943, 0.6338256051143011, 0.56003445, 0.51806945, 0.6550936996936798, 0.5437939994864993, 0.5456229994694392, 0.6312693655490875, 0.6031349764929878, 0.6027142, 0.283705634996295, 0.5196807533502579, 0.5370741983254751, -0.07659943, -0.07659943, 0.5300940503676732, 0.5434985210498174, 0.56182754, 0.6312693655490875, 0.39497828, 0.6550936996936798, 0.6312693655490875, 0.6550936996936798, 0.531792, 0.5887972315152487, 0.6174010733763377, 0.6312693655490875, 0.6312693655490875, 0.6503636837005615, 0.51205075, 0.45771512, 0.17586231066120994, 0.6143806940979428, 0.5541626380549537, 0.6064685814910464, 0.6550936996936798, 0.6550936996936798, 0.48432408107651603, 0.6143174436357286, 0.11844499905904134, 0.41308627, 0.530175, 0.24549134096337688, 0.6167289184199439, 0.5905133618248833, 0.5435824521161892, 0.3812105491136511, 0.5305808583895365, 0.6258275674449073, 0.530175, 0.4273418312271436, 0.46372340122858685, 0.5700165232022604, 0.11844499905904134, 0.6029546095265282, 0.5899493594964346, 0.5520076274871826, 0.4325221851468086, 0.408079, 0.6550936996936798, 0.39681444, 0.6550936996936798, 0.6550936996936798, 0.52099484, 0.6338256051143011, 0.6550936996936798, 0.60997576, 0.4672704, 0.27845994, 0.5879977395137151, 0.530175, 0.5992823, 0.6435097406307856, 0.5675866372055478, 0.6312693655490875, 0.40249598, 0.46004927655061084]\n",
      "[0.0, 0.38079643, 0.41355053, 0.0, 0.0]\n"
     ]
    },
    {
     "name": "stderr",
     "output_type": "stream",
     "text": [
      "c:\\python\\python38\\lib\\runpy.py:193: UserWarning: [W008] Evaluating Token.similarity based on empty vectors.\n",
      "  return _run_code(code, main_globals, None,\n",
      "c:\\python\\python38\\lib\\runpy.py:193: UserWarning: [W008] Evaluating Token.similarity based on empty vectors.\n",
      "  return _run_code(code, main_globals, None,\n",
      "c:\\python\\python38\\lib\\runpy.py:193: UserWarning: [W008] Evaluating Token.similarity based on empty vectors.\n",
      "  return _run_code(code, main_globals, None,\n",
      "c:\\python\\python38\\lib\\runpy.py:193: UserWarning: [W008] Evaluating Token.similarity based on empty vectors.\n",
      "  return _run_code(code, main_globals, None,\n"
     ]
    }
   ],
   "source": [
    "# aqui iteramos sobre cada columna de 3\n",
    "\"\"\"\n",
    "for row in df_three[ans_col]:\n",
    "    master_row = cleanString(row) # la row limpia sin [] ni comas\n",
    "    print(\"============================== \"+master_row.upper()+\" ==============================\")\n",
    "    for line in df_two[ans_col]:\n",
    "        slave_row = cleanString(line)\n",
    "        if slave_row != \"\": # para evitar evaluaciones donde la fila este vacia\n",
    "            r = quickize(master_row, slave_row)\n",
    "            print('3 a 2: ' + str(r['total_sim_mean']))\n",
    "\"\"\"\n",
    "row = \"[hermano, grita, normal]\" # primera master_row\n",
    "master_row = cleanString(row) # la row limpia sin [] ni comas\n",
    "grades = [] # arreglo para almacenar las calificaciones\n",
    "print(\"============================== \"+master_row.upper()+\" ==============================\") \n",
    "for line in df_two[ans_col]:\n",
    "    slave_row = cleanString(line)\n",
    "    r = quickize(master_row, slave_row)\n",
    "    two.append((r['total_sim_mean']))"
   ]
  },
  {
   "cell_type": "code",
   "execution_count": null,
   "metadata": {},
   "outputs": [],
   "source": []
  }
 ],
 "metadata": {
  "kernelspec": {
   "display_name": "Python 3",
   "language": "python",
   "name": "python3"
  },
  "language_info": {
   "codemirror_mode": {
    "name": "ipython",
    "version": 3
   },
   "file_extension": ".py",
   "mimetype": "text/x-python",
   "name": "python",
   "nbconvert_exporter": "python",
   "pygments_lexer": "ipython3",
   "version": "3.8.2"
  }
 },
 "nbformat": 4,
 "nbformat_minor": 4
}
