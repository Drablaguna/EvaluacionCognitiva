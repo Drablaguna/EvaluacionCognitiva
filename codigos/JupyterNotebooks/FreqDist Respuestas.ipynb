{
 "cells": [
  {
   "cell_type": "code",
   "execution_count": 1,
   "metadata": {},
   "outputs": [],
   "source": [
    "from IPython.display import display\n",
    "import matplotlib.pyplot as plt\n",
    "import seaborn as sns\n",
    "import pandas as pd\n",
    "import spacy\n",
    "spa_lex = spacy.load('es_core_news_md')\n",
    "pd.set_option(\"display.max_rows\", None, \"display.max_columns\", None)"
   ]
  },
  {
   "cell_type": "code",
   "execution_count": 2,
   "metadata": {},
   "outputs": [],
   "source": [
    "import pyperclip"
   ]
  },
  {
   "cell_type": "code",
   "execution_count": 3,
   "metadata": {},
   "outputs": [],
   "source": [
    "import re"
   ]
  },
  {
   "cell_type": "markdown",
   "metadata": {},
   "source": [
    "# Dataframes"
   ]
  },
  {
   "cell_type": "code",
   "execution_count": 4,
   "metadata": {},
   "outputs": [],
   "source": [
    "# DATAFRAMES ORIGINALES\n",
    "\n",
    "df_prueba1 = pd.read_csv('../../Bases de datos/Secundaria/palabras_corregidas_secundaria.csv', encoding='latin1')\n",
    "df_prueba2 = pd.read_csv('../../Bases de datos/Secundaria/SECUNDARIA_PRUEBA2.csv', encoding='latin1')\n",
    "df_prueba3 = pd.read_csv('../../Bases de datos/Secundaria/SECUNDARIA_PRUEBA3.csv', encoding='latin1')\n",
    "\n",
    "# DATAFRAMES PRUEBA 1\n",
    "\n",
    "df_1_1 = df_prueba1['clean_por_que_pelota_que_canta']\n",
    "df_1_2 = df_prueba1['clean_explica_lo_que_quiere_decir_mi_hermanito_es_una_pelota_de_gritos']\n",
    "df_1_3 = df_prueba1['por_que_pelota_de_pelos']\n",
    "df_1_4 = df_prueba1['clean_explica_tu_respuesta_en_la_frase_pelota_de_plata']\n",
    "\n",
    "# DATAFRAMES PRUEBA 2\n",
    "\n",
    "df_2_1 = df_prueba2['c1t']\n",
    "df_2_2 = df_prueba2['c2t']\n",
    "df_2_3 = df_prueba2['c3t']\n",
    "df_2_4 = df_prueba2['c4t']\n",
    "df_2_5 = df_prueba2['c5t']\n",
    "df_2_6 = df_prueba2['c6t']\n",
    "df_2_7 = df_prueba2['c7t']\n",
    "df_2_8 = df_prueba2['c8t']\n",
    "df_2_9 = df_prueba2['c9t']\n",
    "df_2_10 = df_prueba2['c10t']\n",
    "df_2_11 = df_prueba2['c11t']\n",
    "df_2_12 = df_prueba2['c12t']\n",
    "df_2_13 = df_prueba2['c13t']\n",
    "df_2_14 = df_prueba2['c14t']\n",
    "df_2_15 = df_prueba2['c15t']\n",
    "df_2_16 = df_prueba2['c16t']\n",
    "df_2_17 = df_prueba2['c17t']\n",
    "df_2_18 = df_prueba2['c18t']\n",
    "\n",
    "# DATAFRAMES PRUEBA 3\n",
    "\n",
    "dfs_prueba3 = {}\n",
    "\n",
    "for x in range(1,28):\n",
    "    dfs_temp = []\n",
    "    dfs_temp.append(df_prueba3[f'que_significa_{x}'][(df_prueba3[f\"es_posible_{x}\"] == 'si')])\n",
    "    dfs_temp.append(df_prueba3[f'por_que_crees_que_si_o_no_es_posible_{x}'][(df_prueba3[f\"es_posible_{x}\"] == 'si')])\n",
    "    dfs_temp.append(df_prueba3[f'que_significa_{x}'][(df_prueba3[f\"es_posible_{x}\"] == 'no')])\n",
    "    dfs_temp.append(df_prueba3[f'por_que_crees_que_si_o_no_es_posible_{x}'][(df_prueba3[f\"es_posible_{x}\"] == 'no')])\n",
    "    dfs_prueba3[x] = dfs_temp\n",
    "\n",
    "# dfs_prueba3[27][0] # si\n",
    "# dfs_prueba3[27][1] # si\n",
    "# dfs_prueba3[27][2] # no\n",
    "# dfs_prueba3[27][3] # no"
   ]
  },
  {
   "cell_type": "markdown",
   "metadata": {},
   "source": [
    "# Funciones"
   ]
  },
  {
   "cell_type": "code",
   "execution_count": 5,
   "metadata": {},
   "outputs": [],
   "source": [
    "def extract_data(df_col:object, exceptions:dict={}) -> dict:\n",
    "    \"\"\"Extrae informacion de una col, combina palabras contenidas en exceptions\"\"\"\n",
    "    s = \"\"\"\"\"\"\n",
    "    for ans in df_col: # unir todas las cols en un texto gigante\n",
    "        s+=str(ans)\n",
    "        s+=\" \"\n",
    "    s = s.replace('  ',' ') # eliminar dobles espacios\n",
    "    \n",
    "    for key in exceptions: # unir resultados de palabras similares\n",
    "        print(f\"replace {exceptions[key]} con {key}\")\n",
    "        s = s.replace(exceptions[key],key)\n",
    "    doc = spa_lex(s)\n",
    "    \n",
    "    # POS Tagging\n",
    "    sustantivos = [token.text for token in doc if token.pos_ == \"NOUN\"]\n",
    "    verbos =      [token.lemma_ for token in doc if token.pos_ == \"VERB\"]\n",
    "    adjetivos =   [token.lemma_ for token in doc if token.pos_ == \"ADJ\"]\n",
    "    adverbios =   [token.lemma_ for token in doc if token.pos_ == \"ADV\"]\n",
    "    \n",
    "    # limpiar texto\n",
    "    clean_tokens = []\n",
    "    for token in doc:\n",
    "        # CRITERIO DE CLASIFICACION DE STOPWORD\n",
    "        if token.is_stop or token.is_punct or token.is_quote or len(token) == 1 or token.text in ['(',')','!']:\n",
    "            pass # stopword\n",
    "        else:\n",
    "            clean_tokens.append(token.text)\n",
    "    results = {'tokens':clean_tokens,'sustantivos':sustantivos,'verbos':verbos,'adjetivos':adjetivos,'adverbios':adverbios}\n",
    "    return results"
   ]
  },
  {
   "cell_type": "code",
   "execution_count": 6,
   "metadata": {},
   "outputs": [],
   "source": [
    "def plot_freq_dist(array:list, title:str='FreqDist', plot_filename:str='FreqDist', most_frequent:int=0, plot_size:tuple=(16,8), print_query:bool=True, print_df:bool=False, save_fig:bool=True) -> None:\n",
    "    \"\"\"Obtiene una freqdist de cada token, imprime las N mas frecuentes, la col origen y genera la grafica\"\"\"\n",
    "    unique = set(array)\n",
    "    instances = []\n",
    "    \n",
    "    array_in_text = \"\"\"\"\"\"\n",
    "    array_in_text += ' ' # se agrega un espacio para que entre la regex\n",
    "    array_in_text += '  '.join(array)\n",
    "    array_in_text += ' ' # se agrega un espacio para que entre la regex\n",
    "    for unique_elem in unique: # obtener el conteo de elems\n",
    "        instances.append(len(re.findall(f'\\s{unique_elem}\\s',array_in_text)))\n",
    "        \n",
    "    data = {'Token':list(unique), 'Instancias':instances}\n",
    "    df_data = pd.DataFrame(data)\n",
    "    df_data = df_data.sort_values(by=['Instancias'], ascending=False)\n",
    "    query = df_data.head(most_frequent) # los N mas frecuentes\n",
    "    if print_query is True: display(query) # imprime el resultado de la query\n",
    "    if print_df is True: display(df_data)  # imprime el dataframe completo de la freqdist\n",
    "        \n",
    "    plt.figure(figsize=(plot_size[0], plot_size[1])) # tamano del plot\n",
    "    ax = sns.barplot(x='Token', y='Instancias', data=query).set_title(title)\n",
    "    if save_fig:\n",
    "        plt.savefig(f'{plot_filename}.png', dpi=300)"
   ]
  },
  {
   "cell_type": "markdown",
   "metadata": {},
   "source": [
    "# Generar xlsx de Resultados (crudos)"
   ]
  },
  {
   "cell_type": "code",
   "execution_count": 7,
   "metadata": {},
   "outputs": [],
   "source": [
    "# def generate_df(array:list) -> object:\n",
    "#     \"\"\"Genera un dataframe con freqdist con cols 'Token' e 'Instancias' por cada col de info\"\"\"\n",
    "#     unique = set(array)\n",
    "#     instances = []\n",
    "#     array_in_text = \"\"\"\"\"\"\n",
    "#     array_in_text += ' ' # se agrega un espacio para que entre la regex\n",
    "#     array_in_text += '  '.join(array)\n",
    "#     array_in_text += ' ' # se agrega un espacio para que entre la regex\n",
    "#     for unique_elem in unique: # obtener el conteo de elems\n",
    "#         instances.append(len(re.findall(f'\\s{unique_elem}\\s',array_in_text)))\n",
    "#     data = {'Token':list(unique), 'Instancias':instances}\n",
    "#     df_data = pd.DataFrame(data)\n",
    "#     df_data = df_data.sort_values(by=['Instancias'], ascending=False)\n",
    "#     return df_data\n",
    "\n",
    "\n",
    "# data = extract_data(df_1_1)\n",
    "# df_1_1_sus = generate_df(data['sustantivos'])\n",
    "# df_1_1_ver = generate_df(data['verbos'])\n",
    "# df_1_1_adj = generate_df(data['adjetivos'])\n",
    "# df_1_1_adv = generate_df(data['adverbios'])\n",
    "\n",
    "# data = extract_data(df_1_2)\n",
    "# df_1_2_sus = generate_df(data['sustantivos'])\n",
    "# df_1_2_ver = generate_df(data['verbos'])\n",
    "# df_1_2_adj = generate_df(data['adjetivos'])\n",
    "# df_1_2_adv = generate_df(data['adverbios'])\n",
    "\n",
    "# data = extract_data(df_1_3)\n",
    "# df_1_3_sus = generate_df(data['sustantivos'])\n",
    "# df_1_3_ver = generate_df(data['verbos'])\n",
    "# df_1_3_adj = generate_df(data['adjetivos'])\n",
    "# df_1_3_adv = generate_df(data['adverbios'])\n",
    "\n",
    "# data = extract_data(df_1_4)\n",
    "# df_1_4_sus = generate_df(data['sustantivos'])\n",
    "# df_1_4_ver = generate_df(data['verbos'])\n",
    "# df_1_4_adj = generate_df(data['adjetivos'])\n",
    "# df_1_4_adv = generate_df(data['adverbios'])\n",
    "\n",
    "# data = extract_data(df_2_1)\n",
    "# df_2_1_sus = generate_df(data['sustantivos'])\n",
    "# df_2_1_ver = generate_df(data['verbos'])\n",
    "# df_2_1_adj = generate_df(data['adjetivos'])\n",
    "# df_2_1_adv = generate_df(data['adverbios'])\n",
    "\n",
    "# data = extract_data(df_2_2)\n",
    "# df_2_2_sus = generate_df(data['sustantivos'])\n",
    "# df_2_2_ver = generate_df(data['verbos'])\n",
    "# df_2_2_adj = generate_df(data['adjetivos'])\n",
    "# df_2_2_adv = generate_df(data['adverbios'])\n",
    "\n",
    "# data = extract_data(df_2_3)\n",
    "# df_2_3_sus = generate_df(data['sustantivos'])\n",
    "# df_2_3_ver = generate_df(data['verbos'])\n",
    "# df_2_3_adj = generate_df(data['adjetivos'])\n",
    "# df_2_3_adv = generate_df(data['adverbios'])\n",
    "\n",
    "# data = extract_data(df_2_4)\n",
    "# df_2_4_sus = generate_df(data['sustantivos'])\n",
    "# df_2_4_ver = generate_df(data['verbos'])\n",
    "# df_2_4_adj = generate_df(data['adjetivos'])\n",
    "# df_2_4_adv = generate_df(data['adverbios'])\n",
    "\n",
    "# data = extract_data(df_2_5)\n",
    "# df_2_5_sus = generate_df(data['sustantivos'])\n",
    "# df_2_5_ver = generate_df(data['verbos'])\n",
    "# df_2_5_adj = generate_df(data['adjetivos'])\n",
    "# df_2_5_adv = generate_df(data['adverbios'])\n",
    "\n",
    "# data = extract_data(df_2_6)\n",
    "# df_2_6_sus = generate_df(data['sustantivos'])\n",
    "# df_2_6_ver = generate_df(data['verbos'])\n",
    "# df_2_6_adj = generate_df(data['adjetivos'])\n",
    "# df_2_6_adv = generate_df(data['adverbios'])\n",
    "\n",
    "# data = extract_data(df_2_7)\n",
    "# df_2_7_sus = generate_df(data['sustantivos'])\n",
    "# df_2_7_ver = generate_df(data['verbos'])\n",
    "# df_2_7_adj = generate_df(data['adjetivos'])\n",
    "# df_2_7_adv = generate_df(data['adverbios'])\n",
    "\n",
    "# data = extract_data(df_2_8)\n",
    "# df_2_8_sus = generate_df(data['sustantivos'])\n",
    "# df_2_8_ver = generate_df(data['verbos'])\n",
    "# df_2_8_adj = generate_df(data['adjetivos'])\n",
    "# df_2_8_adv = generate_df(data['adverbios'])\n",
    "\n",
    "# data = extract_data(df_2_9)\n",
    "# df_2_9_sus = generate_df(data['sustantivos'])\n",
    "# df_2_9_ver = generate_df(data['verbos'])\n",
    "# df_2_9_adj = generate_df(data['adjetivos'])\n",
    "# df_2_9_adv = generate_df(data['adverbios'])\n",
    "\n",
    "# data = extract_data(df_2_10)\n",
    "# df_2_10_sus = generate_df(data['sustantivos'])\n",
    "# df_2_10_ver = generate_df(data['verbos'])\n",
    "# df_2_10_adj = generate_df(data['adjetivos'])\n",
    "# df_2_10_adv = generate_df(data['adverbios'])\n",
    "\n",
    "# data = extract_data(df_2_11)\n",
    "# df_2_11_sus = generate_df(data['sustantivos'])\n",
    "# df_2_11_ver = generate_df(data['verbos'])\n",
    "# df_2_11_adj = generate_df(data['adjetivos'])\n",
    "# df_2_11_adv = generate_df(data['adverbios'])\n",
    "\n",
    "# data = extract_data(df_2_12)\n",
    "# df_2_12_sus = generate_df(data['sustantivos'])\n",
    "# df_2_12_ver = generate_df(data['verbos'])\n",
    "# df_2_12_adj = generate_df(data['adjetivos'])\n",
    "# df_2_12_adv = generate_df(data['adverbios'])\n",
    "\n",
    "# data = extract_data(df_2_13)\n",
    "# df_2_13_sus = generate_df(data['sustantivos'])\n",
    "# df_2_13_ver = generate_df(data['verbos'])\n",
    "# df_2_13_adj = generate_df(data['adjetivos'])\n",
    "# df_2_13_adv = generate_df(data['adverbios'])\n",
    "\n",
    "# data = extract_data(df_2_14)\n",
    "# df_2_14_sus = generate_df(data['sustantivos'])\n",
    "# df_2_14_ver = generate_df(data['verbos'])\n",
    "# df_2_14_adj = generate_df(data['adjetivos'])\n",
    "# df_2_14_adv = generate_df(data['adverbios'])\n",
    "\n",
    "# data = extract_data(df_2_15)\n",
    "# df_2_15_sus = generate_df(data['sustantivos'])\n",
    "# df_2_15_ver = generate_df(data['verbos'])\n",
    "# df_2_15_adj = generate_df(data['adjetivos'])\n",
    "# df_2_15_adv = generate_df(data['adverbios'])\n",
    "\n",
    "# data = extract_data(df_2_16)\n",
    "# df_2_16_sus = generate_df(data['sustantivos'])\n",
    "# df_2_16_ver = generate_df(data['verbos'])\n",
    "# df_2_16_adj = generate_df(data['adjetivos'])\n",
    "# df_2_16_adv = generate_df(data['adverbios'])\n",
    "\n",
    "# data = extract_data(df_2_17)\n",
    "# df_2_17_sus = generate_df(data['sustantivos'])\n",
    "# df_2_17_ver = generate_df(data['verbos'])\n",
    "# df_2_17_adj = generate_df(data['adjetivos'])\n",
    "# df_2_17_adv = generate_df(data['adverbios'])\n",
    "\n",
    "# data = extract_data(df_2_18)\n",
    "# df_2_18_sus = generate_df(data['sustantivos'])\n",
    "# df_2_18_ver = generate_df(data['verbos'])\n",
    "# df_2_18_adj = generate_df(data['adjetivos'])\n",
    "# df_2_18_adv = generate_df(data['adverbios'])\n",
    "\n",
    "\n",
    "# all_dfs = {\n",
    "#     'df_1_1_sus_token': df_1_1_sus['Token'],\n",
    "#     'df_1_1_sus_count': df_1_1_sus['Instancias'],\n",
    "#     'df_1_1_ver_token': df_1_1_ver['Token'],\n",
    "#     'df_1_1_ver_count': df_1_1_ver['Instancias'],\n",
    "#     'df_1_1_adj_token': df_1_1_adj['Token'],\n",
    "#     'df_1_1_adj_count': df_1_1_adj['Instancias'],\n",
    "#     'df_1_1_adv_token': df_1_1_adv['Token'],\n",
    "#     'df_1_1_adv_count': df_1_1_adv['Instancias'],\n",
    "#     'df_1_2_sus_token': df_1_2_sus['Token'],\n",
    "#     'df_1_2_sus_count': df_1_2_sus['Instancias'],\n",
    "#     'df_1_2_ver_token': df_1_2_ver['Token'],\n",
    "#     'df_1_2_ver_count': df_1_2_ver['Instancias'],\n",
    "#     'df_1_2_adj_token': df_1_2_adj['Token'],\n",
    "#     'df_1_2_adj_count': df_1_2_adj['Instancias'],\n",
    "#     'df_1_2_adv_token': df_1_2_adv['Token'],\n",
    "#     'df_1_2_adv_count': df_1_2_adv['Instancias'],\n",
    "#     'df_1_3_sus_token': df_1_3_sus['Token'],\n",
    "#     'df_1_3_sus_count': df_1_3_sus['Instancias'],\n",
    "#     'df_1_3_ver_token': df_1_3_ver['Token'],\n",
    "#     'df_1_3_ver_count': df_1_3_ver['Instancias'],\n",
    "#     'df_1_3_adj_token': df_1_3_adj['Token'],\n",
    "#     'df_1_3_adj_count': df_1_3_adj['Instancias'],\n",
    "#     'df_1_3_adv_token': df_1_3_adv['Token'],\n",
    "#     'df_1_3_adv_count': df_1_3_adv['Instancias'],\n",
    "#     'df_1_4_sus_token': df_1_4_sus['Token'],\n",
    "#     'df_1_4_sus_count': df_1_4_sus['Instancias'],\n",
    "#     'df_1_4_ver_token': df_1_4_ver['Token'],\n",
    "#     'df_1_4_ver_count': df_1_4_ver['Instancias'],\n",
    "#     'df_1_4_adj_token': df_1_4_adj['Token'],\n",
    "#     'df_1_4_adj_count': df_1_4_adj['Instancias'],\n",
    "#     'df_1_4_adv_token': df_1_4_adv['Token'],\n",
    "#     'df_1_4_adv_count': df_1_4_adv['Instancias'],\n",
    "#     'df_2_1_sus_token': df_2_1_sus['Token'],\n",
    "#     'df_2_1_sus_count': df_2_1_sus['Instancias'],\n",
    "#     'df_2_1_ver_token': df_2_1_ver['Token'],\n",
    "#     'df_2_1_ver_count': df_2_1_ver['Instancias'],\n",
    "#     'df_2_1_adj_token': df_2_1_adj['Token'],\n",
    "#     'df_2_1_adj_count': df_2_1_adj['Instancias'],\n",
    "#     'df_2_1_adv_token': df_2_1_adv['Token'],\n",
    "#     'df_2_1_adv_count': df_2_1_adv['Instancias'],\n",
    "#     'df_2_2_sus_token': df_2_2_sus['Token'],\n",
    "#     'df_2_2_sus_count': df_2_2_sus['Instancias'],\n",
    "#     'df_2_2_ver_token': df_2_2_ver['Token'],\n",
    "#     'df_2_2_ver_count': df_2_2_ver['Instancias'],\n",
    "#     'df_2_2_adj_token': df_2_2_adj['Token'],\n",
    "#     'df_2_2_adj_count': df_2_2_adj['Instancias'],\n",
    "#     'df_2_2_adv_token': df_2_2_adv['Token'],\n",
    "#     'df_2_2_adv_count': df_2_2_adv['Instancias'],\n",
    "#     'df_2_3_sus_token': df_2_3_sus['Token'],\n",
    "#     'df_2_3_sus_count': df_2_3_sus['Instancias'],\n",
    "#     'df_2_3_ver_token': df_2_3_ver['Token'],\n",
    "#     'df_2_3_ver_count': df_2_3_ver['Instancias'],\n",
    "#     'df_2_3_adj_token': df_2_3_adj['Token'],\n",
    "#     'df_2_3_adj_count': df_2_3_adj['Instancias'],\n",
    "#     'df_2_3_adv_token': df_2_3_adv['Token'],\n",
    "#     'df_2_3_adv_count': df_2_3_adv['Instancias'],\n",
    "#     'df_2_4_sus_token': df_2_4_sus['Token'],\n",
    "#     'df_2_4_sus_count': df_2_4_sus['Instancias'],\n",
    "#     'df_2_4_ver_token': df_2_4_ver['Token'],\n",
    "#     'df_2_4_ver_count': df_2_4_ver['Instancias'],\n",
    "#     'df_2_4_adj_token': df_2_4_adj['Token'],\n",
    "#     'df_2_4_adj_count': df_2_4_adj['Instancias'],\n",
    "#     'df_2_4_adv_token': df_2_4_adv['Token'],\n",
    "#     'df_2_4_adv_count': df_2_4_adv['Instancias'],\n",
    "#     'df_2_5_sus_token': df_2_5_sus['Token'],\n",
    "#     'df_2_5_sus_count': df_2_5_sus['Instancias'],\n",
    "#     'df_2_5_ver_token': df_2_5_ver['Token'],\n",
    "#     'df_2_5_ver_count': df_2_5_ver['Instancias'],\n",
    "#     'df_2_5_adj_token': df_2_5_adj['Token'],\n",
    "#     'df_2_5_adj_count': df_2_5_adj['Instancias'],\n",
    "#     'df_2_5_adv_token': df_2_5_adv['Token'],\n",
    "#     'df_2_5_adv_count': df_2_5_adv['Instancias'],\n",
    "#     'df_2_6_sus_token': df_2_6_sus['Token'],\n",
    "#     'df_2_6_sus_count': df_2_6_sus['Instancias'],\n",
    "#     'df_2_6_ver_token': df_2_6_ver['Token'],\n",
    "#     'df_2_6_ver_count': df_2_6_ver['Instancias'],\n",
    "#     'df_2_6_adj_token': df_2_6_adj['Token'],\n",
    "#     'df_2_6_adj_count': df_2_6_adj['Instancias'],\n",
    "#     'df_2_6_adv_token': df_2_6_adv['Token'],\n",
    "#     'df_2_6_adv_count': df_2_6_adv['Instancias'],\n",
    "#     'df_2_7_sus_token': df_2_7_sus['Token'],\n",
    "#     'df_2_7_sus_count': df_2_7_sus['Instancias'],\n",
    "#     'df_2_7_ver_token': df_2_7_ver['Token'],\n",
    "#     'df_2_7_ver_count': df_2_7_ver['Instancias'],\n",
    "#     'df_2_7_adj_token': df_2_7_adj['Token'],\n",
    "#     'df_2_7_adj_count': df_2_7_adj['Instancias'],\n",
    "#     'df_2_7_adv_token': df_2_7_adv['Token'],\n",
    "#     'df_2_7_adv_count': df_2_7_adv['Instancias'],\n",
    "#     'df_2_8_sus_token': df_2_8_sus['Token'],\n",
    "#     'df_2_8_sus_count': df_2_8_sus['Instancias'],\n",
    "#     'df_2_8_ver_token': df_2_8_ver['Token'],\n",
    "#     'df_2_8_ver_count': df_2_8_ver['Instancias'],\n",
    "#     'df_2_8_adj_token': df_2_8_adj['Token'],\n",
    "#     'df_2_8_adj_count': df_2_8_adj['Instancias'],\n",
    "#     'df_2_8_adv_token': df_2_8_adv['Token'],\n",
    "#     'df_2_8_adv_count': df_2_8_adv['Instancias'],\n",
    "#     'df_2_9_sus_token': df_2_9_sus['Token'],\n",
    "#     'df_2_9_sus_count': df_2_9_sus['Instancias'],\n",
    "#     'df_2_9_ver_token': df_2_9_ver['Token'],\n",
    "#     'df_2_9_ver_count': df_2_9_ver['Instancias'],\n",
    "#     'df_2_9_adj_token': df_2_9_adj['Token'],\n",
    "#     'df_2_9_adj_count': df_2_9_adj['Instancias'],\n",
    "#     'df_2_9_adv_token': df_2_9_adv['Token'],\n",
    "#     'df_2_9_adv_count': df_2_9_adv['Instancias'],\n",
    "#     'df_2_10_sus_token': df_2_10_sus['Token'],\n",
    "#     'df_2_10_sus_count': df_2_10_sus['Instancias'],\n",
    "#     'df_2_10_ver_token': df_2_10_ver['Token'],\n",
    "#     'df_2_10_ver_count': df_2_10_ver['Instancias'],\n",
    "#     'df_2_10_adj_token': df_2_10_adj['Token'],\n",
    "#     'df_2_10_adj_count': df_2_10_adj['Instancias'],\n",
    "#     'df_2_10_adv_token': df_2_10_adv['Token'],\n",
    "#     'df_2_10_adv_count': df_2_10_adv['Instancias'],\n",
    "#     'df_2_11_sus_token': df_2_11_sus['Token'],\n",
    "#     'df_2_11_sus_count': df_2_11_sus['Instancias'],\n",
    "#     'df_2_11_ver_token': df_2_11_ver['Token'],\n",
    "#     'df_2_11_ver_count': df_2_11_ver['Instancias'],\n",
    "#     'df_2_11_adj_token': df_2_11_adj['Token'],\n",
    "#     'df_2_11_adj_count': df_2_11_adj['Instancias'],\n",
    "#     'df_2_11_adv_token': df_2_11_adv['Token'],\n",
    "#     'df_2_11_adv_count': df_2_11_adv['Instancias'],\n",
    "#     'df_2_12_sus_token': df_2_12_sus['Token'],\n",
    "#     'df_2_12_sus_count': df_2_12_sus['Instancias'],\n",
    "#     'df_2_12_ver_token': df_2_12_ver['Token'],\n",
    "#     'df_2_12_ver_count': df_2_12_ver['Instancias'],\n",
    "#     'df_2_12_adj_token': df_2_12_adj['Token'],\n",
    "#     'df_2_12_adj_count': df_2_12_adj['Instancias'],\n",
    "#     'df_2_12_adv_token': df_2_12_adv['Token'],\n",
    "#     'df_2_12_adv_count': df_2_12_adv['Instancias'],\n",
    "#     'df_2_13_sus_token': df_2_13_sus['Token'],\n",
    "#     'df_2_13_sus_count': df_2_13_sus['Instancias'],\n",
    "#     'df_2_13_ver_token': df_2_13_ver['Token'],\n",
    "#     'df_2_13_ver_count': df_2_13_ver['Instancias'],\n",
    "#     'df_2_13_adj_token': df_2_13_adj['Token'],\n",
    "#     'df_2_13_adj_count': df_2_13_adj['Instancias'],\n",
    "#     'df_2_13_adv_token': df_2_13_adv['Token'],\n",
    "#     'df_2_13_adv_count': df_2_13_adv['Instancias'],\n",
    "#     'df_2_14_sus_token': df_2_14_sus['Token'],\n",
    "#     'df_2_14_sus_count': df_2_14_sus['Instancias'],\n",
    "#     'df_2_14_ver_token': df_2_14_ver['Token'],\n",
    "#     'df_2_14_ver_count': df_2_14_ver['Instancias'],\n",
    "#     'df_2_14_adj_token': df_2_14_adj['Token'],\n",
    "#     'df_2_14_adj_count': df_2_14_adj['Instancias'],\n",
    "#     'df_2_14_adv_token': df_2_14_adv['Token'],\n",
    "#     'df_2_14_adv_count': df_2_14_adv['Instancias'],\n",
    "#     'df_2_15_sus_token': df_2_15_sus['Token'],\n",
    "#     'df_2_15_sus_count': df_2_15_sus['Instancias'],\n",
    "#     'df_2_15_ver_token': df_2_15_ver['Token'],\n",
    "#     'df_2_15_ver_count': df_2_15_ver['Instancias'],\n",
    "#     'df_2_15_adj_token': df_2_15_adj['Token'],\n",
    "#     'df_2_15_adj_count': df_2_15_adj['Instancias'],\n",
    "#     'df_2_15_adv_token': df_2_15_adv['Token'],\n",
    "#     'df_2_15_adv_count': df_2_15_adv['Instancias'],\n",
    "#     'df_2_16_sus_token': df_2_16_sus['Token'],\n",
    "#     'df_2_16_sus_count': df_2_16_sus['Instancias'],\n",
    "#     'df_2_16_ver_token': df_2_16_ver['Token'],\n",
    "#     'df_2_16_ver_count': df_2_16_ver['Instancias'],\n",
    "#     'df_2_16_adj_token': df_2_16_adj['Token'],\n",
    "#     'df_2_16_adj_count': df_2_16_adj['Instancias'],\n",
    "#     'df_2_16_adv_token': df_2_16_adv['Token'],\n",
    "#     'df_2_16_adv_count': df_2_16_adv['Instancias'],\n",
    "#     'df_2_17_sus_token': df_2_17_sus['Token'],\n",
    "#     'df_2_17_sus_count': df_2_17_sus['Instancias'],\n",
    "#     'df_2_17_ver_token': df_2_17_ver['Token'],\n",
    "#     'df_2_17_ver_count': df_2_17_ver['Instancias'],\n",
    "#     'df_2_17_adj_token': df_2_17_adj['Token'],\n",
    "#     'df_2_17_adj_count': df_2_17_adj['Instancias'],\n",
    "#     'df_2_17_adv_token': df_2_17_adv['Token'],\n",
    "#     'df_2_17_adv_count': df_2_17_adv['Instancias'],\n",
    "#     'df_2_18_sus_token': df_2_18_sus['Token'],\n",
    "#     'df_2_18_sus_count': df_2_18_sus['Instancias'],\n",
    "#     'df_2_18_ver_token': df_2_18_ver['Token'],\n",
    "#     'df_2_18_ver_count': df_2_18_ver['Instancias'],\n",
    "#     'df_2_18_adj_token': df_2_18_adj['Token'],\n",
    "#     'df_2_18_adj_count': df_2_18_adj['Instancias'],\n",
    "#     'df_2_18_adv_token': df_2_18_adv['Token'],\n",
    "#     'df_2_18_adv_count': df_2_18_adv['Instancias']\n",
    "# }"
   ]
  },
  {
   "cell_type": "code",
   "execution_count": 8,
   "metadata": {},
   "outputs": [],
   "source": [
    "# for x in range(1,28):\n",
    "#     for y in range(0,4):\n",
    "#         data = extract_data(dfs_prueba3[x][y])\n",
    "#         sus = generate_df(data['sustantivos'])\n",
    "#         ver = generate_df(data['verbos'])\n",
    "#         adj = generate_df(data['adjetivos'])\n",
    "#         adv = generate_df(data['adverbios'])\n",
    "#         all_dfs[f'df_3_{x}_{y}_sus_token'] = sus['Token']\n",
    "#         all_dfs[f'df_3_{x}_{y}_sus_count'] = sus['Instancias']\n",
    "#         all_dfs[f'df_3_{x}_{y}_ver_token'] = ver['Token']\n",
    "#         all_dfs[f'df_3_{x}_{y}_ver_count'] = ver['Instancias']\n",
    "#         all_dfs[f'df_3_{x}_{y}_adj_token'] = adj['Token']\n",
    "#         all_dfs[f'df_3_{x}_{y}_adj_count'] = adj['Instancias']\n",
    "#         all_dfs[f'df_3_{x}_{y}_adv_token'] = adv['Token']\n",
    "#         all_dfs[f'df_3_{x}_{y}_adv_count'] = adv['Instancias']"
   ]
  },
  {
   "cell_type": "code",
   "execution_count": 9,
   "metadata": {},
   "outputs": [],
   "source": [
    "# final_df = pd.concat(all_dfs, axis=1)\n",
    "# final_df.to_csv(\"C:/Users/Drablaguna/Desktop/FreqDistFinal.csv\", index=False)"
   ]
  },
  {
   "cell_type": "markdown",
   "metadata": {},
   "source": [
    "# RESULTADOS\n",
    "---\n",
    "```\n",
    "DATAFRAMES PRUEBA 1\n",
    "\n",
    "df_1_1 = df_prueba1['clean_por_que_pelota_que_canta']\n",
    "df_1_2 = df_prueba1['clean_explica_lo_que_quiere_decir_mi_hermanito_es_una_pelota_de_gritos']\n",
    "df_1_3 = df_prueba1['por_que_pelota_de_pelos']\n",
    "df_1_4 = df_prueba1['clean_explica_tu_respuesta_en_la_frase_pelota_de_plata']\n",
    "\n",
    "DATAFRAMES PRUEBA 2\n",
    "\n",
    "df_2_1 = df_prueba2['c1t']\n",
    "df_2_2 = df_prueba2['c2t']\n",
    "df_2_3 = df_prueba2['c3t']\n",
    "df_2_4 = df_prueba2['c4t']\n",
    "df_2_5 = df_prueba2['c5t']\n",
    "df_2_6 = df_prueba2['c6t']\n",
    "df_2_7 = df_prueba2['c7t']\n",
    "df_2_8 = df_prueba2['c8t']\n",
    "df_2_9 = df_prueba2['c9t']\n",
    "df_2_10 = df_prueba2['c10t']\n",
    "df_2_11 = df_prueba2['c11t']\n",
    "df_2_12 = df_prueba2['c12t']\n",
    "df_2_13 = df_prueba2['c13t']\n",
    "df_2_14 = df_prueba2['c14t']\n",
    "df_2_15 = df_prueba2['c15t']\n",
    "df_2_16 = df_prueba2['c16t']\n",
    "df_2_17 = df_prueba2['c17t']\n",
    "df_2_18 = df_prueba2['c18t']\n",
    "\n",
    "DATAFRAMES PRUEBA 3\n",
    "\n",
    "dfs_prueba3 = {}\n",
    "\n",
    "for x in range(1,28):\n",
    "    dfs_temp = []\n",
    "    dfs_temp.append(df_prueba3[f'que_significa_{x}'][(df_prueba3[f\"es_posible_{x}\"] == 'si')])\n",
    "    dfs_temp.append(df_prueba3[f'por_que_crees_que_si_o_no_es_posible_{x}'][(df_prueba3[f\"es_posible_{x}\"] == 'si')])\n",
    "    dfs_temp.append(df_prueba3[f'que_significa_{x}'][(df_prueba3[f\"es_posible_{x}\"] == 'no')])\n",
    "    dfs_temp.append(df_prueba3[f'por_que_crees_que_si_o_no_es_posible_{x}'][(df_prueba3[f\"es_posible_{x}\"] == 'no')])\n",
    "    dfs_prueba3[x] = dfs_temp\n",
    "\n",
    "dfs_prueba3[27][0] # si\n",
    "dfs_prueba3[27][1] # si\n",
    "dfs_prueba3[27][2] # no\n",
    "dfs_prueba3[27][3] # no\n",
    "```"
   ]
  },
  {
   "cell_type": "markdown",
   "metadata": {},
   "source": [
    "### Resultados Prueba 1"
   ]
  },
  {
   "cell_type": "code",
   "execution_count": 10,
   "metadata": {},
   "outputs": [],
   "source": [
    "# Banderas globales para todas las extracciones de info\n",
    "most_common = 20\n",
    "print_df_var = False\n",
    "save_plot = False"
   ]
  },
  {
   "cell_type": "code",
   "execution_count": 19,
   "metadata": {
    "collapsed": true
   },
   "outputs": [
    {
     "data": {
      "text/html": [
       "<div>\n",
       "<style scoped>\n",
       "    .dataframe tbody tr th:only-of-type {\n",
       "        vertical-align: middle;\n",
       "    }\n",
       "\n",
       "    .dataframe tbody tr th {\n",
       "        vertical-align: top;\n",
       "    }\n",
       "\n",
       "    .dataframe thead th {\n",
       "        text-align: right;\n",
       "    }\n",
       "</style>\n",
       "<table border=\"1\" class=\"dataframe\">\n",
       "  <thead>\n",
       "    <tr style=\"text-align: right;\">\n",
       "      <th></th>\n",
       "      <th>Token</th>\n",
       "      <th>Instancias</th>\n",
       "    </tr>\n",
       "  </thead>\n",
       "  <tbody>\n",
       "    <tr>\n",
       "      <th>112</th>\n",
       "      <td>pelota</td>\n",
       "      <td>211</td>\n",
       "    </tr>\n",
       "    <tr>\n",
       "      <th>115</th>\n",
       "      <td>madre</td>\n",
       "      <td>47</td>\n",
       "    </tr>\n",
       "    <tr>\n",
       "      <th>77</th>\n",
       "      <td>sentido</td>\n",
       "      <td>45</td>\n",
       "    </tr>\n",
       "    <tr>\n",
       "      <th>75</th>\n",
       "      <td>persona</td>\n",
       "      <td>33</td>\n",
       "    </tr>\n",
       "    <tr>\n",
       "      <th>78</th>\n",
       "      <td>metáfora</td>\n",
       "      <td>24</td>\n",
       "    </tr>\n",
       "    <tr>\n",
       "      <th>44</th>\n",
       "      <td>sonido</td>\n",
       "      <td>16</td>\n",
       "    </tr>\n",
       "    <tr>\n",
       "      <th>101</th>\n",
       "      <td>objeto</td>\n",
       "      <td>12</td>\n",
       "    </tr>\n",
       "    <tr>\n",
       "      <th>103</th>\n",
       "      <td>poema</td>\n",
       "      <td>12</td>\n",
       "    </tr>\n",
       "    <tr>\n",
       "      <th>123</th>\n",
       "      <td>frase</td>\n",
       "      <td>11</td>\n",
       "    </tr>\n",
       "    <tr>\n",
       "      <th>96</th>\n",
       "      <td>palabra</td>\n",
       "      <td>10</td>\n",
       "    </tr>\n",
       "    <tr>\n",
       "      <th>108</th>\n",
       "      <td>forma</td>\n",
       "      <td>9</td>\n",
       "    </tr>\n",
       "    <tr>\n",
       "      <th>53</th>\n",
       "      <td>cosas</td>\n",
       "      <td>9</td>\n",
       "    </tr>\n",
       "    <tr>\n",
       "      <th>63</th>\n",
       "      <td>vida</td>\n",
       "      <td>8</td>\n",
       "    </tr>\n",
       "    <tr>\n",
       "      <th>33</th>\n",
       "      <td>canción</td>\n",
       "      <td>8</td>\n",
       "    </tr>\n",
       "    <tr>\n",
       "      <th>122</th>\n",
       "      <td>ruido</td>\n",
       "      <td>7</td>\n",
       "    </tr>\n",
       "    <tr>\n",
       "      <th>5</th>\n",
       "      <td>vez</td>\n",
       "      <td>6</td>\n",
       "    </tr>\n",
       "    <tr>\n",
       "      <th>89</th>\n",
       "      <td>tal</td>\n",
       "      <td>6</td>\n",
       "    </tr>\n",
       "    <tr>\n",
       "      <th>9</th>\n",
       "      <td>familia</td>\n",
       "      <td>6</td>\n",
       "    </tr>\n",
       "    <tr>\n",
       "      <th>114</th>\n",
       "      <td>objetos</td>\n",
       "      <td>4</td>\n",
       "    </tr>\n",
       "    <tr>\n",
       "      <th>58</th>\n",
       "      <td>boca</td>\n",
       "      <td>4</td>\n",
       "    </tr>\n",
       "  </tbody>\n",
       "</table>\n",
       "</div>"
      ],
      "text/plain": [
       "        Token  Instancias\n",
       "112    pelota         211\n",
       "115     madre          47\n",
       "77    sentido          45\n",
       "75    persona          33\n",
       "78   metáfora          24\n",
       "44     sonido          16\n",
       "101    objeto          12\n",
       "103     poema          12\n",
       "123     frase          11\n",
       "96    palabra          10\n",
       "108     forma           9\n",
       "53      cosas           9\n",
       "63       vida           8\n",
       "33    canción           8\n",
       "122     ruido           7\n",
       "5         vez           6\n",
       "89        tal           6\n",
       "9     familia           6\n",
       "114   objetos           4\n",
       "58       boca           4"
      ]
     },
     "metadata": {},
     "output_type": "display_data"
    },
    {
     "data": {
      "image/png": "[encoded data removed]",
      "text/plain": [
       "<Figure size 1152x576 with 1 Axes>"
      ]
     },
     "metadata": {
      "needs_background": "light"
     },
     "output_type": "display_data"
    }
   ],
   "source": [
    "excep = { # 'se almacena': 'se suma y se destruye'\n",
    "    'mama': 'mamas',\n",
    "    'madre': 'mama',\n",
    "    'pelota': 'pelotas',\n",
    "    'familia': 'familiares',\n",
    "    'canción': 'melodía',\n",
    "    'persona': 'personas'\n",
    "}\n",
    "data = extract_data(df_1_1,excep)\n",
    "plot_freq_dist(data['sustantivos'],'por_que_pelota_que_canta_sustantivos','por_que_pelota_que_canta_sustantivos',most_common,print_df=print_df_var, save_fig=save_plot)\n",
    "# plot_freq_dist(data['verbos'],'por_que_pelota_que_canta_verbos','por_que_pelota_que_canta_verbos',most_common,print_df=print_df_var)\n",
    "# plot_freq_dist(data['adjetivos'],'por_que_pelota_que_canta_adjetivos','por_que_pelota_que_canta_adjetivos',most_common,print_df=print_df_var)\n",
    "# plot_freq_dist(data['adverbios'],'por_que_pelota_que_canta_adverbios','por_que_pelota_que_canta_adverbios',most_common,print_df=print_df_var)"
   ]
  },
  {
   "cell_type": "code",
   "execution_count": null,
   "metadata": {},
   "outputs": [],
   "source": [
    "excep = {\n",
    "\n",
    "}\n",
    "data = extract_data(df_1_2,excep)\n",
    "# plot_freq_dist(data['sustantivos'],'explica_lo_que_quiere_decir_mi_hermanito_es_una_pelota_de_gritos_sustantivos','explica_lo_que_quiere_decir_mi_hermanito_es_una_pelota_de_gritos_sustantivos',most_common,print_df=print_df_var)\n",
    "# plot_freq_dist(data['verbos'],'explica_lo_que_quiere_decir_mi_hermanito_es_una_pelota_de_gritos_verbos','explica_lo_que_quiere_decir_mi_hermanito_es_una_pelota_de_gritos_verbos',most_common,print_df=print_df_var)\n",
    "# plot_freq_dist(data['adjetivos'],'explica_lo_que_quiere_decir_mi_hermanito_es_una_pelota_de_gritos_adjetivos','explica_lo_que_quiere_decir_mi_hermanito_es_una_pelota_de_gritos_adjetivos',most_common,print_df=print_df_var)\n",
    "# plot_freq_dist(data['adverbios'],'explica_lo_que_quiere_decir_mi_hermanito_es_una_pelota_de_gritos_adverbios','explica_lo_que_quiere_decir_mi_hermanito_es_una_pelota_de_gritos_adverbios',most_common,print_df=print_df_var)"
   ]
  },
  {
   "cell_type": "code",
   "execution_count": null,
   "metadata": {},
   "outputs": [],
   "source": [
    "excep = {\n",
    "\n",
    "}\n",
    "data = extract_data(df_1_3,excep)\n",
    "# plot_freq_dist(data['sustantivos'],'por_que_pelota_de_pelos_sustantivos','por_que_pelota_de_pelos_sustantivos',most_common,print_df=print_df_var)\n",
    "# plot_freq_dist(data['verbos'],'por_que_pelota_de_pelos_verbos','por_que_pelota_de_pelos_verbos',most_common,print_df=print_df_var)\n",
    "# plot_freq_dist(data['adjetivos'],'por_que_pelota_de_pelos_adjetivos','por_que_pelota_de_pelos_adjetivos',most_common,print_df=print_df_var)\n",
    "# plot_freq_dist(data['adverbios'],'por_que_pelota_de_pelos_adverbios','por_que_pelota_de_pelos_adverbios',most_common,print_df=print_df_var)"
   ]
  },
  {
   "cell_type": "code",
   "execution_count": null,
   "metadata": {},
   "outputs": [],
   "source": [
    "excep = {\n",
    "\n",
    "}\n",
    "data = extract_data(df_1_4,excep)\n",
    "# plot_freq_dist(data['sustantivos'],'explica_tu_respuesta_en_la_frase_pelota_de_plata_sustantivos','explica_tu_respuesta_en_la_frase_pelota_de_plata_sustantivos',most_common,print_df=print_df_var)\n",
    "# plot_freq_dist(data['verbos'],'explica_tu_respuesta_en_la_frase_pelota_de_plata_verbos','explica_tu_respuesta_en_la_frase_pelota_de_plata_verbos',most_common,print_df=print_df_var)\n",
    "# plot_freq_dist(data['adjetivos'],'explica_tu_respuesta_en_la_frase_pelota_de_plata_adjetivos','explica_tu_respuesta_en_la_frase_pelota_de_plata_adjetivos',most_common,print_df=print_df_var)\n",
    "# plot_freq_dist(data['adverbios'],'explica_tu_respuesta_en_la_frase_pelota_de_plata_adverbios','explica_tu_respuesta_en_la_frase_pelota_de_plata_adverbios',most_common,print_df=print_df_var)"
   ]
  },
  {
   "cell_type": "markdown",
   "metadata": {},
   "source": [
    "### Resultados Prueba 2"
   ]
  },
  {
   "cell_type": "code",
   "execution_count": null,
   "metadata": {},
   "outputs": [],
   "source": [
    "excep = {\n",
    "\n",
    "}\n",
    "data = extract_data(df_2_1,excep)\n",
    "# plot_freq_dist(data['sustantivos'],'cabello_de_zacate_c1t_sustantivos','cabello_de_zacate_c1t_sustantivos',most_common,print_df=print_df_var)\n",
    "# plot_freq_dist(data['verbos'],'cabello_de_zacate_c1t_verbos','cabello_de_zacate_c1t_verbos',most_common,print_df=print_df_var)\n",
    "# plot_freq_dist(data['adjetivos'],'cabello_de_zacate_c1t_adjetivos','cabello_de_zacate_c1t_adjetivos',most_common,print_df=print_df_var)\n",
    "# plot_freq_dist(data['adverbios'],'cabello_de_zacate_c1t_adverbios','cabello_de_zacate_c1t_adverbios',most_common,print_df=print_df_var)"
   ]
  },
  {
   "cell_type": "code",
   "execution_count": null,
   "metadata": {},
   "outputs": [],
   "source": [
    "excep = {\n",
    "\n",
    "}\n",
    "data = extract_data(df_2_2,excep)\n",
    "# plot_freq_dist(data['sustantivos'],'nubes_de_leche_c2t_sustantivos','nubes_de_leche_c2t_sustantivos',most_common,print_df=print_df_var)\n",
    "# plot_freq_dist(data['verbos'],'nubes_de_leche_c2t_verbos','nubes_de_leche_c2t_verbos',most_common,print_df=print_df_var)\n",
    "# plot_freq_dist(data['adjetivos'],'nubes_de_leche_c2t_adjetivos','nubes_de_leche_c2t_adjetivos',most_common,print_df=print_df_var)\n",
    "# plot_freq_dist(data['adverbios'],'nubes_de_leche_c2t_adverbios','nubes_de_leche_c2t_adverbios',most_common,print_df=print_df_var)"
   ]
  },
  {
   "cell_type": "code",
   "execution_count": null,
   "metadata": {},
   "outputs": [],
   "source": [
    "excep = {\n",
    "\n",
    "}\n",
    "data = extract_data(df_2_3,excep)\n",
    "# plot_freq_dist(data['sustantivos'],'piel_de_papel_c3t_sustantivos','piel_de_papel_c3t_sustantivos',most_common,print_df=print_df_var)\n",
    "# plot_freq_dist(data['verbos'],'piel_de_papel_c3t_verbos','piel_de_papel_c3t_verbos',most_common,print_df=print_df_var)\n",
    "# plot_freq_dist(data['adjetivos'],'piel_de_papel_c3t_adjetivos','piel_de_papel_c3t_adjetivos',most_common,print_df=print_df_var)\n",
    "# plot_freq_dist(data['adverbios'],'piel_de_papel_c3t_adverbios','piel_de_papel_c3t_adverbios',most_common,print_df=print_df_var)"
   ]
  },
  {
   "cell_type": "code",
   "execution_count": null,
   "metadata": {},
   "outputs": [],
   "source": [
    "excep = {\n",
    "\n",
    "}\n",
    "data = extract_data(df_2_4,excep)\n",
    "# plot_freq_dist(data['sustantivos'],'dientes_de_perlas_c4t_sustantivos','dientes_de_perlas_c4t_sustantivos',most_common,print_df=print_df_var)\n",
    "# plot_freq_dist(data['verbos'],'dientes_de_perlas_c4t_verbos','dientes_de_perlas_c4t_verbos',most_common,print_df=print_df_var)\n",
    "# plot_freq_dist(data['adjetivos'],'dientes_de_perlas_c4t_adjetivos','dientes_de_perlas_c4t_adjetivos',most_common,print_df=print_df_var)\n",
    "# plot_freq_dist(data['adverbios'],'dientes_de_perlas_c4t_adverbios','dientes_de_perlas_c4t_adverbios',most_common,print_df=print_df_var)"
   ]
  },
  {
   "cell_type": "code",
   "execution_count": null,
   "metadata": {},
   "outputs": [],
   "source": [
    "excep = {\n",
    "\n",
    "}\n",
    "data = extract_data(df_2_5,excep)\n",
    "# plot_freq_dist(data['sustantivos'],'piel_de_seda_c5t_sustantivos','piel_de_seda_c5t_sustantivos',most_common,print_df=print_df_var)\n",
    "# plot_freq_dist(data['verbos'],'piel_de_seda_c5t_verbos','piel_de_seda_c5t_verbos',most_common,print_df=print_df_var)\n",
    "# plot_freq_dist(data['adjetivos'],'piel_de_seda_c5t_adjetivos','piel_de_seda_c5t_adjetivos',most_common,print_df=print_df_var)\n",
    "# plot_freq_dist(data['adverbios'],'piel_de_seda_c5t_adverbios','piel_de_seda_c5t_adverbios',most_common,print_df=print_df_var)"
   ]
  },
  {
   "cell_type": "code",
   "execution_count": null,
   "metadata": {},
   "outputs": [],
   "source": [
    "excep = {\n",
    "\n",
    "}\n",
    "data = extract_data(df_2_6,excep)\n",
    "# plot_freq_dist(data['sustantivos'],'flores_de_oro_c6t_sustantivos','flores_de_oro_c6t_sustantivos',most_common,print_df=print_df_var)\n",
    "# plot_freq_dist(data['verbos'],'flores_de_oro_c6t_verbos','flores_de_oro_c6t_verbos',most_common,print_df=print_df_var)\n",
    "# plot_freq_dist(data['adjetivos'],'flores_de_oro_c6t_adjetivos','flores_de_oro_c6t_adjetivos',most_common,print_df=print_df_var)\n",
    "# plot_freq_dist(data['adverbios'],'flores_de_oro_c6t_adverbios','flores_de_oro_c6t_adverbios',most_common,print_df=print_df_var)"
   ]
  },
  {
   "cell_type": "code",
   "execution_count": null,
   "metadata": {},
   "outputs": [],
   "source": [
    "excep = {\n",
    "\n",
    "}\n",
    "data = extract_data(df_2_7,excep)\n",
    "# plot_freq_dist(data['sustantivos'],'mi_dulce_hermano_c7t_sustantivos','mi_dulce_hermano_c7t_sustantivos',most_common,print_df=print_df_var)\n",
    "# plot_freq_dist(data['verbos'],'mi_dulce_hermano_c7t_verbos','mi_dulce_hermano_c7t_verbos',most_common,print_df=print_df_var)\n",
    "# plot_freq_dist(data['adjetivos'],'mi_dulce_hermano_c7t_adjetivos','mi_dulce_hermano_c7t_adjetivos',most_common,print_df=print_df_var)\n",
    "# plot_freq_dist(data['adverbios'],'mi_dulce_hermano_c7t_adverbios','mi_dulce_hermano_c7t_adverbios',most_common,print_df=print_df_var)"
   ]
  },
  {
   "cell_type": "code",
   "execution_count": null,
   "metadata": {},
   "outputs": [],
   "source": [
    "excep = {\n",
    "\n",
    "}\n",
    "data = extract_data(df_2_8,excep)\n",
    "# plot_freq_dist(data['sustantivos'],'mirada_ardiente_c8t_sustantivos','mirada_ardiente_c8t_sustantivos',most_common,print_df=print_df_var)\n",
    "# plot_freq_dist(data['verbos'],'mirada_ardiente_c8t_verbos','mirada_ardiente_c8t_verbos',most_common,print_df=print_df_var)\n",
    "# plot_freq_dist(data['adjetivos'],'mirada_ardiente_c8t_adjetivos','mirada_ardiente_c8t_adjetivos',most_common,print_df=print_df_var)\n",
    "# plot_freq_dist(data['adverbios'],'mirada_ardiente_c8t_adverbios','mirada_ardiente_c8t_adverbios',most_common,print_df=print_df_var)"
   ]
  },
  {
   "cell_type": "code",
   "execution_count": null,
   "metadata": {},
   "outputs": [],
   "source": [
    "excep = {\n",
    "\n",
    "}\n",
    "data = extract_data(df_2_9,excep)\n",
    "# plot_freq_dist(data['sustantivos'],'corazones_frios_c9t_sustantivos','corazones_frios_c9t_sustantivos',most_common,print_df=print_df_var)\n",
    "# plot_freq_dist(data['verbos'],'corazones_frios_c9t_verbos','corazones_frios_c9t_verbos',most_common,print_df=print_df_var)\n",
    "# plot_freq_dist(data['adjetivos'],'corazones_frios_c9t_adjetivos','corazones_frios_c9t_adjetivos',most_common,print_df=print_df_var)\n",
    "# plot_freq_dist(data['adverbios'],'corazones_frios_c9t_adverbios','corazones_frios_c9t_adverbios',most_common,print_df=print_df_var)"
   ]
  },
  {
   "cell_type": "code",
   "execution_count": null,
   "metadata": {},
   "outputs": [],
   "source": [
    "excep = {\n",
    "\n",
    "}\n",
    "data = extract_data(df_2_10,excep)\n",
    "# plot_freq_dist(data['sustantivos'],'sonrisa_de_hielo_c10t_sustantivos','sonrisa_de_hielo_c10t_sustantivos',most_common,print_df=print_df_var)\n",
    "# plot_freq_dist(data['verbos'],'sonrisa_de_hielo_c10t_verbos','sonrisa_de_hielo_c10t_verbos',most_common,print_df=print_df_var)\n",
    "# plot_freq_dist(data['adjetivos'],'sonrisa_de_hielo_c10t_adjetivos','sonrisa_de_hielo_c10t_adjetivos',most_common,print_df=print_df_var)\n",
    "# plot_freq_dist(data['adverbios'],'sonrisa_de_hielo_c10t_adverbios','sonrisa_de_hielo_c10t_adverbios',most_common,print_df=print_df_var)"
   ]
  },
  {
   "cell_type": "code",
   "execution_count": null,
   "metadata": {},
   "outputs": [],
   "source": [
    "excep = {\n",
    "\n",
    "}\n",
    "data = extract_data(df_2_11,excep)\n",
    "# plot_freq_dist(data['sustantivos'],'ojos_amargos_c11t_sustantivos','ojos_amargos_c11t_sustantivos',most_common,print_df=print_df_var)\n",
    "# plot_freq_dist(data['verbos'],'ojos_amargos_c11t_verbos','ojos_amargos_c11t_verbos',most_common,print_df=print_df_var)\n",
    "# plot_freq_dist(data['adjetivos'],'ojos_amargos_c11t_adjetivos','ojos_amargos_c11t_adjetivos',most_common,print_df=print_df_var)\n",
    "# plot_freq_dist(data['adverbios'],'ojos_amargos_c11t_adverbios','ojos_amargos_c11t_adverbios',most_common,print_df=print_df_var)"
   ]
  },
  {
   "cell_type": "code",
   "execution_count": null,
   "metadata": {},
   "outputs": [],
   "source": [
    "excep = {\n",
    "\n",
    "}\n",
    "data = extract_data(df_2_12,excep)\n",
    "# plot_freq_dist(data['sustantivos'],'sonrisa_tibia_c12t_sustantivos','sonrisa_tibia_c12t_sustantivos',most_common,print_df=print_df_var)\n",
    "# plot_freq_dist(data['verbos'],'sonrisa_tibia_c12t_verbos','sonrisa_tibia_c12t_verbos',most_common,print_df=print_df_var)\n",
    "# plot_freq_dist(data['adjetivos'],'sonrisa_tibia_c12t_adjetivos','sonrisa_tibia_c12t_adjetivos',most_common,print_df=print_df_var)\n",
    "# plot_freq_dist(data['adverbios'],'sonrisa_tibia_c12t_adverbios','sonrisa_tibia_c12t_adverbios',most_common,print_df=print_df_var)"
   ]
  },
  {
   "cell_type": "code",
   "execution_count": null,
   "metadata": {},
   "outputs": [],
   "source": [
    "excep = {\n",
    "\n",
    "}\n",
    "data = extract_data(df_2_13,excep)\n",
    "# plot_freq_dist(data['sustantivos'],'la_noche_quedo_atras_c13t_sustantivos','la_noche_quedo_atras_c13t_sustantivos',most_common,print_df=print_df_var)\n",
    "# plot_freq_dist(data['verbos'],'la_noche_quedo_atras_c13t_verbos','la_noche_quedo_atras_c13t_verbos',most_common,print_df=print_df_var)\n",
    "# plot_freq_dist(data['adjetivos'],'la_noche_quedo_atras_c13t_adjetivos','la_noche_quedo_atras_c13t_adjetivos',most_common,print_df=print_df_var)\n",
    "# plot_freq_dist(data['adverbios'],'la_noche_quedo_atras_c13t_adverbios','la_noche_quedo_atras_c13t_adverbios',most_common,print_df=print_df_var)"
   ]
  },
  {
   "cell_type": "code",
   "execution_count": null,
   "metadata": {},
   "outputs": [],
   "source": [
    "excep = {\n",
    "\n",
    "}\n",
    "data = extract_data(df_2_14,excep)\n",
    "# plot_freq_dist(data['sustantivos'],'el_verano_viene_c14t_sustantivos','el_verano_viene_c14t_sustantivos',most_common,print_df=print_df_var)\n",
    "# plot_freq_dist(data['verbos'],'el_verano_viene_c14t_verbos','el_verano_viene_c14t_verbos',most_common,print_df=print_df_var)\n",
    "# plot_freq_dist(data['adjetivos'],'el_verano_viene_c14t_adjetivos','el_verano_viene_c14t_adjetivos',most_common,print_df=print_df_var)\n",
    "# plot_freq_dist(data['adverbios'],'el_verano_viene_c14t_adverbios','el_verano_viene_c14t_adverbios',most_common,print_df=print_df_var)"
   ]
  },
  {
   "cell_type": "code",
   "execution_count": null,
   "metadata": {},
   "outputs": [],
   "source": [
    "excep = {\n",
    "\n",
    "}\n",
    "data = extract_data(df_2_15,excep)\n",
    "# plot_freq_dist(data['sustantivos'],'el_annio_va_muy_lento_c15t_sustantivos','el_annio_va_muy_lento_c15t_sustantivos',most_common,print_df=print_df_var)\n",
    "# plot_freq_dist(data['verbos'],'el_annio_va_muy_lento_c15t_verbos','el_annio_va_muy_lento_c15t_verbos',most_common,print_df=print_df_var)\n",
    "# plot_freq_dist(data['adjetivos'],'el_annio_va_muy_lento_c15t_adjetivos','el_annio_va_muy_lento_c15t_adjetivos',most_common,print_df=print_df_var)\n",
    "# plot_freq_dist(data['adverbios'],'el_annio_va_muy_lento_c15t_adverbios','el_annio_va_muy_lento_c15t_adverbios',most_common,print_df=print_df_var)"
   ]
  },
  {
   "cell_type": "code",
   "execution_count": null,
   "metadata": {},
   "outputs": [],
   "source": [
    "excep = {\n",
    "\n",
    "}\n",
    "data = extract_data(df_2_16,excep)\n",
    "# plot_freq_dist(data['sustantivos'],'vendran_tiempos_mejores_c16t_sustantivos','vendran_tiempos_mejores_c16t_sustantivos',most_common,print_df=print_df_var)\n",
    "# plot_freq_dist(data['verbos'],'vendran_tiempos_mejores_c16t_verbos','vendran_tiempos_mejores_c16t_verbos',most_common,print_df=print_df_var)\n",
    "# plot_freq_dist(data['adjetivos'],'vendran_tiempos_mejores_c16t_adjetivos','vendran_tiempos_mejores_c16t_adjetivos',most_common,print_df=print_df_var)\n",
    "# plot_freq_dist(data['adverbios'],'vendran_tiempos_mejores_c16t_adverbios','vendran_tiempos_mejores_c16t_adverbios',most_common,print_df=print_df_var)"
   ]
  },
  {
   "cell_type": "code",
   "execution_count": null,
   "metadata": {},
   "outputs": [],
   "source": [
    "excep = {\n",
    "\n",
    "}\n",
    "data = extract_data(df_2_17,excep)\n",
    "# plot_freq_dist(data['sustantivos'],'la_navidad_llego_c17t_sustantivos','la_navidad_llego_c17t_sustantivos',most_common,print_df=print_df_var)\n",
    "# plot_freq_dist(data['verbos'],'la_navidad_llego_c17t_verbos','la_navidad_llego_c17t_verbos',most_common,print_df=print_df_var)\n",
    "# plot_freq_dist(data['adjetivos'],'la_navidad_llego_c17t_adjetivos','la_navidad_llego_c17t_adjetivos',most_common,print_df=print_df_var)\n",
    "# plot_freq_dist(data['adverbios'],'la_navidad_llego_c17t_adverbios','la_navidad_llego_c17t_adverbios',most_common,print_df=print_df_var)"
   ]
  },
  {
   "cell_type": "code",
   "execution_count": null,
   "metadata": {},
   "outputs": [],
   "source": [
    "excep = {\n",
    "\n",
    "}\n",
    "data = extract_data(df_2_18,excep)\n",
    "# plot_freq_dist(data['sustantivos'],'los_segundos_vuelan_c18t_sustantivos','los_segundos_vuelan_c18t_sustantivos',most_common,print_df=print_df_var)\n",
    "# plot_freq_dist(data['verbos'],'los_segundos_vuelan_c18t_verbos','los_segundos_vuelan_c18t_verbos',most_common,print_df=print_df_var)\n",
    "# plot_freq_dist(data['adjetivos'],'los_segundos_vuelan_c18t_adjetivos','los_segundos_vuelan_c18t_adjetivos',most_common,print_df=print_df_var)\n",
    "# plot_freq_dist(data['adverbios'],'los_segundos_vuelan_c18t_adverbios','los_segundos_vuelan_c18t_adverbios',most_common,print_df=print_df_var)"
   ]
  },
  {
   "cell_type": "markdown",
   "metadata": {},
   "source": [
    "### Resultados Prueba 3"
   ]
  },
  {
   "cell_type": "code",
   "execution_count": null,
   "metadata": {},
   "outputs": [],
   "source": [
    "data = extract_data(dfs_prueba3[1][0],excep)\n",
    "# plot_freq_dist(data['sustantivos'],'estrellas_de_cristal_sustantivos_1_0','estrellas_de_cristal_sustantivos_1_0',most_common,print_df=print_df_var)\n",
    "# plot_freq_dist(data['verbos'],'estrellas_de_cristal_verbos_1_0','estrellas_de_cristal_verbos_1_0',most_common,print_df=print_df_var)\n",
    "# plot_freq_dist(data['adjetivos'],'estrellas_de_cristal_adjetivos_1_0','estrellas_de_cristal_adjetivos_1_0',most_common,print_df=print_df_var)\n",
    "# plot_freq_dist(data['adverbios'],'estrellas_de_cristal_adverbios_1_0','estrellas_de_cristal_adverbios_1_0',most_common,print_df=print_df_var)"
   ]
  },
  {
   "cell_type": "code",
   "execution_count": null,
   "metadata": {},
   "outputs": [],
   "source": [
    "data = extract_data(dfs_prueba3[1][1],excep)\n",
    "# plot_freq_dist(data['sustantivos'],'estrellas_de_cristal_sustantivos_1_1','estrellas_de_cristal_sustantivos_1_1',most_common,print_df=print_df_var)\n",
    "# plot_freq_dist(data['verbos'],'estrellas_de_cristal_verbos_1_1','estrellas_de_cristal_verbos_1_1',most_common,print_df=print_df_var)\n",
    "# plot_freq_dist(data['adjetivos'],'estrellas_de_cristal_adjetivos_1_1','estrellas_de_cristal_adjetivos_1_1',most_common,print_df=print_df_var)\n",
    "# plot_freq_dist(data['adverbios'],'estrellas_de_cristal_adverbios_1_1','estrellas_de_cristal_adverbios_1_1',most_common,print_df=print_df_var)"
   ]
  },
  {
   "cell_type": "code",
   "execution_count": null,
   "metadata": {},
   "outputs": [],
   "source": [
    "data = extract_data(dfs_prueba3[1][2],excep)\n",
    "# plot_freq_dist(data['sustantivos'],'estrellas_de_cristal_sustantivos_1_2','estrellas_de_cristal_sustantivos_1_2',most_common,print_df=print_df_var)\n",
    "# plot_freq_dist(data['verbos'],'estrellas_de_cristal_verbos_1_2','estrellas_de_cristal_verbos_1_2',most_common,print_df=print_df_var)\n",
    "# plot_freq_dist(data['adjetivos'],'estrellas_de_cristal_adjetivos_1_2','estrellas_de_cristal_adjetivos_1_2',most_common,print_df=print_df_var)\n",
    "# plot_freq_dist(data['adverbios'],'estrellas_de_cristal_adverbios_1_2','estrellas_de_cristal_adverbios_1_2',most_common,print_df=print_df_var)"
   ]
  },
  {
   "cell_type": "code",
   "execution_count": null,
   "metadata": {},
   "outputs": [],
   "source": [
    "data = extract_data(dfs_prueba3[1][3],excep)\n",
    "# plot_freq_dist(data['sustantivos'],'estrellas_de_cristal_sustantivos_1_3','estrellas_de_cristal_sustantivos_1_3',most_common,print_df=print_df_var)\n",
    "# plot_freq_dist(data['verbos'],'estrellas_de_cristal_verbos_1_3','estrellas_de_cristal_verbos_1_3',most_common,print_df=print_df_var)\n",
    "# plot_freq_dist(data['adjetivos'],'estrellas_de_cristal_adjetivos_1_3','estrellas_de_cristal_adjetivos_1_3',most_common,print_df=print_df_var)\n",
    "# plot_freq_dist(data['adverbios'],'estrellas_de_cristal_adverbios_1_3','estrellas_de_cristal_adverbios_1_3',most_common,print_df=print_df_var)"
   ]
  },
  {
   "cell_type": "code",
   "execution_count": null,
   "metadata": {},
   "outputs": [],
   "source": [
    "data = extract_data(dfs_prueba3[2][0],excep)\n",
    "# plot_freq_dist(data['sustantivos'],'piernas_de_acero_sustantivos_2_0','piernas_de_acero_sustantivos_2_0',most_common,print_df=print_df_var)\n",
    "# plot_freq_dist(data['verbos'],'piernas_de_acero_verbos_2_0','piernas_de_acero_verbos_2_0',most_common,print_df=print_df_var)\n",
    "# plot_freq_dist(data['adjetivos'],'piernas_de_acero_adjetivos_2_0','piernas_de_acero_adjetivos_2_0',most_common,print_df=print_df_var)\n",
    "# plot_freq_dist(data['adverbios'],'piernas_de_acero_adverbios_2_0','piernas_de_acero_adverbios_2_0',most_common,print_df=print_df_var)"
   ]
  },
  {
   "cell_type": "code",
   "execution_count": null,
   "metadata": {},
   "outputs": [],
   "source": [
    "data = extract_data(dfs_prueba3[2][1],excep)\n",
    "# plot_freq_dist(data['sustantivos'],'piernas_de_acero_sustantivos_2_1','piernas_de_acero_sustantivos_2_1',most_common,print_df=print_df_var)\n",
    "# plot_freq_dist(data['verbos'],'piernas_de_acero_verbos_2_1','piernas_de_acero_verbos_2_1',most_common,print_df=print_df_var)\n",
    "# plot_freq_dist(data['adjetivos'],'piernas_de_acero_adjetivos_2_1','piernas_de_acero_adjetivos_2_1',most_common,print_df=print_df_var)\n",
    "# plot_freq_dist(data['adverbios'],'piernas_de_acero_adverbios_2_1','piernas_de_acero_adverbios_2_1',most_common,print_df=print_df_var)"
   ]
  },
  {
   "cell_type": "code",
   "execution_count": null,
   "metadata": {},
   "outputs": [],
   "source": [
    "data = extract_data(dfs_prueba3[2][2],excep)\n",
    "# plot_freq_dist(data['sustantivos'],'piernas_de_acero_sustantivos_2_2','piernas_de_acero_sustantivos_2_2',most_common,print_df=print_df_var)\n",
    "# plot_freq_dist(data['verbos'],'piernas_de_acero_verbos_2_2','piernas_de_acero_verbos_2_2',most_common,print_df=print_df_var)\n",
    "# plot_freq_dist(data['adjetivos'],'piernas_de_acero_adjetivos_2_2','piernas_de_acero_adjetivos_2_2',most_common,print_df=print_df_var)\n",
    "# plot_freq_dist(data['adverbios'],'piernas_de_acero_adverbios_2_2','piernas_de_acero_adverbios_2_2',most_common,print_df=print_df_var)"
   ]
  },
  {
   "cell_type": "code",
   "execution_count": null,
   "metadata": {},
   "outputs": [],
   "source": [
    "data = extract_data(dfs_prueba3[2][3],excep)\n",
    "# plot_freq_dist(data['sustantivos'],'piernas_de_acero_sustantivos_2_3','piernas_de_acero_sustantivos_2_3',most_common,print_df=print_df_var)\n",
    "# plot_freq_dist(data['verbos'],'piernas_de_acero_verbos_2_3','piernas_de_acero_verbos_2_3',most_common,print_df=print_df_var)\n",
    "# plot_freq_dist(data['adjetivos'],'piernas_de_acero_adjetivos_2_3','piernas_de_acero_adjetivos_2_3',most_common,print_df=print_df_var)\n",
    "# plot_freq_dist(data['adverbios'],'piernas_de_acero_adverbios_2_3','piernas_de_acero_adverbios_2_3',most_common,print_df=print_df_var)"
   ]
  },
  {
   "cell_type": "code",
   "execution_count": null,
   "metadata": {},
   "outputs": [],
   "source": [
    "data = extract_data(dfs_prueba3[3][0],excep)\n",
    "# plot_freq_dist(data['sustantivos'],'ojos_de_miel_sustantivos_3_0','ojos_de_miel_sustantivos_3_0',most_common,print_df=print_df_var)\n",
    "# plot_freq_dist(data['verbos'],'ojos_de_miel_verbos_3_0','ojos_de_miel_verbos_3_0',most_common,print_df=print_df_var)\n",
    "# plot_freq_dist(data['adjetivos'],'ojos_de_miel_adjetivos_3_0','ojos_de_miel_adjetivos_3_0',most_common,print_df=print_df_var)\n",
    "# plot_freq_dist(data['adverbios'],'ojos_de_miel_adverbios_3_0','ojos_de_miel_adverbios_3_0',most_common,print_df=print_df_var)"
   ]
  },
  {
   "cell_type": "code",
   "execution_count": null,
   "metadata": {},
   "outputs": [],
   "source": [
    "data = extract_data(dfs_prueba3[3][1],excep)\n",
    "# plot_freq_dist(data['sustantivos'],'ojos_de_miel_sustantivos_3_1','ojos_de_miel_sustantivos_3_1',most_common,print_df=print_df_var)\n",
    "# plot_freq_dist(data['verbos'],'ojos_de_miel_verbos_3_1','ojos_de_miel_verbos_3_1',most_common,print_df=print_df_var)\n",
    "# plot_freq_dist(data['adjetivos'],'ojos_de_miel_adjetivos_3_1','ojos_de_miel_adjetivos_3_1',most_common,print_df=print_df_var)\n",
    "# plot_freq_dist(data['adverbios'],'ojos_de_miel_adverbios_3_1','ojos_de_miel_adverbios_3_1',most_common,print_df=print_df_var)"
   ]
  },
  {
   "cell_type": "code",
   "execution_count": null,
   "metadata": {},
   "outputs": [],
   "source": [
    "data = extract_data(dfs_prueba3[3][2],excep)\n",
    "# plot_freq_dist(data['sustantivos'],'ojos_de_miel_sustantivos_3_2','ojos_de_miel_sustantivos_3_2',most_common,print_df=print_df_var)\n",
    "# plot_freq_dist(data['verbos'],'ojos_de_miel_verbos_3_2','ojos_de_miel_verbos_3_2',most_common,print_df=print_df_var)\n",
    "# plot_freq_dist(data['adjetivos'],'ojos_de_miel_adjetivos_3_2','ojos_de_miel_adjetivos_3_2',most_common,print_df=print_df_var)\n",
    "# plot_freq_dist(data['adverbios'],'ojos_de_miel_adverbios_3_2','ojos_de_miel_adverbios_3_2',most_common,print_df=print_df_var)"
   ]
  },
  {
   "cell_type": "code",
   "execution_count": null,
   "metadata": {},
   "outputs": [],
   "source": [
    "data = extract_data(dfs_prueba3[3][3],excep)\n",
    "# plot_freq_dist(data['sustantivos'],'ojos_de_miel_sustantivos_3_3','ojos_de_miel_sustantivos_3_3',most_common,print_df=print_df_var)\n",
    "# plot_freq_dist(data['verbos'],'ojos_de_miel_verbos_3_3','ojos_de_miel_verbos_3_3',most_common,print_df=print_df_var)\n",
    "# plot_freq_dist(data['adjetivos'],'ojos_de_miel_adjetivos_3_3','ojos_de_miel_adjetivos_3_3',most_common,print_df=print_df_var)\n",
    "# plot_freq_dist(data['adverbios'],'ojos_de_miel_adverbios_3_3','ojos_de_miel_adverbios_3_3',most_common,print_df=print_df_var)"
   ]
  },
  {
   "cell_type": "code",
   "execution_count": null,
   "metadata": {},
   "outputs": [],
   "source": [
    "data = extract_data(dfs_prueba3[4][0],excep)\n",
    "# plot_freq_dist(data['sustantivos'],'vestidos_de_tela_sustantivos_4_0','vestidos_de_tela_sustantivos_4_0',most_common,print_df=print_df_var)\n",
    "# plot_freq_dist(data['verbos'],'vestidos_de_tela_verbos_4_0','vestidos_de_tela_verbos_4_0',most_common,print_df=print_df_var)\n",
    "# plot_freq_dist(data['adjetivos'],'vestidos_de_tela_adjetivos_4_0','vestidos_de_tela_adjetivos_4_0',most_common,print_df=print_df_var)\n",
    "# plot_freq_dist(data['adverbios'],'vestidos_de_tela_adverbios_4_0','vestidos_de_tela_adverbios_4_0',most_common,print_df=print_df_var)"
   ]
  },
  {
   "cell_type": "code",
   "execution_count": null,
   "metadata": {},
   "outputs": [],
   "source": [
    "data = extract_data(dfs_prueba3[4][1],excep)\n",
    "# plot_freq_dist(data['sustantivos'],'vestidos_de_tela_sustantivos_4_1','vestidos_de_tela_sustantivos_4_1',most_common,print_df=print_df_var)\n",
    "# plot_freq_dist(data['verbos'],'vestidos_de_tela_verbos_4_1','vestidos_de_tela_verbos_4_1',most_common,print_df=print_df_var)\n",
    "# plot_freq_dist(data['adjetivos'],'vestidos_de_tela_adjetivos_4_1','vestidos_de_tela_adjetivos_4_1',most_common,print_df=print_df_var)\n",
    "# plot_freq_dist(data['adverbios'],'vestidos_de_tela_adverbios_4_1','vestidos_de_tela_adverbios_4_1',most_common,print_df=print_df_var)"
   ]
  },
  {
   "cell_type": "code",
   "execution_count": null,
   "metadata": {},
   "outputs": [],
   "source": [
    "data = extract_data(dfs_prueba3[4][2],excep)\n",
    "# plot_freq_dist(data['sustantivos'],'vestidos_de_tela_sustantivos_4_2','vestidos_de_tela_sustantivos_4_2',most_common,print_df=print_df_var)\n",
    "# plot_freq_dist(data['verbos'],'vestidos_de_tela_verbos_4_2','vestidos_de_tela_verbos_4_2',most_common,print_df=print_df_var)\n",
    "# plot_freq_dist(data['adjetivos'],'vestidos_de_tela_adjetivos_4_2','vestidos_de_tela_adjetivos_4_2',most_common,print_df=print_df_var)\n",
    "# plot_freq_dist(data['adverbios'],'vestidos_de_tela_adverbios_4_2','vestidos_de_tela_adverbios_4_2',most_common,print_df=print_df_var)"
   ]
  },
  {
   "cell_type": "code",
   "execution_count": null,
   "metadata": {},
   "outputs": [],
   "source": [
    "data = extract_data(dfs_prueba3[4][3],excep)\n",
    "# plot_freq_dist(data['sustantivos'],'vestidos_de_tela_sustantivos_4_3','vestidos_de_tela_sustantivos_4_3',most_common,print_df=print_df_var)\n",
    "# plot_freq_dist(data['verbos'],'vestidos_de_tela_verbos_4_3','vestidos_de_tela_verbos_4_3',most_common,print_df=print_df_var)\n",
    "# plot_freq_dist(data['adjetivos'],'vestidos_de_tela_adjetivos_4_3','vestidos_de_tela_adjetivos_4_3',most_common,print_df=print_df_var)\n",
    "# plot_freq_dist(data['adverbios'],'vestidos_de_tela_adverbios_4_3','vestidos_de_tela_adverbios_4_3',most_common,print_df=print_df_var)"
   ]
  },
  {
   "cell_type": "code",
   "execution_count": null,
   "metadata": {},
   "outputs": [],
   "source": [
    "data = extract_data(dfs_prueba3[5][0],excep)\n",
    "# plot_freq_dist(data['sustantivos'],'sobre_de_papel_sustantivos_5_0','sobre_de_papel_sustantivos_5_0',most_common,print_df=print_df_var)\n",
    "# plot_freq_dist(data['verbos'],'sobre_de_papel_verbos_5_0','sobre_de_papel_verbos_5_0',most_common,print_df=print_df_var)\n",
    "# plot_freq_dist(data['adjetivos'],'sobre_de_papel_adjetivos_5_0','sobre_de_papel_adjetivos_5_0',most_common,print_df=print_df_var)\n",
    "# plot_freq_dist(data['adverbios'],'sobre_de_papel_adverbios_5_0','sobre_de_papel_adverbios_5_0',most_common,print_df=print_df_var)"
   ]
  },
  {
   "cell_type": "code",
   "execution_count": null,
   "metadata": {},
   "outputs": [],
   "source": [
    "data = extract_data(dfs_prueba3[5][1],excep)\n",
    "# plot_freq_dist(data['sustantivos'],'sobre_de_papel_sustantivos_5_1','sobre_de_papel_sustantivos_5_1',most_common,print_df=print_df_var)\n",
    "# plot_freq_dist(data['verbos'],'sobre_de_papel_verbos_5_1','sobre_de_papel_verbos_5_1',most_common,print_df=print_df_var)\n",
    "# plot_freq_dist(data['adjetivos'],'sobre_de_papel_adjetivos_5_1','sobre_de_papel_adjetivos_5_1',most_common,print_df=print_df_var)\n",
    "# plot_freq_dist(data['adverbios'],'sobre_de_papel_adverbios_5_1','sobre_de_papel_adverbios_5_1',most_common,print_df=print_df_var)"
   ]
  },
  {
   "cell_type": "code",
   "execution_count": null,
   "metadata": {},
   "outputs": [],
   "source": [
    "data = extract_data(dfs_prueba3[5][2],excep)\n",
    "# plot_freq_dist(data['sustantivos'],'sobre_de_papel_sustantivos_5_2','sobre_de_papel_sustantivos_5_2',most_common,print_df=print_df_var)\n",
    "# plot_freq_dist(data['verbos'],'sobre_de_papel_verbos_5_2','sobre_de_papel_verbos_5_2',most_common,print_df=print_df_var)\n",
    "# plot_freq_dist(data['adjetivos'],'sobre_de_papel_adjetivos_5_2','sobre_de_papel_adjetivos_5_2',most_common,print_df=print_df_var)\n",
    "# plot_freq_dist(data['adverbios'],'sobre_de_papel_adverbios_5_2','sobre_de_papel_adverbios_5_2',most_common,print_df=print_df_var)"
   ]
  },
  {
   "cell_type": "code",
   "execution_count": null,
   "metadata": {},
   "outputs": [],
   "source": [
    "data = extract_data(dfs_prueba3[5][3],excep)\n",
    "# plot_freq_dist(data['sustantivos'],'sobre_de_papel_sustantivos_5_3','sobre_de_papel_sustantivos_5_3',most_common,print_df=print_df_var)\n",
    "# plot_freq_dist(data['verbos'],'sobre_de_papel_verbos_5_3','sobre_de_papel_verbos_5_3',most_common,print_df=print_df_var)\n",
    "# plot_freq_dist(data['adjetivos'],'sobre_de_papel_adjetivos_5_3','sobre_de_papel_adjetivos_5_3',most_common,print_df=print_df_var)\n",
    "# plot_freq_dist(data['adverbios'],'sobre_de_papel_adverbios_5_3','sobre_de_papel_adverbios_5_3',most_common,print_df=print_df_var)"
   ]
  },
  {
   "cell_type": "code",
   "execution_count": null,
   "metadata": {},
   "outputs": [],
   "source": [
    "data = extract_data(dfs_prueba3[6][0],excep)\n",
    "# plot_freq_dist(data['sustantivos'],'collares_de_perlas_sustantivos_6_0','collares_de_perlas_sustantivos_6_0',most_common,print_df=print_df_var)\n",
    "# plot_freq_dist(data['verbos'],'collares_de_perlas_verbos_6_0','collares_de_perlas_verbos_6_0',most_common,print_df=print_df_var)\n",
    "# plot_freq_dist(data['adjetivos'],'collares_de_perlas_adjetivos_6_0','collares_de_perlas_adjetivos_6_0',most_common,print_df=print_df_var)\n",
    "# plot_freq_dist(data['adverbios'],'collares_de_perlas_adverbios_6_0','collares_de_perlas_adverbios_6_0',most_common,print_df=print_df_var)"
   ]
  },
  {
   "cell_type": "code",
   "execution_count": null,
   "metadata": {},
   "outputs": [],
   "source": [
    "data = extract_data(dfs_prueba3[6][1],excep)\n",
    "# plot_freq_dist(data['sustantivos'],'collares_de_perlas_sustantivos_6_1','collares_de_perlas_sustantivos_6_1',most_common,print_df=print_df_var)\n",
    "# plot_freq_dist(data['verbos'],'collares_de_perlas_verbos_6_1','collares_de_perlas_verbos_6_1',most_common,print_df=print_df_var)\n",
    "# plot_freq_dist(data['adjetivos'],'collares_de_perlas_adjetivos_6_1','collares_de_perlas_adjetivos_6_1',most_common,print_df=print_df_var)\n",
    "# plot_freq_dist(data['adverbios'],'collares_de_perlas_adverbios_6_1','collares_de_perlas_adverbios_6_1',most_common,print_df=print_df_var)"
   ]
  },
  {
   "cell_type": "code",
   "execution_count": null,
   "metadata": {},
   "outputs": [],
   "source": [
    "data = extract_data(dfs_prueba3[6][2],excep)\n",
    "# plot_freq_dist(data['sustantivos'],'collares_de_perlas_sustantivos_6_2','collares_de_perlas_sustantivos_6_2',most_common,print_df=print_df_var)\n",
    "# plot_freq_dist(data['verbos'],'collares_de_perlas_verbos_6_2','collares_de_perlas_verbos_6_2',most_common,print_df=print_df_var)\n",
    "# plot_freq_dist(data['adjetivos'],'collares_de_perlas_adjetivos_6_2','collares_de_perlas_adjetivos_6_2',most_common,print_df=print_df_var)\n",
    "# plot_freq_dist(data['adverbios'],'collares_de_perlas_adverbios_6_2','collares_de_perlas_adverbios_6_2',most_common,print_df=print_df_var)"
   ]
  },
  {
   "cell_type": "code",
   "execution_count": null,
   "metadata": {},
   "outputs": [],
   "source": [
    "data = extract_data(dfs_prueba3[6][3],excep)\n",
    "# plot_freq_dist(data['sustantivos'],'collares_de_perlas_sustantivos_6_3','collares_de_perlas_sustantivos_6_3',most_common,print_df=print_df_var)\n",
    "# plot_freq_dist(data['verbos'],'collares_de_perlas_verbos_6_3','collares_de_perlas_verbos_6_3',most_common,print_df=print_df_var)\n",
    "# plot_freq_dist(data['adjetivos'],'collares_de_perlas_adjetivos_6_3','collares_de_perlas_adjetivos_6_3',most_common,print_df=print_df_var)\n",
    "# plot_freq_dist(data['adverbios'],'collares_de_perlas_adverbios_6_3','collares_de_perlas_adverbios_6_3',most_common,print_df=print_df_var)"
   ]
  },
  {
   "cell_type": "code",
   "execution_count": null,
   "metadata": {},
   "outputs": [],
   "source": [
    "data = extract_data(dfs_prueba3[7][0],excep)\n",
    "# plot_freq_dist(data['sustantivos'],'zapatos_de_miel_sustantivos_7_0','zapatos_de_miel_sustantivos_7_0',most_common,print_df=print_df_var)\n",
    "# plot_freq_dist(data['verbos'],'zapatos_de_miel_verbos_7_0','zapatos_de_miel_verbos_7_0',most_common,print_df=print_df_var)\n",
    "# plot_freq_dist(data['adjetivos'],'zapatos_de_miel_adjetivos_7_0','zapatos_de_miel_adjetivos_7_0',most_common,print_df=print_df_var)\n",
    "# plot_freq_dist(data['adverbios'],'zapatos_de_miel_adverbios_7_0','zapatos_de_miel_adverbios_7_0',most_common,print_df=print_df_var)"
   ]
  },
  {
   "cell_type": "code",
   "execution_count": null,
   "metadata": {},
   "outputs": [],
   "source": [
    "data = extract_data(dfs_prueba3[7][1],excep)\n",
    "# plot_freq_dist(data['sustantivos'],'zapatos_de_miel_sustantivos_7_1','zapatos_de_miel_sustantivos_7_1',most_common,print_df=print_df_var)\n",
    "# plot_freq_dist(data['verbos'],'zapatos_de_miel_verbos_7_1','zapatos_de_miel_verbos_7_1',most_common,print_df=print_df_var)\n",
    "# plot_freq_dist(data['adjetivos'],'zapatos_de_miel_adjetivos_7_1','zapatos_de_miel_adjetivos_7_1',most_common,print_df=print_df_var)\n",
    "# plot_freq_dist(data['adverbios'],'zapatos_de_miel_adverbios_7_1','zapatos_de_miel_adverbios_7_1',most_common,print_df=print_df_var)"
   ]
  },
  {
   "cell_type": "code",
   "execution_count": null,
   "metadata": {},
   "outputs": [],
   "source": [
    "data = extract_data(dfs_prueba3[7][2],excep)\n",
    "# plot_freq_dist(data['sustantivos'],'zapatos_de_miel_sustantivos_7_2','zapatos_de_miel_sustantivos_7_2',most_common,print_df=print_df_var)\n",
    "# plot_freq_dist(data['verbos'],'zapatos_de_miel_verbos_7_2','zapatos_de_miel_verbos_7_2',most_common,print_df=print_df_var)\n",
    "# plot_freq_dist(data['adjetivos'],'zapatos_de_miel_adjetivos_7_2','zapatos_de_miel_adjetivos_7_2',most_common,print_df=print_df_var)\n",
    "# plot_freq_dist(data['adverbios'],'zapatos_de_miel_adverbios_7_2','zapatos_de_miel_adverbios_7_2',most_common,print_df=print_df_var)"
   ]
  },
  {
   "cell_type": "code",
   "execution_count": null,
   "metadata": {},
   "outputs": [],
   "source": [
    "data = extract_data(dfs_prueba3[7][3],excep)\n",
    "# plot_freq_dist(data['sustantivos'],'zapatos_de_miel_sustantivos_7_3','zapatos_de_miel_sustantivos_7_3',most_common,print_df=print_df_var)\n",
    "# plot_freq_dist(data['verbos'],'zapatos_de_miel_verbos_7_3','zapatos_de_miel_verbos_7_3',most_common,print_df=print_df_var)\n",
    "# plot_freq_dist(data['adjetivos'],'zapatos_de_miel_adjetivos_7_3','zapatos_de_miel_adjetivos_7_3',most_common,print_df=print_df_var)\n",
    "# plot_freq_dist(data['adverbios'],'zapatos_de_miel_adverbios_7_3','zapatos_de_miel_adverbios_7_3',most_common,print_df=print_df_var)"
   ]
  },
  {
   "cell_type": "code",
   "execution_count": null,
   "metadata": {},
   "outputs": [],
   "source": [
    "data = extract_data(dfs_prueba3[8][0],excep)\n",
    "# plot_freq_dist(data['sustantivos'],'calendario_de_zacate_sustantivos_8_0','calendario_de_zacate_sustantivos_8_0',most_common,print_df=print_df_var)\n",
    "# plot_freq_dist(data['verbos'],'calendario_de_zacate_verbos_8_0','calendario_de_zacate_verbos_8_0',most_common,print_df=print_df_var)\n",
    "# plot_freq_dist(data['adjetivos'],'calendario_de_zacate_adjetivos_8_0','calendario_de_zacate_adjetivos_8_0',most_common,print_df=print_df_var)\n",
    "# plot_freq_dist(data['adverbios'],'calendario_de_zacate_adverbios_8_0','calendario_de_zacate_adverbios_8_0',most_common,print_df=print_df_var)"
   ]
  },
  {
   "cell_type": "code",
   "execution_count": null,
   "metadata": {},
   "outputs": [],
   "source": [
    "data = extract_data(dfs_prueba3[8][1],excep)\n",
    "# plot_freq_dist(data['sustantivos'],'calendario_de_zacate_sustantivos_8_1','calendario_de_zacate_sustantivos_8_1',most_common,print_df=print_df_var)\n",
    "# plot_freq_dist(data['verbos'],'calendario_de_zacate_verbos_8_1','calendario_de_zacate_verbos_8_1',most_common,print_df=print_df_var)\n",
    "# plot_freq_dist(data['adjetivos'],'calendario_de_zacate_adjetivos_8_1','calendario_de_zacate_adjetivos_8_1',most_common,print_df=print_df_var)\n",
    "# plot_freq_dist(data['adverbios'],'calendario_de_zacate_adverbios_8_1','calendario_de_zacate_adverbios_8_1',most_common,print_df=print_df_var)"
   ]
  },
  {
   "cell_type": "code",
   "execution_count": null,
   "metadata": {},
   "outputs": [],
   "source": [
    "data = extract_data(dfs_prueba3[8][2],excep)\n",
    "# plot_freq_dist(data['sustantivos'],'calendario_de_zacate_sustantivos_8_2','calendario_de_zacate_sustantivos_8_2',most_common,print_df=print_df_var)\n",
    "# plot_freq_dist(data['verbos'],'calendario_de_zacate_verbos_8_2','calendario_de_zacate_verbos_8_2',most_common,print_df=print_df_var)\n",
    "# plot_freq_dist(data['adjetivos'],'calendario_de_zacate_adjetivos_8_2','calendario_de_zacate_adjetivos_8_2',most_common,print_df=print_df_var)\n",
    "# plot_freq_dist(data['adverbios'],'calendario_de_zacate_adverbios_8_2','calendario_de_zacate_adverbios_8_2',most_common,print_df=print_df_var)"
   ]
  },
  {
   "cell_type": "code",
   "execution_count": null,
   "metadata": {},
   "outputs": [],
   "source": [
    "data = extract_data(dfs_prueba3[8][3],excep)\n",
    "# plot_freq_dist(data['sustantivos'],'calendario_de_zacate_sustantivos_8_3','calendario_de_zacate_sustantivos_8_3',most_common,print_df=print_df_var)\n",
    "# plot_freq_dist(data['verbos'],'calendario_de_zacate_verbos_8_3','calendario_de_zacate_verbos_8_3',most_common,print_df=print_df_var)\n",
    "# plot_freq_dist(data['adjetivos'],'calendario_de_zacate_adjetivos_8_3','calendario_de_zacate_adjetivos_8_3',most_common,print_df=print_df_var)\n",
    "# plot_freq_dist(data['adverbios'],'calendario_de_zacate_adverbios_8_3','calendario_de_zacate_adverbios_8_3',most_common,print_df=print_df_var)"
   ]
  },
  {
   "cell_type": "code",
   "execution_count": null,
   "metadata": {},
   "outputs": [],
   "source": [
    "data = extract_data(dfs_prueba3[9][0],excep)\n",
    "# plot_freq_dist(data['sustantivos'],'escobas_de_cristal_sustantivos_9_0','escobas_de_cristal_sustantivos_9_0',most_common,print_df=print_df_var)\n",
    "# plot_freq_dist(data['verbos'],'escobas_de_cristal_verbos_9_0','escobas_de_cristal_verbos_9_0',most_common,print_df=print_df_var)\n",
    "# plot_freq_dist(data['adjetivos'],'escobas_de_cristal_adjetivos_9_0','escobas_de_cristal_adjetivos_9_0',most_common,print_df=print_df_var)\n",
    "# plot_freq_dist(data['adverbios'],'escobas_de_cristal_adverbios_9_0','escobas_de_cristal_adverbios_9_0',most_common,print_df=print_df_var)"
   ]
  },
  {
   "cell_type": "code",
   "execution_count": null,
   "metadata": {},
   "outputs": [],
   "source": [
    "data = extract_data(dfs_prueba3[9][1],excep)\n",
    "# plot_freq_dist(data['sustantivos'],'escobas_de_cristal_sustantivos_9_1','escobas_de_cristal_sustantivos_9_1',most_common,print_df=print_df_var)\n",
    "# plot_freq_dist(data['verbos'],'escobas_de_cristal_verbos_9_1','escobas_de_cristal_verbos_9_1',most_common,print_df=print_df_var)\n",
    "# plot_freq_dist(data['adjetivos'],'escobas_de_cristal_adjetivos_9_1','escobas_de_cristal_adjetivos_9_1',most_common,print_df=print_df_var)\n",
    "# plot_freq_dist(data['adverbios'],'escobas_de_cristal_adverbios_9_1','escobas_de_cristal_adverbios_9_1',most_common,print_df=print_df_var)"
   ]
  },
  {
   "cell_type": "code",
   "execution_count": null,
   "metadata": {},
   "outputs": [],
   "source": [
    "data = extract_data(dfs_prueba3[9][2],excep)\n",
    "# plot_freq_dist(data['sustantivos'],'escobas_de_cristal_sustantivos_9_2','escobas_de_cristal_sustantivos_9_2',most_common,print_df=print_df_var)\n",
    "# plot_freq_dist(data['verbos'],'escobas_de_cristal_verbos_9_2','escobas_de_cristal_verbos_9_2',most_common,print_df=print_df_var)\n",
    "# plot_freq_dist(data['adjetivos'],'escobas_de_cristal_adjetivos_9_2','escobas_de_cristal_adjetivos_9_2',most_common,print_df=print_df_var)\n",
    "# plot_freq_dist(data['adverbios'],'escobas_de_cristal_adverbios_9_2','escobas_de_cristal_adverbios_9_2',most_common,print_df=print_df_var)"
   ]
  },
  {
   "cell_type": "code",
   "execution_count": null,
   "metadata": {},
   "outputs": [],
   "source": [
    "data = extract_data(dfs_prueba3[9][3],excep)\n",
    "# plot_freq_dist(data['sustantivos'],'escobas_de_cristal_sustantivos_9_3','escobas_de_cristal_sustantivos_9_3',most_common,print_df=print_df_var)\n",
    "# plot_freq_dist(data['verbos'],'escobas_de_cristal_verbos_9_3','escobas_de_cristal_verbos_9_3',most_common,print_df=print_df_var)\n",
    "# plot_freq_dist(data['adjetivos'],'escobas_de_cristal_adjetivos_9_3','escobas_de_cristal_adjetivos_9_3',most_common,print_df=print_df_var)\n",
    "# plot_freq_dist(data['adverbios'],'escobas_de_cristal_adverbios_9_3','escobas_de_cristal_adverbios_9_3',most_common,print_df=print_df_var)"
   ]
  },
  {
   "cell_type": "code",
   "execution_count": null,
   "metadata": {},
   "outputs": [],
   "source": [
    "data = extract_data(dfs_prueba3[10][0],excep)\n",
    "# plot_freq_dist(data['sustantivos'],'escultura_de_piedra_sustantivos_10_0','escultura_de_piedra_sustantivos_10_0',most_common,print_df=print_df_var)\n",
    "# plot_freq_dist(data['verbos'],'escultura_de_piedra_verbos_10_0','escultura_de_piedra_verbos_10_0',most_common,print_df=print_df_var)\n",
    "# plot_freq_dist(data['adjetivos'],'escultura_de_piedra_adjetivos_10_0','escultura_de_piedra_adjetivos_10_0',most_common,print_df=print_df_var)\n",
    "# plot_freq_dist(data['adverbios'],'escultura_de_piedra_adverbios_10_0','escultura_de_piedra_adverbios_10_0',most_common,print_df=print_df_var)"
   ]
  },
  {
   "cell_type": "code",
   "execution_count": null,
   "metadata": {},
   "outputs": [],
   "source": [
    "data = extract_data(dfs_prueba3[10][1],excep)\n",
    "# plot_freq_dist(data['sustantivos'],'escultura_de_piedra_sustantivos_10_1','escultura_de_piedra_sustantivos_10_1',most_common,print_df=print_df_var)\n",
    "# plot_freq_dist(data['verbos'],'escultura_de_piedra_verbos_10_1','escultura_de_piedra_verbos_10_1',most_common,print_df=print_df_var)\n",
    "# plot_freq_dist(data['adjetivos'],'escultura_de_piedra_adjetivos_10_1','escultura_de_piedra_adjetivos_10_1',most_common,print_df=print_df_var)\n",
    "# plot_freq_dist(data['adverbios'],'escultura_de_piedra_adverbios_10_1','escultura_de_piedra_adverbios_10_1',most_common,print_df=print_df_var)"
   ]
  },
  {
   "cell_type": "code",
   "execution_count": null,
   "metadata": {},
   "outputs": [],
   "source": [
    "data = extract_data(dfs_prueba3[10][2],excep)\n",
    "# plot_freq_dist(data['sustantivos'],'escultura_de_piedra_sustantivos_10_2','escultura_de_piedra_sustantivos_10_2',most_common,print_df=print_df_var)\n",
    "# plot_freq_dist(data['verbos'],'escultura_de_piedra_verbos_10_2','escultura_de_piedra_verbos_10_2',most_common,print_df=print_df_var)\n",
    "# plot_freq_dist(data['adjetivos'],'escultura_de_piedra_adjetivos_10_2','escultura_de_piedra_adjetivos_10_2',most_common,print_df=print_df_var)\n",
    "# plot_freq_dist(data['adverbios'],'escultura_de_piedra_adverbios_10_2','escultura_de_piedra_adverbios_10_2',most_common,print_df=print_df_var)"
   ]
  },
  {
   "cell_type": "code",
   "execution_count": null,
   "metadata": {},
   "outputs": [],
   "source": [
    "data = extract_data(dfs_prueba3[10][3],excep)\n",
    "# plot_freq_dist(data['sustantivos'],'escultura_de_piedra_sustantivos_10_3','escultura_de_piedra_sustantivos_10_3',most_common,print_df=print_df_var)\n",
    "# plot_freq_dist(data['verbos'],'escultura_de_piedra_verbos_10_3','escultura_de_piedra_verbos_10_3',most_common,print_df=print_df_var)\n",
    "# plot_freq_dist(data['adjetivos'],'escultura_de_piedra_adjetivos_10_3','escultura_de_piedra_adjetivos_10_3',most_common,print_df=print_df_var)\n",
    "# plot_freq_dist(data['adverbios'],'escultura_de_piedra_adverbios_10_3','escultura_de_piedra_adverbios_10_3',most_common,print_df=print_df_var)"
   ]
  },
  {
   "cell_type": "code",
   "execution_count": null,
   "metadata": {},
   "outputs": [],
   "source": [
    "data = extract_data(dfs_prueba3[11][0],excep)\n",
    "# plot_freq_dist(data['sustantivos'],'carbon_ardiente_sustantivos_11_0','carbon_ardiente_sustantivos_11_0',most_common,print_df=print_df_var)\n",
    "# plot_freq_dist(data['verbos'],'carbon_ardiente_verbos_11_0','carbon_ardiente_verbos_11_0',most_common,print_df=print_df_var)\n",
    "# plot_freq_dist(data['adjetivos'],'carbon_ardiente_adjetivos_11_0','carbon_ardiente_adjetivos_11_0',most_common,print_df=print_df_var)\n",
    "# plot_freq_dist(data['adverbios'],'carbon_ardiente_adverbios_11_0','carbon_ardiente_adverbios_11_0',most_common,print_df=print_df_var)"
   ]
  },
  {
   "cell_type": "code",
   "execution_count": null,
   "metadata": {},
   "outputs": [],
   "source": [
    "data = extract_data(dfs_prueba3[11][1],excep)\n",
    "# plot_freq_dist(data['sustantivos'],'carbon_ardiente_sustantivos_11_1','carbon_ardiente_sustantivos_11_1',most_common,print_df=print_df_var)\n",
    "# plot_freq_dist(data['verbos'],'carbon_ardiente_verbos_11_1','carbon_ardiente_verbos_11_1',most_common,print_df=print_df_var)\n",
    "# plot_freq_dist(data['adjetivos'],'carbon_ardiente_adjetivos_11_1','carbon_ardiente_adjetivos_11_1',most_common,print_df=print_df_var)\n",
    "# plot_freq_dist(data['adverbios'],'carbon_ardiente_adverbios_11_1','carbon_ardiente_adverbios_11_1',most_common,print_df=print_df_var)"
   ]
  },
  {
   "cell_type": "code",
   "execution_count": null,
   "metadata": {},
   "outputs": [],
   "source": [
    "data = extract_data(dfs_prueba3[11][2],excep)\n",
    "# plot_freq_dist(data['sustantivos'],'carbon_ardiente_sustantivos_11_2','carbon_ardiente_sustantivos_11_2',most_common,print_df=print_df_var)\n",
    "# plot_freq_dist(data['verbos'],'carbon_ardiente_verbos_11_2','carbon_ardiente_verbos_11_2',most_common,print_df=print_df_var)\n",
    "# plot_freq_dist(data['adjetivos'],'carbon_ardiente_adjetivos_11_2','carbon_ardiente_adjetivos_11_2',most_common,print_df=print_df_var)\n",
    "# plot_freq_dist(data['adverbios'],'carbon_ardiente_adverbios_11_2','carbon_ardiente_adverbios_11_2',most_common,print_df=print_df_var)"
   ]
  },
  {
   "cell_type": "code",
   "execution_count": null,
   "metadata": {},
   "outputs": [],
   "source": [
    "data = extract_data(dfs_prueba3[11][3],excep)\n",
    "# plot_freq_dist(data['sustantivos'],'carbon_ardiente_sustantivos_11_3','carbon_ardiente_sustantivos_11_3',most_common,print_df=print_df_var)\n",
    "# plot_freq_dist(data['verbos'],'carbon_ardiente_verbos_11_3','carbon_ardiente_verbos_11_3',most_common,print_df=print_df_var)\n",
    "# plot_freq_dist(data['adjetivos'],'carbon_ardiente_adjetivos_11_3','carbon_ardiente_adjetivos_11_3',most_common,print_df=print_df_var)\n",
    "# plot_freq_dist(data['adverbios'],'carbon_ardiente_adverbios_11_3','carbon_ardiente_adverbios_11_3',most_common,print_df=print_df_var)"
   ]
  },
  {
   "cell_type": "code",
   "execution_count": null,
   "metadata": {},
   "outputs": [],
   "source": [
    "data = extract_data(dfs_prueba3[12][0],excep)\n",
    "# plot_freq_dist(data['sustantivos'],'comida_salada_sustantivos_12_0','comida_salada_sustantivos_12_0',most_common,print_df=print_df_var)\n",
    "# plot_freq_dist(data['verbos'],'comida_salada_verbos_12_0','comida_salada_verbos_12_0',most_common,print_df=print_df_var)\n",
    "# plot_freq_dist(data['adjetivos'],'comida_salada_adjetivos_12_0','comida_salada_adjetivos_12_0',most_common,print_df=print_df_var)\n",
    "# plot_freq_dist(data['adverbios'],'comida_salada_adverbios_12_0','comida_salada_adverbios_12_0',most_common,print_df=print_df_var)"
   ]
  },
  {
   "cell_type": "code",
   "execution_count": null,
   "metadata": {},
   "outputs": [],
   "source": [
    "data = extract_data(dfs_prueba3[12][1],excep)\n",
    "# plot_freq_dist(data['sustantivos'],'comida_salada_sustantivos_12_1','comida_salada_sustantivos_12_1',most_common,print_df=print_df_var)\n",
    "# plot_freq_dist(data['verbos'],'comida_salada_verbos_12_1','comida_salada_verbos_12_1',most_common,print_df=print_df_var)\n",
    "# plot_freq_dist(data['adjetivos'],'comida_salada_adjetivos_12_1','comida_salada_adjetivos_12_1',most_common,print_df=print_df_var)\n",
    "# plot_freq_dist(data['adverbios'],'comida_salada_adverbios_12_1','comida_salada_adverbios_12_1',most_common,print_df=print_df_var)"
   ]
  },
  {
   "cell_type": "code",
   "execution_count": null,
   "metadata": {},
   "outputs": [],
   "source": [
    "data = extract_data(dfs_prueba3[12][2],excep)\n",
    "# plot_freq_dist(data['sustantivos'],'comida_salada_sustantivos_12_2','comida_salada_sustantivos_12_2',most_common,print_df=print_df_var)\n",
    "# plot_freq_dist(data['verbos'],'comida_salada_verbos_12_2','comida_salada_verbos_12_2',most_common,print_df=print_df_var)\n",
    "# plot_freq_dist(data['adjetivos'],'comida_salada_adjetivos_12_2','comida_salada_adjetivos_12_2',most_common,print_df=print_df_var)\n",
    "# plot_freq_dist(data['adverbios'],'comida_salada_adverbios_12_2','comida_salada_adverbios_12_2',most_common,print_df=print_df_var)"
   ]
  },
  {
   "cell_type": "code",
   "execution_count": null,
   "metadata": {},
   "outputs": [],
   "source": [
    "data = extract_data(dfs_prueba3[12][3],excep)\n",
    "# plot_freq_dist(data['sustantivos'],'comida_salada_sustantivos_12_3','comida_salada_sustantivos_12_3',most_common,print_df=print_df_var)\n",
    "# plot_freq_dist(data['verbos'],'comida_salada_verbos_12_3','comida_salada_verbos_12_3',most_common,print_df=print_df_var)\n",
    "# plot_freq_dist(data['adjetivos'],'comida_salada_adjetivos_12_3','comida_salada_adjetivos_12_3',most_common,print_df=print_df_var)\n",
    "# plot_freq_dist(data['adverbios'],'comida_salada_adverbios_12_3','comida_salada_adverbios_12_3',most_common,print_df=print_df_var)"
   ]
  },
  {
   "cell_type": "code",
   "execution_count": null,
   "metadata": {},
   "outputs": [],
   "source": [
    "data = extract_data(dfs_prueba3[13][0],excep)\n",
    "# plot_freq_dist(data['sustantivos'],'alma_de_hierro_sustantivos_13_0','alma_de_hierro_sustantivos_13_0',most_common,print_df=print_df_var)\n",
    "# plot_freq_dist(data['verbos'],'alma_de_hierro_verbos_13_0','alma_de_hierro_verbos_13_0',most_common,print_df=print_df_var)\n",
    "# plot_freq_dist(data['adjetivos'],'alma_de_hierro_adjetivos_13_0','alma_de_hierro_adjetivos_13_0',most_common,print_df=print_df_var)\n",
    "# plot_freq_dist(data['adverbios'],'alma_de_hierro_adverbios_13_0','alma_de_hierro_adverbios_13_0',most_common,print_df=print_df_var)"
   ]
  },
  {
   "cell_type": "code",
   "execution_count": null,
   "metadata": {},
   "outputs": [],
   "source": [
    "data = extract_data(dfs_prueba3[13][1],excep)\n",
    "# plot_freq_dist(data['sustantivos'],'alma_de_hierro_sustantivos_13_1','alma_de_hierro_sustantivos_13_1',most_common,print_df=print_df_var)\n",
    "# plot_freq_dist(data['verbos'],'alma_de_hierro_verbos_13_1','alma_de_hierro_verbos_13_1',most_common,print_df=print_df_var)\n",
    "# plot_freq_dist(data['adjetivos'],'alma_de_hierro_adjetivos_13_1','alma_de_hierro_adjetivos_13_1',most_common,print_df=print_df_var)\n",
    "# plot_freq_dist(data['adverbios'],'alma_de_hierro_adverbios_13_1','alma_de_hierro_adverbios_13_1',most_common,print_df=print_df_var)"
   ]
  },
  {
   "cell_type": "code",
   "execution_count": null,
   "metadata": {},
   "outputs": [],
   "source": [
    "data = extract_data(dfs_prueba3[13][2],excep)\n",
    "# plot_freq_dist(data['sustantivos'],'alma_de_hierro_sustantivos_13_2','alma_de_hierro_sustantivos_13_2',most_common,print_df=print_df_var)\n",
    "# plot_freq_dist(data['verbos'],'alma_de_hierro_verbos_13_2','alma_de_hierro_verbos_13_2',most_common,print_df=print_df_var)\n",
    "# plot_freq_dist(data['adjetivos'],'alma_de_hierro_adjetivos_13_2','alma_de_hierro_adjetivos_13_2',most_common,print_df=print_df_var)\n",
    "# plot_freq_dist(data['adverbios'],'alma_de_hierro_adverbios_13_2','alma_de_hierro_adverbios_13_2',most_common,print_df=print_df_var)"
   ]
  },
  {
   "cell_type": "code",
   "execution_count": null,
   "metadata": {},
   "outputs": [],
   "source": [
    "data = extract_data(dfs_prueba3[13][3],excep)\n",
    "# plot_freq_dist(data['sustantivos'],'alma_de_hierro_sustantivos_13_3','alma_de_hierro_sustantivos_13_3',most_common,print_df=print_df_var)\n",
    "# plot_freq_dist(data['verbos'],'alma_de_hierro_verbos_13_3','alma_de_hierro_verbos_13_3',most_common,print_df=print_df_var)\n",
    "# plot_freq_dist(data['adjetivos'],'alma_de_hierro_adjetivos_13_3','alma_de_hierro_adjetivos_13_3',most_common,print_df=print_df_var)\n",
    "# plot_freq_dist(data['adverbios'],'alma_de_hierro_adverbios_13_3','alma_de_hierro_adverbios_13_3',most_common,print_df=print_df_var)"
   ]
  },
  {
   "cell_type": "code",
   "execution_count": null,
   "metadata": {},
   "outputs": [],
   "source": [
    "data = extract_data(dfs_prueba3[14][0],excep)\n",
    "# plot_freq_dist(data['sustantivos'],'ojos_amargos_sustantivos_14_0','ojos_amargos_sustantivos_14_0',most_common,print_df=print_df_var)\n",
    "# plot_freq_dist(data['verbos'],'ojos_amargos_verbos_14_0','ojos_amargos_verbos_14_0',most_common,print_df=print_df_var)\n",
    "# plot_freq_dist(data['adjetivos'],'ojos_amargos_adjetivos_14_0','ojos_amargos_adjetivos_14_0',most_common,print_df=print_df_var)\n",
    "# plot_freq_dist(data['adverbios'],'ojos_amargos_adverbios_14_0','ojos_amargos_adverbios_14_0',most_common,print_df=print_df_var)"
   ]
  },
  {
   "cell_type": "code",
   "execution_count": null,
   "metadata": {},
   "outputs": [],
   "source": [
    "data = extract_data(dfs_prueba3[14][1],excep)\n",
    "# plot_freq_dist(data['sustantivos'],'ojos_amargos_sustantivos_14_1','ojos_amargos_sustantivos_14_1',most_common,print_df=print_df_var)\n",
    "# plot_freq_dist(data['verbos'],'ojos_amargos_verbos_14_1','ojos_amargos_verbos_14_1',most_common,print_df=print_df_var)\n",
    "# plot_freq_dist(data['adjetivos'],'ojos_amargos_adjetivos_14_1','ojos_amargos_adjetivos_14_1',most_common,print_df=print_df_var)\n",
    "# plot_freq_dist(data['adverbios'],'ojos_amargos_adverbios_14_1','ojos_amargos_adverbios_14_1',most_common,print_df=print_df_var)"
   ]
  },
  {
   "cell_type": "code",
   "execution_count": null,
   "metadata": {},
   "outputs": [],
   "source": [
    "data = extract_data(dfs_prueba3[14][2],excep)\n",
    "# plot_freq_dist(data['sustantivos'],'ojos_amargos_sustantivos_14_2','ojos_amargos_sustantivos_14_2',most_common,print_df=print_df_var)\n",
    "# plot_freq_dist(data['verbos'],'ojos_amargos_verbos_14_2','ojos_amargos_verbos_14_2',most_common,print_df=print_df_var)\n",
    "# plot_freq_dist(data['adjetivos'],'ojos_amargos_adjetivos_14_2','ojos_amargos_adjetivos_14_2',most_common,print_df=print_df_var)\n",
    "# plot_freq_dist(data['adverbios'],'ojos_amargos_adverbios_14_2','ojos_amargos_adverbios_14_2',most_common,print_df=print_df_var)"
   ]
  },
  {
   "cell_type": "code",
   "execution_count": null,
   "metadata": {},
   "outputs": [],
   "source": [
    "data = extract_data(dfs_prueba3[14][3],excep)\n",
    "# plot_freq_dist(data['sustantivos'],'ojos_amargos_sustantivos_14_3','ojos_amargos_sustantivos_14_3',most_common,print_df=print_df_var)\n",
    "# plot_freq_dist(data['verbos'],'ojos_amargos_verbos_14_3','ojos_amargos_verbos_14_3',most_common,print_df=print_df_var)\n",
    "# plot_freq_dist(data['adjetivos'],'ojos_amargos_adjetivos_14_3','ojos_amargos_adjetivos_14_3',most_common,print_df=print_df_var)\n",
    "# plot_freq_dist(data['adverbios'],'ojos_amargos_adverbios_14_3','ojos_amargos_adverbios_14_3',most_common,print_df=print_df_var)"
   ]
  },
  {
   "cell_type": "code",
   "execution_count": null,
   "metadata": {},
   "outputs": [],
   "source": [
    "data = extract_data(dfs_prueba3[15][0],excep)\n",
    "# plot_freq_dist(data['sustantivos'],'abrazos_suaves_sustantivos_15_0','abrazos_suaves_sustantivos_15_0',most_common,print_df=print_df_var)\n",
    "# plot_freq_dist(data['verbos'],'abrazos_suaves_verbos_15_0','abrazos_suaves_verbos_15_0',most_common,print_df=print_df_var)\n",
    "# plot_freq_dist(data['adjetivos'],'abrazos_suaves_adjetivos_15_0','abrazos_suaves_adjetivos_15_0',most_common,print_df=print_df_var)\n",
    "# plot_freq_dist(data['adverbios'],'abrazos_suaves_adverbios_15_0','abrazos_suaves_adverbios_15_0',most_common,print_df=print_df_var)"
   ]
  },
  {
   "cell_type": "code",
   "execution_count": null,
   "metadata": {},
   "outputs": [],
   "source": [
    "data = extract_data(dfs_prueba3[15][1],excep)\n",
    "# plot_freq_dist(data['sustantivos'],'abrazos_suaves_sustantivos_15_1','abrazos_suaves_sustantivos_15_1',most_common,print_df=print_df_var)\n",
    "# plot_freq_dist(data['verbos'],'abrazos_suaves_verbos_15_1','abrazos_suaves_verbos_15_1',most_common,print_df=print_df_var)\n",
    "# plot_freq_dist(data['adjetivos'],'abrazos_suaves_adjetivos_15_1','abrazos_suaves_adjetivos_15_1',most_common,print_df=print_df_var)\n",
    "# plot_freq_dist(data['adverbios'],'abrazos_suaves_adverbios_15_1','abrazos_suaves_adverbios_15_1',most_common,print_df=print_df_var)"
   ]
  },
  {
   "cell_type": "code",
   "execution_count": null,
   "metadata": {},
   "outputs": [],
   "source": [
    "data = extract_data(dfs_prueba3[15][2],excep)\n",
    "# plot_freq_dist(data['sustantivos'],'abrazos_suaves_sustantivos_15_2','abrazos_suaves_sustantivos_15_2',most_common,print_df=print_df_var)\n",
    "# plot_freq_dist(data['verbos'],'abrazos_suaves_verbos_15_2','abrazos_suaves_verbos_15_2',most_common,print_df=print_df_var)\n",
    "# plot_freq_dist(data['adjetivos'],'abrazos_suaves_adjetivos_15_2','abrazos_suaves_adjetivos_15_2',most_common,print_df=print_df_var)\n",
    "# plot_freq_dist(data['adverbios'],'abrazos_suaves_adverbios_15_2','abrazos_suaves_adverbios_15_2',most_common,print_df=print_df_var)"
   ]
  },
  {
   "cell_type": "code",
   "execution_count": null,
   "metadata": {},
   "outputs": [],
   "source": [
    "data = extract_data(dfs_prueba3[15][3],excep)\n",
    "# plot_freq_dist(data['sustantivos'],'abrazos_suaves_sustantivos_15_3','abrazos_suaves_sustantivos_15_3',most_common,print_df=print_df_var)\n",
    "# plot_freq_dist(data['verbos'],'abrazos_suaves_verbos_15_3','abrazos_suaves_verbos_15_3',most_common,print_df=print_df_var)\n",
    "# plot_freq_dist(data['adjetivos'],'abrazos_suaves_adjetivos_15_3','abrazos_suaves_adjetivos_15_3',most_common,print_df=print_df_var)\n",
    "# plot_freq_dist(data['adverbios'],'abrazos_suaves_adverbios_15_3','abrazos_suaves_adverbios_15_3',most_common,print_df=print_df_var)"
   ]
  },
  {
   "cell_type": "code",
   "execution_count": null,
   "metadata": {},
   "outputs": [],
   "source": [
    "data = extract_data(dfs_prueba3[16][0],excep)\n",
    "# plot_freq_dist(data['sustantivos'],'banqueta_abrigadora_sustantivos_16_0','banqueta_abrigadora_sustantivos_16_0',most_common,print_df=print_df_var)\n",
    "# plot_freq_dist(data['verbos'],'banqueta_abrigadora_verbos_16_0','banqueta_abrigadora_verbos_16_0',most_common,print_df=print_df_var)\n",
    "# plot_freq_dist(data['adjetivos'],'banqueta_abrigadora_adjetivos_16_0','banqueta_abrigadora_adjetivos_16_0',most_common,print_df=print_df_var)\n",
    "# plot_freq_dist(data['adverbios'],'banqueta_abrigadora_adverbios_16_0','banqueta_abrigadora_adverbios_16_0',most_common,print_df=print_df_var)"
   ]
  },
  {
   "cell_type": "code",
   "execution_count": null,
   "metadata": {},
   "outputs": [],
   "source": [
    "data = extract_data(dfs_prueba3[16][1],excep)\n",
    "# plot_freq_dist(data['sustantivos'],'banqueta_abrigadora_sustantivos_16_1','banqueta_abrigadora_sustantivos_16_1',most_common,print_df=print_df_var)\n",
    "# plot_freq_dist(data['verbos'],'banqueta_abrigadora_verbos_16_1','banqueta_abrigadora_verbos_16_1',most_common,print_df=print_df_var)\n",
    "# plot_freq_dist(data['adjetivos'],'banqueta_abrigadora_adjetivos_16_1','banqueta_abrigadora_adjetivos_16_1',most_common,print_df=print_df_var)\n",
    "# plot_freq_dist(data['adverbios'],'banqueta_abrigadora_adverbios_16_1','banqueta_abrigadora_adverbios_16_1',most_common,print_df=print_df_var)"
   ]
  },
  {
   "cell_type": "code",
   "execution_count": null,
   "metadata": {},
   "outputs": [],
   "source": [
    "data = extract_data(dfs_prueba3[16][2],excep)\n",
    "# plot_freq_dist(data['sustantivos'],'banqueta_abrigadora_sustantivos_16_2','banqueta_abrigadora_sustantivos_16_2',most_common,print_df=print_df_var)\n",
    "# plot_freq_dist(data['verbos'],'banqueta_abrigadora_verbos_16_2','banqueta_abrigadora_verbos_16_2',most_common,print_df=print_df_var)\n",
    "# plot_freq_dist(data['adjetivos'],'banqueta_abrigadora_adjetivos_16_2','banqueta_abrigadora_adjetivos_16_2',most_common,print_df=print_df_var)\n",
    "# plot_freq_dist(data['adverbios'],'banqueta_abrigadora_adverbios_16_2','banqueta_abrigadora_adverbios_16_2',most_common,print_df=print_df_var)"
   ]
  },
  {
   "cell_type": "code",
   "execution_count": null,
   "metadata": {},
   "outputs": [],
   "source": [
    "data = extract_data(dfs_prueba3[16][3],excep)\n",
    "# plot_freq_dist(data['sustantivos'],'banqueta_abrigadora_sustantivos_16_3','banqueta_abrigadora_sustantivos_16_3',most_common,print_df=print_df_var)\n",
    "# plot_freq_dist(data['verbos'],'banqueta_abrigadora_verbos_16_3','banqueta_abrigadora_verbos_16_3',most_common,print_df=print_df_var)\n",
    "# plot_freq_dist(data['adjetivos'],'banqueta_abrigadora_adjetivos_16_3','banqueta_abrigadora_adjetivos_16_3',most_common,print_df=print_df_var)\n",
    "# plot_freq_dist(data['adverbios'],'banqueta_abrigadora_adverbios_16_3','banqueta_abrigadora_adverbios_16_3',most_common,print_df=print_df_var)"
   ]
  },
  {
   "cell_type": "code",
   "execution_count": null,
   "metadata": {},
   "outputs": [],
   "source": [
    "data = extract_data(dfs_prueba3[17][0],excep)\n",
    "# plot_freq_dist(data['sustantivos'],'calceta_de_plata_sustantivos_17_0','calceta_de_plata_sustantivos_17_0',most_common,print_df=print_df_var)\n",
    "# plot_freq_dist(data['verbos'],'calceta_de_plata_verbos_17_0','calceta_de_plata_verbos_17_0',most_common,print_df=print_df_var)\n",
    "# plot_freq_dist(data['adjetivos'],'calceta_de_plata_adjetivos_17_0','calceta_de_plata_adjetivos_17_0',most_common,print_df=print_df_var)\n",
    "# plot_freq_dist(data['adverbios'],'calceta_de_plata_adverbios_17_0','calceta_de_plata_adverbios_17_0',most_common,print_df=print_df_var)"
   ]
  },
  {
   "cell_type": "code",
   "execution_count": null,
   "metadata": {},
   "outputs": [],
   "source": [
    "data = extract_data(dfs_prueba3[17][1],excep)\n",
    "# plot_freq_dist(data['sustantivos'],'calceta_de_plata_sustantivos_17_1','calceta_de_plata_sustantivos_17_1',most_common,print_df=print_df_var)\n",
    "# plot_freq_dist(data['verbos'],'calceta_de_plata_verbos_17_1','calceta_de_plata_verbos_17_1',most_common,print_df=print_df_var)\n",
    "# plot_freq_dist(data['adjetivos'],'calceta_de_plata_adjetivos_17_1','calceta_de_plata_adjetivos_17_1',most_common,print_df=print_df_var)\n",
    "# plot_freq_dist(data['adverbios'],'calceta_de_plata_adverbios_17_1','calceta_de_plata_adverbios_17_1',most_common,print_df=print_df_var)"
   ]
  },
  {
   "cell_type": "code",
   "execution_count": null,
   "metadata": {},
   "outputs": [],
   "source": [
    "data = extract_data(dfs_prueba3[17][2],excep)\n",
    "# plot_freq_dist(data['sustantivos'],'calceta_de_plata_sustantivos_17_2','calceta_de_plata_sustantivos_17_2',most_common,print_df=print_df_var)\n",
    "# plot_freq_dist(data['verbos'],'calceta_de_plata_verbos_17_2','calceta_de_plata_verbos_17_2',most_common,print_df=print_df_var)\n",
    "# plot_freq_dist(data['adjetivos'],'calceta_de_plata_adjetivos_17_2','calceta_de_plata_adjetivos_17_2',most_common,print_df=print_df_var)\n",
    "# plot_freq_dist(data['adverbios'],'calceta_de_plata_adverbios_17_2','calceta_de_plata_adverbios_17_2',most_common,print_df=print_df_var)"
   ]
  },
  {
   "cell_type": "code",
   "execution_count": null,
   "metadata": {},
   "outputs": [],
   "source": [
    "data = extract_data(dfs_prueba3[17][3],excep)\n",
    "# plot_freq_dist(data['sustantivos'],'calceta_de_plata_sustantivos_17_3','calceta_de_plata_sustantivos_17_3',most_common,print_df=print_df_var)\n",
    "# plot_freq_dist(data['verbos'],'calceta_de_plata_verbos_17_3','calceta_de_plata_verbos_17_3',most_common,print_df=print_df_var)\n",
    "# plot_freq_dist(data['adjetivos'],'calceta_de_plata_adjetivos_17_3','calceta_de_plata_adjetivos_17_3',most_common,print_df=print_df_var)\n",
    "# plot_freq_dist(data['adverbios'],'calceta_de_plata_adverbios_17_3','calceta_de_plata_adverbios_17_3',most_common,print_df=print_df_var)"
   ]
  },
  {
   "cell_type": "code",
   "execution_count": null,
   "metadata": {},
   "outputs": [],
   "source": [
    "data = extract_data(dfs_prueba3[18][0],excep)\n",
    "# plot_freq_dist(data['sustantivos'],'lapiz_sin_sabor_sustantivos_18_0','lapiz_sin_sabor_sustantivos_18_0',most_common,print_df=print_df_var)\n",
    "# plot_freq_dist(data['verbos'],'lapiz_sin_sabor_verbos_18_0','lapiz_sin_sabor_verbos_18_0',most_common,print_df=print_df_var)\n",
    "# plot_freq_dist(data['adjetivos'],'lapiz_sin_sabor_adjetivos_18_0','lapiz_sin_sabor_adjetivos_18_0',most_common,print_df=print_df_var)\n",
    "# plot_freq_dist(data['adverbios'],'lapiz_sin_sabor_adverbios_18_0','lapiz_sin_sabor_adverbios_18_0',most_common,print_df=print_df_var)"
   ]
  },
  {
   "cell_type": "code",
   "execution_count": null,
   "metadata": {},
   "outputs": [],
   "source": [
    "data = extract_data(dfs_prueba3[18][1],excep)\n",
    "# plot_freq_dist(data['sustantivos'],'lapiz_sin_sabor_sustantivos_18_1','lapiz_sin_sabor_sustantivos_18_1',most_common,print_df=print_df_var)\n",
    "# plot_freq_dist(data['verbos'],'lapiz_sin_sabor_verbos_18_1','lapiz_sin_sabor_verbos_18_1',most_common,print_df=print_df_var)\n",
    "# plot_freq_dist(data['adjetivos'],'lapiz_sin_sabor_adjetivos_18_1','lapiz_sin_sabor_adjetivos_18_1',most_common,print_df=print_df_var)\n",
    "# plot_freq_dist(data['adverbios'],'lapiz_sin_sabor_adverbios_18_1','lapiz_sin_sabor_adverbios_18_1',most_common,print_df=print_df_var)"
   ]
  },
  {
   "cell_type": "code",
   "execution_count": null,
   "metadata": {},
   "outputs": [],
   "source": [
    "data = extract_data(dfs_prueba3[18][2],excep)\n",
    "# plot_freq_dist(data['sustantivos'],'lapiz_sin_sabor_sustantivos_18_2','lapiz_sin_sabor_sustantivos_18_2',most_common,print_df=print_df_var)\n",
    "# plot_freq_dist(data['verbos'],'lapiz_sin_sabor_verbos_18_2','lapiz_sin_sabor_verbos_18_2',most_common,print_df=print_df_var)\n",
    "# plot_freq_dist(data['adjetivos'],'lapiz_sin_sabor_adjetivos_18_2','lapiz_sin_sabor_adjetivos_18_2',most_common,print_df=print_df_var)\n",
    "# plot_freq_dist(data['adverbios'],'lapiz_sin_sabor_adverbios_18_2','lapiz_sin_sabor_adverbios_18_2',most_common,print_df=print_df_var)"
   ]
  },
  {
   "cell_type": "code",
   "execution_count": null,
   "metadata": {},
   "outputs": [],
   "source": [
    "data = extract_data(dfs_prueba3[18][3],excep)\n",
    "# plot_freq_dist(data['sustantivos'],'lapiz_sin_sabor_sustantivos_18_3','lapiz_sin_sabor_sustantivos_18_3',most_common,print_df=print_df_var)\n",
    "# plot_freq_dist(data['verbos'],'lapiz_sin_sabor_verbos_18_3','lapiz_sin_sabor_verbos_18_3',most_common,print_df=print_df_var)\n",
    "# plot_freq_dist(data['adjetivos'],'lapiz_sin_sabor_adjetivos_18_3','lapiz_sin_sabor_adjetivos_18_3',most_common,print_df=print_df_var)\n",
    "# plot_freq_dist(data['adverbios'],'lapiz_sin_sabor_adverbios_18_3','lapiz_sin_sabor_adverbios_18_3',most_common,print_df=print_df_var)"
   ]
  },
  {
   "cell_type": "code",
   "execution_count": null,
   "metadata": {},
   "outputs": [],
   "source": [
    "data = extract_data(dfs_prueba3[19][0],excep)\n",
    "# plot_freq_dist(data['sustantivos'],'la_silla_ya_llego_sustantivos_19_0','la_silla_ya_llego_sustantivos_19_0',most_common,print_df=print_df_var)\n",
    "# plot_freq_dist(data['verbos'],'la_silla_ya_llego_verbos_19_0','la_silla_ya_llego_verbos_19_0',most_common,print_df=print_df_var)\n",
    "# plot_freq_dist(data['adjetivos'],'la_silla_ya_llego_adjetivos_19_0','la_silla_ya_llego_adjetivos_19_0',most_common,print_df=print_df_var)\n",
    "# plot_freq_dist(data['adverbios'],'la_silla_ya_llego_adverbios_19_0','la_silla_ya_llego_adverbios_19_0',most_common,print_df=print_df_var)"
   ]
  },
  {
   "cell_type": "code",
   "execution_count": null,
   "metadata": {},
   "outputs": [],
   "source": [
    "data = extract_data(dfs_prueba3[19][1],excep)\n",
    "# plot_freq_dist(data['sustantivos'],'la_silla_ya_llego_sustantivos_19_1','la_silla_ya_llego_sustantivos_19_1',most_common,print_df=print_df_var)\n",
    "# plot_freq_dist(data['verbos'],'la_silla_ya_llego_verbos_19_1','la_silla_ya_llego_verbos_19_1',most_common,print_df=print_df_var)\n",
    "# plot_freq_dist(data['adjetivos'],'la_silla_ya_llego_adjetivos_19_1','la_silla_ya_llego_adjetivos_19_1',most_common,print_df=print_df_var)\n",
    "# plot_freq_dist(data['adverbios'],'la_silla_ya_llego_adverbios_19_1','la_silla_ya_llego_adverbios_19_1',most_common,print_df=print_df_var)"
   ]
  },
  {
   "cell_type": "code",
   "execution_count": null,
   "metadata": {},
   "outputs": [],
   "source": [
    "data = extract_data(dfs_prueba3[19][2],excep)\n",
    "# plot_freq_dist(data['sustantivos'],'la_silla_ya_llego_sustantivos_19_2','la_silla_ya_llego_sustantivos_19_2',most_common,print_df=print_df_var)\n",
    "# plot_freq_dist(data['verbos'],'la_silla_ya_llego_verbos_19_2','la_silla_ya_llego_verbos_19_2',most_common,print_df=print_df_var)\n",
    "# plot_freq_dist(data['adjetivos'],'la_silla_ya_llego_adjetivos_19_2','la_silla_ya_llego_adjetivos_19_2',most_common,print_df=print_df_var)\n",
    "# plot_freq_dist(data['adverbios'],'la_silla_ya_llego_adverbios_19_2','la_silla_ya_llego_adverbios_19_2',most_common,print_df=print_df_var)"
   ]
  },
  {
   "cell_type": "code",
   "execution_count": null,
   "metadata": {},
   "outputs": [],
   "source": [
    "data = extract_data(dfs_prueba3[19][3],excep)\n",
    "# plot_freq_dist(data['sustantivos'],'la_silla_ya_llego_sustantivos_19_3','la_silla_ya_llego_sustantivos_19_3',most_common,print_df=print_df_var)\n",
    "# plot_freq_dist(data['verbos'],'la_silla_ya_llego_verbos_19_3','la_silla_ya_llego_verbos_19_3',most_common,print_df=print_df_var)\n",
    "# plot_freq_dist(data['adjetivos'],'la_silla_ya_llego_adjetivos_19_3','la_silla_ya_llego_adjetivos_19_3',most_common,print_df=print_df_var)\n",
    "# plot_freq_dist(data['adverbios'],'la_silla_ya_llego_adverbios_19_3','la_silla_ya_llego_adverbios_19_3',most_common,print_df=print_df_var)"
   ]
  },
  {
   "cell_type": "code",
   "execution_count": null,
   "metadata": {},
   "outputs": [],
   "source": [
    "data = extract_data(dfs_prueba3[20][0],excep)\n",
    "# plot_freq_dist(data['sustantivos'],'la_cebolla_llega_sustantivos_20_0','la_cebolla_llega_sustantivos_20_0',most_common,print_df=print_df_var)\n",
    "# plot_freq_dist(data['verbos'],'la_cebolla_llega_verbos_20_0','la_cebolla_llega_verbos_20_0',most_common,print_df=print_df_var)\n",
    "# plot_freq_dist(data['adjetivos'],'la_cebolla_llega_adjetivos_20_0','la_cebolla_llega_adjetivos_20_0',most_common,print_df=print_df_var)\n",
    "# plot_freq_dist(data['adverbios'],'la_cebolla_llega_adverbios_20_0','la_cebolla_llega_adverbios_20_0',most_common,print_df=print_df_var)"
   ]
  },
  {
   "cell_type": "code",
   "execution_count": null,
   "metadata": {},
   "outputs": [],
   "source": [
    "data = extract_data(dfs_prueba3[20][1],excep)\n",
    "# plot_freq_dist(data['sustantivos'],'la_cebolla_llega_sustantivos_20_1','la_cebolla_llega_sustantivos_20_1',most_common,print_df=print_df_var)\n",
    "# plot_freq_dist(data['verbos'],'la_cebolla_llega_verbos_20_1','la_cebolla_llega_verbos_20_1',most_common,print_df=print_df_var)\n",
    "# plot_freq_dist(data['adjetivos'],'la_cebolla_llega_adjetivos_20_1','la_cebolla_llega_adjetivos_20_1',most_common,print_df=print_df_var)\n",
    "# plot_freq_dist(data['adverbios'],'la_cebolla_llega_adverbios_20_1','la_cebolla_llega_adverbios_20_1',most_common,print_df=print_df_var)"
   ]
  },
  {
   "cell_type": "code",
   "execution_count": null,
   "metadata": {},
   "outputs": [],
   "source": [
    "data = extract_data(dfs_prueba3[20][2],excep)\n",
    "# plot_freq_dist(data['sustantivos'],'la_cebolla_llega_sustantivos_20_2','la_cebolla_llega_sustantivos_20_2',most_common,print_df=print_df_var)\n",
    "# plot_freq_dist(data['verbos'],'la_cebolla_llega_verbos_20_2','la_cebolla_llega_verbos_20_2',most_common,print_df=print_df_var)\n",
    "# plot_freq_dist(data['adjetivos'],'la_cebolla_llega_adjetivos_20_2','la_cebolla_llega_adjetivos_20_2',most_common,print_df=print_df_var)\n",
    "# plot_freq_dist(data['adverbios'],'la_cebolla_llega_adverbios_20_2','la_cebolla_llega_adverbios_20_2',most_common,print_df=print_df_var)"
   ]
  },
  {
   "cell_type": "code",
   "execution_count": null,
   "metadata": {},
   "outputs": [],
   "source": [
    "data = extract_data(dfs_prueba3[20][3],excep)\n",
    "# plot_freq_dist(data['sustantivos'],'la_cebolla_llega_sustantivos_20_3','la_cebolla_llega_sustantivos_20_3',most_common,print_df=print_df_var)\n",
    "# plot_freq_dist(data['verbos'],'la_cebolla_llega_verbos_20_3','la_cebolla_llega_verbos_20_3',most_common,print_df=print_df_var)\n",
    "# plot_freq_dist(data['adjetivos'],'la_cebolla_llega_adjetivos_20_3','la_cebolla_llega_adjetivos_20_3',most_common,print_df=print_df_var)\n",
    "# plot_freq_dist(data['adverbios'],'la_cebolla_llega_adverbios_20_3','la_cebolla_llega_adverbios_20_3',most_common,print_df=print_df_var)"
   ]
  },
  {
   "cell_type": "code",
   "execution_count": null,
   "metadata": {},
   "outputs": [],
   "source": [
    "data = extract_data(dfs_prueba3[21][0],excep)\n",
    "# plot_freq_dist(data['sustantivos'],'los_hornos_se_acercan_sustantivos_21_0','los_hornos_se_acercan_sustantivos_21_0',most_common,print_df=print_df_var)\n",
    "# plot_freq_dist(data['verbos'],'los_hornos_se_acercan_verbos_21_0','los_hornos_se_acercan_verbos_21_0',most_common,print_df=print_df_var)\n",
    "# plot_freq_dist(data['adjetivos'],'los_hornos_se_acercan_adjetivos_21_0','los_hornos_se_acercan_adjetivos_21_0',most_common,print_df=print_df_var)\n",
    "# plot_freq_dist(data['adverbios'],'los_hornos_se_acercan_adverbios_21_0','los_hornos_se_acercan_adverbios_21_0',most_common,print_df=print_df_var)"
   ]
  },
  {
   "cell_type": "code",
   "execution_count": null,
   "metadata": {},
   "outputs": [],
   "source": [
    "data = extract_data(dfs_prueba3[21][1],excep)\n",
    "# plot_freq_dist(data['sustantivos'],'los_hornos_se_acercan_sustantivos_21_1','los_hornos_se_acercan_sustantivos_21_1',most_common,print_df=print_df_var)\n",
    "# plot_freq_dist(data['verbos'],'los_hornos_se_acercan_verbos_21_1','los_hornos_se_acercan_verbos_21_1',most_common,print_df=print_df_var)\n",
    "# plot_freq_dist(data['adjetivos'],'los_hornos_se_acercan_adjetivos_21_1','los_hornos_se_acercan_adjetivos_21_1',most_common,print_df=print_df_var)\n",
    "# plot_freq_dist(data['adverbios'],'los_hornos_se_acercan_adverbios_21_1','los_hornos_se_acercan_adverbios_21_1',most_common,print_df=print_df_var)"
   ]
  },
  {
   "cell_type": "code",
   "execution_count": null,
   "metadata": {},
   "outputs": [],
   "source": [
    "data = extract_data(dfs_prueba3[21][2],excep)\n",
    "# plot_freq_dist(data['sustantivos'],'los_hornos_se_acercan_sustantivos_21_2','los_hornos_se_acercan_sustantivos_21_2',most_common,print_df=print_df_var)\n",
    "# plot_freq_dist(data['verbos'],'los_hornos_se_acercan_verbos_21_2','los_hornos_se_acercan_verbos_21_2',most_common,print_df=print_df_var)\n",
    "# plot_freq_dist(data['adjetivos'],'los_hornos_se_acercan_adjetivos_21_2','los_hornos_se_acercan_adjetivos_21_2',most_common,print_df=print_df_var)\n",
    "# plot_freq_dist(data['adverbios'],'los_hornos_se_acercan_adverbios_21_2','los_hornos_se_acercan_adverbios_21_2',most_common,print_df=print_df_var)"
   ]
  },
  {
   "cell_type": "code",
   "execution_count": null,
   "metadata": {},
   "outputs": [],
   "source": [
    "data = extract_data(dfs_prueba3[21][3],excep)\n",
    "# plot_freq_dist(data['sustantivos'],'los_hornos_se_acercan_sustantivos_21_3','los_hornos_se_acercan_sustantivos_21_3',most_common,print_df=print_df_var)\n",
    "# plot_freq_dist(data['verbos'],'los_hornos_se_acercan_verbos_21_3','los_hornos_se_acercan_verbos_21_3',most_common,print_df=print_df_var)\n",
    "# plot_freq_dist(data['adjetivos'],'los_hornos_se_acercan_adjetivos_21_3','los_hornos_se_acercan_adjetivos_21_3',most_common,print_df=print_df_var)\n",
    "# plot_freq_dist(data['adverbios'],'los_hornos_se_acercan_adverbios_21_3','los_hornos_se_acercan_adverbios_21_3',most_common,print_df=print_df_var)"
   ]
  },
  {
   "cell_type": "code",
   "execution_count": null,
   "metadata": {},
   "outputs": [],
   "source": [
    "data = extract_data(dfs_prueba3[22][0],excep)\n",
    "# plot_freq_dist(data['sustantivos'],'los_atletas_corren_sustantivos_22_0','los_atletas_corren_sustantivos_22_0',most_common,print_df=print_df_var)\n",
    "# plot_freq_dist(data['verbos'],'los_atletas_corren_verbos_22_0','los_atletas_corren_verbos_22_0',most_common,print_df=print_df_var)\n",
    "# plot_freq_dist(data['adjetivos'],'los_atletas_corren_adjetivos_22_0','los_atletas_corren_adjetivos_22_0',most_common,print_df=print_df_var)\n",
    "# plot_freq_dist(data['adverbios'],'los_atletas_corren_adverbios_22_0','los_atletas_corren_adverbios_22_0',most_common,print_df=print_df_var)"
   ]
  },
  {
   "cell_type": "code",
   "execution_count": null,
   "metadata": {},
   "outputs": [],
   "source": [
    "data = extract_data(dfs_prueba3[22][1],excep)\n",
    "# plot_freq_dist(data['sustantivos'],'los_atletas_corren_sustantivos_22_1','los_atletas_corren_sustantivos_22_1',most_common,print_df=print_df_var)\n",
    "# plot_freq_dist(data['verbos'],'los_atletas_corren_verbos_22_1','los_atletas_corren_verbos_22_1',most_common,print_df=print_df_var)\n",
    "# plot_freq_dist(data['adjetivos'],'los_atletas_corren_adjetivos_22_1','los_atletas_corren_adjetivos_22_1',most_common,print_df=print_df_var)\n",
    "# plot_freq_dist(data['adverbios'],'los_atletas_corren_adverbios_22_1','los_atletas_corren_adverbios_22_1',most_common,print_df=print_df_var)"
   ]
  },
  {
   "cell_type": "code",
   "execution_count": null,
   "metadata": {},
   "outputs": [],
   "source": [
    "data = extract_data(dfs_prueba3[22][2],excep)\n",
    "# plot_freq_dist(data['sustantivos'],'los_atletas_corren_sustantivos_22_2','los_atletas_corren_sustantivos_22_2',most_common,print_df=print_df_var)\n",
    "# plot_freq_dist(data['verbos'],'los_atletas_corren_verbos_22_2','los_atletas_corren_verbos_22_2',most_common,print_df=print_df_var)\n",
    "# plot_freq_dist(data['adjetivos'],'los_atletas_corren_adjetivos_22_2','los_atletas_corren_adjetivos_22_2',most_common,print_df=print_df_var)\n",
    "# plot_freq_dist(data['adverbios'],'los_atletas_corren_adverbios_22_2','los_atletas_corren_adverbios_22_2',most_common,print_df=print_df_var)"
   ]
  },
  {
   "cell_type": "code",
   "execution_count": null,
   "metadata": {},
   "outputs": [],
   "source": [
    "data = extract_data(dfs_prueba3[22][3],excep)\n",
    "# plot_freq_dist(data['sustantivos'],'los_atletas_corren_sustantivos_22_3','los_atletas_corren_sustantivos_22_3',most_common,print_df=print_df_var)\n",
    "# plot_freq_dist(data['verbos'],'los_atletas_corren_verbos_22_3','los_atletas_corren_verbos_22_3',most_common,print_df=print_df_var)\n",
    "# plot_freq_dist(data['adjetivos'],'los_atletas_corren_adjetivos_22_3','los_atletas_corren_adjetivos_22_3',most_common,print_df=print_df_var)\n",
    "# plot_freq_dist(data['adverbios'],'los_atletas_corren_adverbios_22_3','los_atletas_corren_adverbios_22_3',most_common,print_df=print_df_var)"
   ]
  },
  {
   "cell_type": "code",
   "execution_count": null,
   "metadata": {},
   "outputs": [],
   "source": [
    "data = extract_data(dfs_prueba3[23][0],excep)\n",
    "# plot_freq_dist(data['sustantivos'],'las_gaviotas_vuelan_sustantivos_23_0','las_gaviotas_vuelan_sustantivos_23_0',most_common,print_df=print_df_var)\n",
    "# plot_freq_dist(data['verbos'],'las_gaviotas_vuelan_verbos_23_0','las_gaviotas_vuelan_verbos_23_0',most_common,print_df=print_df_var)\n",
    "# plot_freq_dist(data['adjetivos'],'las_gaviotas_vuelan_adjetivos_23_0','las_gaviotas_vuelan_adjetivos_23_0',most_common,print_df=print_df_var)\n",
    "# plot_freq_dist(data['adverbios'],'las_gaviotas_vuelan_adverbios_23_0','las_gaviotas_vuelan_adverbios_23_0',most_common,print_df=print_df_var)"
   ]
  },
  {
   "cell_type": "code",
   "execution_count": 11,
   "metadata": {
    "collapsed": true
   },
   "outputs": [
    {
     "data": {
      "text/html": [
       "<div>\n",
       "<style scoped>\n",
       "    .dataframe tbody tr th:only-of-type {\n",
       "        vertical-align: middle;\n",
       "    }\n",
       "\n",
       "    .dataframe tbody tr th {\n",
       "        vertical-align: top;\n",
       "    }\n",
       "\n",
       "    .dataframe thead th {\n",
       "        text-align: right;\n",
       "    }\n",
       "</style>\n",
       "<table border=\"1\" class=\"dataframe\">\n",
       "  <thead>\n",
       "    <tr style=\"text-align: right;\">\n",
       "      <th></th>\n",
       "      <th>Token</th>\n",
       "      <th>Instancias</th>\n",
       "    </tr>\n",
       "  </thead>\n",
       "  <tbody>\n",
       "    <tr>\n",
       "      <th>2</th>\n",
       "      <td>ya</td>\n",
       "      <td>5</td>\n",
       "    </tr>\n",
       "    <tr>\n",
       "      <th>4</th>\n",
       "      <td>no</td>\n",
       "      <td>5</td>\n",
       "    </tr>\n",
       "    <tr>\n",
       "      <th>3</th>\n",
       "      <td>asi</td>\n",
       "      <td>2</td>\n",
       "    </tr>\n",
       "    <tr>\n",
       "      <th>5</th>\n",
       "      <td>casi</td>\n",
       "      <td>2</td>\n",
       "    </tr>\n",
       "    <tr>\n",
       "      <th>0</th>\n",
       "      <td>realmente</td>\n",
       "      <td>1</td>\n",
       "    </tr>\n",
       "    <tr>\n",
       "      <th>1</th>\n",
       "      <td>muy</td>\n",
       "      <td>1</td>\n",
       "    </tr>\n",
       "    <tr>\n",
       "      <th>6</th>\n",
       "      <td>especificamente</td>\n",
       "      <td>1</td>\n",
       "    </tr>\n",
       "  </tbody>\n",
       "</table>\n",
       "</div>"
      ],
      "text/plain": [
       "             Token  Instancias\n",
       "2               ya           5\n",
       "4               no           5\n",
       "3              asi           2\n",
       "5             casi           2\n",
       "0        realmente           1\n",
       "1              muy           1\n",
       "6  especificamente           1"
      ]
     },
     "metadata": {},
     "output_type": "display_data"
    },
    {
     "data": {
      "image/png": "[encoded data removed]",
      "text/plain": [
       "<Figure size 1152x576 with 1 Axes>"
      ]
     },
     "metadata": {
      "needs_background": "light"
     },
     "output_type": "display_data"
    }
   ],
   "source": [
    "data = extract_data(dfs_prueba3[23][1],excep)\n",
    "# plot_freq_dist(data['sustantivos'],'las_gaviotas_vuelan_sustantivos_23_1','las_gaviotas_vuelan_sustantivos_23_1',most_common,print_df=print_df_var)\n",
    "# plot_freq_dist(data['verbos'],'las_gaviotas_vuelan_verbos_23_1','las_gaviotas_vuelan_verbos_23_1',most_common,print_df=print_df_var)\n",
    "# plot_freq_dist(data['adjetivos'],'las_gaviotas_vuelan_adjetivos_23_1','las_gaviotas_vuelan_adjetivos_23_1',most_common,print_df=print_df_var)\n",
    "# plot_freq_dist(data['adverbios'],'las_gaviotas_vuelan_adverbios_23_1','las_gaviotas_vuelan_adverbios_23_1',most_common,print_df=print_df_var)"
   ]
  },
  {
   "cell_type": "code",
   "execution_count": 13,
   "metadata": {
    "collapsed": true
   },
   "outputs": [
    {
     "data": {
      "text/html": [
       "<div>\n",
       "<style scoped>\n",
       "    .dataframe tbody tr th:only-of-type {\n",
       "        vertical-align: middle;\n",
       "    }\n",
       "\n",
       "    .dataframe tbody tr th {\n",
       "        vertical-align: top;\n",
       "    }\n",
       "\n",
       "    .dataframe thead th {\n",
       "        text-align: right;\n",
       "    }\n",
       "</style>\n",
       "<table border=\"1\" class=\"dataframe\">\n",
       "  <thead>\n",
       "    <tr style=\"text-align: right;\">\n",
       "      <th></th>\n",
       "      <th>Token</th>\n",
       "      <th>Instancias</th>\n",
       "    </tr>\n",
       "  </thead>\n",
       "  <tbody>\n",
       "    <tr>\n",
       "      <th>0</th>\n",
       "      <td>volar</td>\n",
       "      <td>1</td>\n",
       "    </tr>\n",
       "  </tbody>\n",
       "</table>\n",
       "</div>"
      ],
      "text/plain": [
       "   Token  Instancias\n",
       "0  volar           1"
      ]
     },
     "metadata": {},
     "output_type": "display_data"
    },
    {
     "data": {
      "image/png": "[encoded data removed]",
      "text/plain": [
       "<Figure size 1152x576 with 1 Axes>"
      ]
     },
     "metadata": {
      "needs_background": "light"
     },
     "output_type": "display_data"
    }
   ],
   "source": [
    "data = extract_data(dfs_prueba3[23][2],excep)\n",
    "# plot_freq_dist(data['sustantivos'],'las_gaviotas_vuelan_sustantivos_23_2','las_gaviotas_vuelan_sustantivos_23_2',most_common,print_df=print_df_var)\n",
    "# plot_freq_dist(data['verbos'],'las_gaviotas_vuelan_verbos_23_2','las_gaviotas_vuelan_verbos_23_2',most_common,print_df=print_df_var)\n",
    "# plot_freq_dist(data['adjetivos'],'las_gaviotas_vuelan_adjetivos_23_2','las_gaviotas_vuelan_adjetivos_23_2',most_common,print_df=print_df_var)\n",
    "# plot_freq_dist(data['adverbios'],'las_gaviotas_vuelan_adverbios_23_2','las_gaviotas_vuelan_adverbios_23_2',most_common,print_df=print_df_var)"
   ]
  },
  {
   "cell_type": "code",
   "execution_count": 14,
   "metadata": {
    "collapsed": true
   },
   "outputs": [
    {
     "data": {
      "text/html": [
       "<div>\n",
       "<style scoped>\n",
       "    .dataframe tbody tr th:only-of-type {\n",
       "        vertical-align: middle;\n",
       "    }\n",
       "\n",
       "    .dataframe tbody tr th {\n",
       "        vertical-align: top;\n",
       "    }\n",
       "\n",
       "    .dataframe thead th {\n",
       "        text-align: right;\n",
       "    }\n",
       "</style>\n",
       "<table border=\"1\" class=\"dataframe\">\n",
       "  <thead>\n",
       "    <tr style=\"text-align: right;\">\n",
       "      <th></th>\n",
       "      <th>Token</th>\n",
       "      <th>Instancias</th>\n",
       "    </tr>\n",
       "  </thead>\n",
       "  <tbody>\n",
       "    <tr>\n",
       "      <th>0</th>\n",
       "      <td>gravedad</td>\n",
       "      <td>1</td>\n",
       "    </tr>\n",
       "  </tbody>\n",
       "</table>\n",
       "</div>"
      ],
      "text/plain": [
       "      Token  Instancias\n",
       "0  gravedad           1"
      ]
     },
     "metadata": {},
     "output_type": "display_data"
    },
    {
     "data": {
      "image/png": "[encoded data removed]",
      "text/plain": [
       "<Figure size 1152x576 with 1 Axes>"
      ]
     },
     "metadata": {
      "needs_background": "light"
     },
     "output_type": "display_data"
    }
   ],
   "source": [
    "data = extract_data(dfs_prueba3[23][3],excep)\n",
    "# plot_freq_dist(data['sustantivos'],'las_gaviotas_vuelan_sustantivos_23_3','las_gaviotas_vuelan_sustantivos_23_3',most_common,print_df=print_df_var)\n",
    "# plot_freq_dist(data['verbos'],'las_gaviotas_vuelan_verbos_23_3','las_gaviotas_vuelan_verbos_23_3',most_common,print_df=print_df_var)\n",
    "# plot_freq_dist(data['adjetivos'],'las_gaviotas_vuelan_adjetivos_23_3','las_gaviotas_vuelan_adjetivos_23_3',most_common,print_df=print_df_var)\n",
    "# plot_freq_dist(data['adverbios'],'las_gaviotas_vuelan_adverbios_23_3','las_gaviotas_vuelan_adverbios_23_3',most_common,print_df=print_df_var)"
   ]
  },
  {
   "cell_type": "code",
   "execution_count": 25,
   "metadata": {
    "collapsed": true
   },
   "outputs": [
    {
     "data": {
      "text/html": [
       "<div>\n",
       "<style scoped>\n",
       "    .dataframe tbody tr th:only-of-type {\n",
       "        vertical-align: middle;\n",
       "    }\n",
       "\n",
       "    .dataframe tbody tr th {\n",
       "        vertical-align: top;\n",
       "    }\n",
       "\n",
       "    .dataframe thead th {\n",
       "        text-align: right;\n",
       "    }\n",
       "</style>\n",
       "<table border=\"1\" class=\"dataframe\">\n",
       "  <thead>\n",
       "    <tr style=\"text-align: right;\">\n",
       "      <th></th>\n",
       "      <th>Token</th>\n",
       "      <th>Instancias</th>\n",
       "    </tr>\n",
       "  </thead>\n",
       "  <tbody>\n",
       "    <tr>\n",
       "      <th>0</th>\n",
       "      <td>muy</td>\n",
       "      <td>2</td>\n",
       "    </tr>\n",
       "    <tr>\n",
       "      <th>1</th>\n",
       "      <td>mucho</td>\n",
       "      <td>1</td>\n",
       "    </tr>\n",
       "    <tr>\n",
       "      <th>2</th>\n",
       "      <td>no</td>\n",
       "      <td>1</td>\n",
       "    </tr>\n",
       "    <tr>\n",
       "      <th>3</th>\n",
       "      <td>mas</td>\n",
       "      <td>1</td>\n",
       "    </tr>\n",
       "  </tbody>\n",
       "</table>\n",
       "</div>"
      ],
      "text/plain": [
       "   Token  Instancias\n",
       "0    muy           2\n",
       "1  mucho           1\n",
       "2     no           1\n",
       "3    mas           1"
      ]
     },
     "metadata": {},
     "output_type": "display_data"
    },
    {
     "data": {
      "image/png": "[encoded data removed]",
      "text/plain": [
       "<Figure size 1152x576 with 1 Axes>"
      ]
     },
     "metadata": {
      "needs_background": "light"
     },
     "output_type": "display_data"
    }
   ],
   "source": [
    "excep = {\n",
    "#     \"tren\":\"trenes\", # sust\n",
    "#     \"lugar\":\"lugares\",\n",
    "#     \"lado\":\"lugar\",\n",
    "#     \"ciudad\":\"lado\",\n",
    "#     \"destino\":\"ciudad\",\n",
    "#     \"viaje\":\"viajes\",\n",
    "#     \"recorrido\":\"viaje\",\n",
    "#     \"personas\":\"pasajeros\",\n",
    "    \n",
    "#     \"mover\":\"muebe\", # verben\n",
    "#     \"moviendose\":\"mover\",\n",
    "#     \"llevar\":\"moviendose\",\n",
    "#     \"avanzar\":\"llevar\",\n",
    "#     \"trasladar\":\"desplazar\",\n",
    "#     \"transportar\":\"trasladar\",\n",
    "}\n",
    "data = extract_data(dfs_prueba3[24][0],excep)\n",
    "# plot_freq_dist(data['sustantivos'],'el_tren_viaja_sustantivos_24_0','el_tren_viaja_sustantivos_24_0',most_common,print_df=print_df_var)\n",
    "# plot_freq_dist(data['verbos'],'el_tren_viaja_verbos_24_0','el_tren_viaja_verbos_24_0',most_common,print_df=print_df_var)\n",
    "# plot_freq_dist(data['adjetivos'],'el_tren_viaja_adjetivos_24_0','el_tren_viaja_adjetivos_24_0',most_common,print_df=print_df_var)\n",
    "# plot_freq_dist(data['adverbios'],'el_tren_viaja_adverbios_24_0','el_tren_viaja_adverbios_24_0',most_common,print_df=print_df_var)"
   ]
  },
  {
   "cell_type": "code",
   "execution_count": 38,
   "metadata": {
    "collapsed": true
   },
   "outputs": [
    {
     "data": {
      "text/html": [
       "<div>\n",
       "<style scoped>\n",
       "    .dataframe tbody tr th:only-of-type {\n",
       "        vertical-align: middle;\n",
       "    }\n",
       "\n",
       "    .dataframe tbody tr th {\n",
       "        vertical-align: top;\n",
       "    }\n",
       "\n",
       "    .dataframe thead th {\n",
       "        text-align: right;\n",
       "    }\n",
       "</style>\n",
       "<table border=\"1\" class=\"dataframe\">\n",
       "  <thead>\n",
       "    <tr style=\"text-align: right;\">\n",
       "      <th></th>\n",
       "      <th>Token</th>\n",
       "      <th>Instancias</th>\n",
       "    </tr>\n",
       "  </thead>\n",
       "  <tbody>\n",
       "    <tr>\n",
       "      <th>17</th>\n",
       "      <td>posible</td>\n",
       "      <td>11</td>\n",
       "    </tr>\n",
       "    <tr>\n",
       "      <th>12</th>\n",
       "      <td>rapido</td>\n",
       "      <td>2</td>\n",
       "    </tr>\n",
       "    <tr>\n",
       "      <th>1</th>\n",
       "      <td>dificiles</td>\n",
       "      <td>1</td>\n",
       "    </tr>\n",
       "    <tr>\n",
       "      <th>16</th>\n",
       "      <td>pesonas</td>\n",
       "      <td>1</td>\n",
       "    </tr>\n",
       "    <tr>\n",
       "      <th>15</th>\n",
       "      <td>solo</td>\n",
       "      <td>1</td>\n",
       "    </tr>\n",
       "    <tr>\n",
       "      <th>14</th>\n",
       "      <td>comun</td>\n",
       "      <td>1</td>\n",
       "    </tr>\n",
       "    <tr>\n",
       "      <th>13</th>\n",
       "      <td>alegre</td>\n",
       "      <td>1</td>\n",
       "    </tr>\n",
       "    <tr>\n",
       "      <th>11</th>\n",
       "      <td>estaria</td>\n",
       "      <td>1</td>\n",
       "    </tr>\n",
       "    <tr>\n",
       "      <th>10</th>\n",
       "      <td>enojar</td>\n",
       "      <td>1</td>\n",
       "    </tr>\n",
       "    <tr>\n",
       "      <th>0</th>\n",
       "      <td>triste</td>\n",
       "      <td>1</td>\n",
       "    </tr>\n",
       "    <tr>\n",
       "      <th>8</th>\n",
       "      <td>constante</td>\n",
       "      <td>1</td>\n",
       "    </tr>\n",
       "    <tr>\n",
       "      <th>7</th>\n",
       "      <td>chiquito</td>\n",
       "      <td>1</td>\n",
       "    </tr>\n",
       "    <tr>\n",
       "      <th>6</th>\n",
       "      <td>acelerar</td>\n",
       "      <td>1</td>\n",
       "    </tr>\n",
       "    <tr>\n",
       "      <th>5</th>\n",
       "      <td>hacer</td>\n",
       "      <td>1</td>\n",
       "    </tr>\n",
       "    <tr>\n",
       "      <th>4</th>\n",
       "      <td>paises</td>\n",
       "      <td>1</td>\n",
       "    </tr>\n",
       "    <tr>\n",
       "      <th>3</th>\n",
       "      <td>lejano</td>\n",
       "      <td>1</td>\n",
       "    </tr>\n",
       "    <tr>\n",
       "      <th>2</th>\n",
       "      <td>logica</td>\n",
       "      <td>1</td>\n",
       "    </tr>\n",
       "    <tr>\n",
       "      <th>9</th>\n",
       "      <td>principal</td>\n",
       "      <td>1</td>\n",
       "    </tr>\n",
       "  </tbody>\n",
       "</table>\n",
       "</div>"
      ],
      "text/plain": [
       "        Token  Instancias\n",
       "17    posible          11\n",
       "12     rapido           2\n",
       "1   dificiles           1\n",
       "16    pesonas           1\n",
       "15       solo           1\n",
       "14      comun           1\n",
       "13     alegre           1\n",
       "11    estaria           1\n",
       "10     enojar           1\n",
       "0      triste           1\n",
       "8   constante           1\n",
       "7    chiquito           1\n",
       "6    acelerar           1\n",
       "5       hacer           1\n",
       "4      paises           1\n",
       "3      lejano           1\n",
       "2      logica           1\n",
       "9   principal           1"
      ]
     },
     "metadata": {},
     "output_type": "display_data"
    },
    {
     "data": {
      "image/png": "[encoded data removed]",
      "text/plain": [
       "<Figure size 1152x576 with 1 Axes>"
      ]
     },
     "metadata": {
      "needs_background": "light"
     },
     "output_type": "display_data"
    }
   ],
   "source": [
    "excep = {\n",
    "#     \"vida\":\"vivo\", # sust\n",
    "#     \"personas\":\"persona\",\n",
    "#     \"gente\":\"personas\",\n",
    "#     \"pasajeros\":\"gente\",\n",
    "#     \"moverse\":\"moviendose\",\n",
    "#     \"lugar\":\"lugares\",\n",
    "#     \"lado\":\"lados\",\n",
    "#     \"maquina\":\"transporte\",\n",
    "#     \"vehiculo\":\"maquina\",\n",
    "#     \"destino\":\"paises\",\n",
    "#     \"ciudades\":\"mundo\",\n",
    "#     \"viaje\":\"viajes\",\n",
    "#     \"principio\":\"proposito\",\n",
    "#     \"tren\":\"trenes\",\n",
    "    \n",
    "#     \"impulsar\":\"recorrer\", # verben\n",
    "#     \"ir\":\"impulsar\",\n",
    "#     \"mover\":\"ir\",\n",
    "#     \"transportar\":\"trasladar\",\n",
    "}\n",
    "data = extract_data(dfs_prueba3[24][1],excep)\n",
    "# plot_freq_dist(data['sustantivos'],'el_tren_viaja_sustantivos_24_1','el_tren_viaja_sustantivos_24_1',most_common,print_df=print_df_var)\n",
    "# plot_freq_dist(data['verbos'],'el_tren_viaja_verbos_24_1','el_tren_viaja_verbos_24_1',most_common,print_df=print_df_var)\n",
    "# plot_freq_dist(data['adjetivos'],'el_tren_viaja_adjetivos_24_1','el_tren_viaja_adjetivos_24_1',most_common,print_df=print_df_var)\n",
    "# plot_freq_dist(data['adverbios'],'el_tren_viaja_adverbios_24_1','el_tren_viaja_adverbios_24_1',most_common,print_df=print_df_var)"
   ]
  },
  {
   "cell_type": "code",
   "execution_count": 16,
   "metadata": {
    "collapsed": true
   },
   "outputs": [
    {
     "data": {
      "text/html": [
       "<div>\n",
       "<style scoped>\n",
       "    .dataframe tbody tr th:only-of-type {\n",
       "        vertical-align: middle;\n",
       "    }\n",
       "\n",
       "    .dataframe tbody tr th {\n",
       "        vertical-align: top;\n",
       "    }\n",
       "\n",
       "    .dataframe thead th {\n",
       "        text-align: right;\n",
       "    }\n",
       "</style>\n",
       "<table border=\"1\" class=\"dataframe\">\n",
       "  <thead>\n",
       "    <tr style=\"text-align: right;\">\n",
       "      <th></th>\n",
       "      <th>Token</th>\n",
       "      <th>Instancias</th>\n",
       "    </tr>\n",
       "  </thead>\n",
       "  <tbody>\n",
       "    <tr>\n",
       "      <th>1</th>\n",
       "      <td>no</td>\n",
       "      <td>2</td>\n",
       "    </tr>\n",
       "    <tr>\n",
       "      <th>0</th>\n",
       "      <td>adentrar</td>\n",
       "      <td>1</td>\n",
       "    </tr>\n",
       "  </tbody>\n",
       "</table>\n",
       "</div>"
      ],
      "text/plain": [
       "      Token  Instancias\n",
       "1        no           2\n",
       "0  adentrar           1"
      ]
     },
     "metadata": {},
     "output_type": "display_data"
    },
    {
     "data": {
      "image/png": "[encoded data removed]",
      "text/plain": [
       "<Figure size 1152x576 with 1 Axes>"
      ]
     },
     "metadata": {
      "needs_background": "light"
     },
     "output_type": "display_data"
    }
   ],
   "source": [
    "excep = {\n",
    "#     \"personas\":\"gente\", # sust\n",
    "}\n",
    "data = extract_data(dfs_prueba3[24][2],excep)\n",
    "# plot_freq_dist(data['sustantivos'],'el_tren_viaja_sustantivos_24_2','el_tren_viaja_sustantivos_24_2',most_common,print_df=print_df_var)\n",
    "# plot_freq_dist(data['verbos'],'el_tren_viaja_verbos_24_2','el_tren_viaja_verbos_24_2',most_common,print_df=print_df_var)\n",
    "# plot_freq_dist(data['adjetivos'],'el_tren_viaja_adjetivos_24_2','el_tren_viaja_adjetivos_24_2',most_common,print_df=print_df_var)\n",
    "# plot_freq_dist(data['adverbios'],'el_tren_viaja_adverbios_24_2','el_tren_viaja_adverbios_24_2',most_common,print_df=print_df_var)"
   ]
  },
  {
   "cell_type": "code",
   "execution_count": 21,
   "metadata": {
    "collapsed": true
   },
   "outputs": [
    {
     "data": {
      "text/html": [
       "<div>\n",
       "<style scoped>\n",
       "    .dataframe tbody tr th:only-of-type {\n",
       "        vertical-align: middle;\n",
       "    }\n",
       "\n",
       "    .dataframe tbody tr th {\n",
       "        vertical-align: top;\n",
       "    }\n",
       "\n",
       "    .dataframe thead th {\n",
       "        text-align: right;\n",
       "    }\n",
       "</style>\n",
       "<table border=\"1\" class=\"dataframe\">\n",
       "  <thead>\n",
       "    <tr style=\"text-align: right;\">\n",
       "      <th></th>\n",
       "      <th>Token</th>\n",
       "      <th>Instancias</th>\n",
       "    </tr>\n",
       "  </thead>\n",
       "  <tbody>\n",
       "    <tr>\n",
       "      <th>0</th>\n",
       "      <td>no</td>\n",
       "      <td>7</td>\n",
       "    </tr>\n",
       "  </tbody>\n",
       "</table>\n",
       "</div>"
      ],
      "text/plain": [
       "  Token  Instancias\n",
       "0    no           7"
      ]
     },
     "metadata": {},
     "output_type": "display_data"
    },
    {
     "data": {
      "image/png": "[encoded data removed]",
      "text/plain": [
       "<Figure size 1152x576 with 1 Axes>"
      ]
     },
     "metadata": {
      "needs_background": "light"
     },
     "output_type": "display_data"
    }
   ],
   "source": [
    "excep = {\n",
    "#     \"persona\":\"personas\", # sust\n",
    "}\n",
    "data = extract_data(dfs_prueba3[24][3],excep)\n",
    "# plot_freq_dist(data['sustantivos'],'el_tren_viaja_sustantivos_24_3','el_tren_viaja_sustantivos_24_3',most_common,print_df=print_df_var)\n",
    "# plot_freq_dist(data['verbos'],'el_tren_viaja_verbos_24_3','el_tren_viaja_verbos_24_3',most_common,print_df=print_df_var)\n",
    "# plot_freq_dist(data['adjetivos'],'el_tren_viaja_adjetivos_24_3','el_tren_viaja_adjetivos_24_3',most_common,print_df=print_df_var)\n",
    "# plot_freq_dist(data['adverbios'],'el_tren_viaja_adverbios_24_3','el_tren_viaja_adverbios_24_3',most_common,print_df=print_df_var)"
   ]
  },
  {
   "cell_type": "code",
   "execution_count": 33,
   "metadata": {
    "collapsed": true
   },
   "outputs": [
    {
     "data": {
      "text/html": [
       "<div>\n",
       "<style scoped>\n",
       "    .dataframe tbody tr th:only-of-type {\n",
       "        vertical-align: middle;\n",
       "    }\n",
       "\n",
       "    .dataframe tbody tr th {\n",
       "        vertical-align: top;\n",
       "    }\n",
       "\n",
       "    .dataframe thead th {\n",
       "        text-align: right;\n",
       "    }\n",
       "</style>\n",
       "<table border=\"1\" class=\"dataframe\">\n",
       "  <thead>\n",
       "    <tr style=\"text-align: right;\">\n",
       "      <th></th>\n",
       "      <th>Token</th>\n",
       "      <th>Instancias</th>\n",
       "    </tr>\n",
       "  </thead>\n",
       "  <tbody>\n",
       "    <tr>\n",
       "      <th>12</th>\n",
       "      <td>no</td>\n",
       "      <td>18</td>\n",
       "    </tr>\n",
       "    <tr>\n",
       "      <th>10</th>\n",
       "      <td>ya</td>\n",
       "      <td>13</td>\n",
       "    </tr>\n",
       "    <tr>\n",
       "      <th>3</th>\n",
       "      <td>tardar</td>\n",
       "      <td>6</td>\n",
       "    </tr>\n",
       "    <tr>\n",
       "      <th>11</th>\n",
       "      <td>muy</td>\n",
       "      <td>5</td>\n",
       "    </tr>\n",
       "    <tr>\n",
       "      <th>5</th>\n",
       "      <td>temprano</td>\n",
       "      <td>4</td>\n",
       "    </tr>\n",
       "    <tr>\n",
       "      <th>2</th>\n",
       "      <td>aun</td>\n",
       "      <td>2</td>\n",
       "    </tr>\n",
       "    <tr>\n",
       "      <th>0</th>\n",
       "      <td>apenar</td>\n",
       "      <td>1</td>\n",
       "    </tr>\n",
       "    <tr>\n",
       "      <th>15</th>\n",
       "      <td>mas</td>\n",
       "      <td>1</td>\n",
       "    </tr>\n",
       "    <tr>\n",
       "      <th>14</th>\n",
       "      <td>solo</td>\n",
       "      <td>1</td>\n",
       "    </tr>\n",
       "    <tr>\n",
       "      <th>13</th>\n",
       "      <td>nunca</td>\n",
       "      <td>1</td>\n",
       "    </tr>\n",
       "    <tr>\n",
       "      <th>8</th>\n",
       "      <td>luego</td>\n",
       "      <td>1</td>\n",
       "    </tr>\n",
       "    <tr>\n",
       "      <th>9</th>\n",
       "      <td>antes</td>\n",
       "      <td>1</td>\n",
       "    </tr>\n",
       "    <tr>\n",
       "      <th>1</th>\n",
       "      <td>mucho</td>\n",
       "      <td>1</td>\n",
       "    </tr>\n",
       "    <tr>\n",
       "      <th>7</th>\n",
       "      <td>siempre</td>\n",
       "      <td>1</td>\n",
       "    </tr>\n",
       "    <tr>\n",
       "      <th>6</th>\n",
       "      <td>bastante</td>\n",
       "      <td>1</td>\n",
       "    </tr>\n",
       "    <tr>\n",
       "      <th>4</th>\n",
       "      <td>casi</td>\n",
       "      <td>1</td>\n",
       "    </tr>\n",
       "    <tr>\n",
       "      <th>16</th>\n",
       "      <td>abajar</td>\n",
       "      <td>1</td>\n",
       "    </tr>\n",
       "  </tbody>\n",
       "</table>\n",
       "</div>"
      ],
      "text/plain": [
       "       Token  Instancias\n",
       "12        no          18\n",
       "10        ya          13\n",
       "3     tardar           6\n",
       "11       muy           5\n",
       "5   temprano           4\n",
       "2        aun           2\n",
       "0     apenar           1\n",
       "15       mas           1\n",
       "14      solo           1\n",
       "13     nunca           1\n",
       "8      luego           1\n",
       "9      antes           1\n",
       "1      mucho           1\n",
       "7    siempre           1\n",
       "6   bastante           1\n",
       "4       casi           1\n",
       "16    abajar           1"
      ]
     },
     "metadata": {},
     "output_type": "display_data"
    },
    {
     "data": {
      "image/png": "[encoded data removed]",
      "text/plain": [
       "<Figure size 1152x576 with 1 Axes>"
      ]
     },
     "metadata": {
      "needs_background": "light"
     },
     "output_type": "display_data"
    }
   ],
   "source": [
    "data = extract_data(dfs_prueba3[25][0],excep)\n",
    "# plot_freq_dist(data['sustantivos'],'el_tiempo_alcanza_sustantivos_25_0','el_tiempo_alcanza_sustantivos_25_0',most_common,print_df=print_df_var)\n",
    "# plot_freq_dist(data['verbos'],'el_tiempo_alcanza_verbos_25_0','el_tiempo_alcanza_verbos_25_0',most_common,print_df=print_df_var)\n",
    "# plot_freq_dist(data['adjetivos'],'el_tiempo_alcanza_adjetivos_25_0','el_tiempo_alcanza_adjetivos_25_0',most_common,print_df=print_df_var)\n",
    "# plot_freq_dist(data['adverbios'],'el_tiempo_alcanza_adverbios_25_0','el_tiempo_alcanza_adverbios_25_0',most_common,print_df=print_df_var)"
   ]
  },
  {
   "cell_type": "code",
   "execution_count": 24,
   "metadata": {
    "collapsed": true
   },
   "outputs": [
    {
     "data": {
      "text/html": [
       "<div>\n",
       "<style scoped>\n",
       "    .dataframe tbody tr th:only-of-type {\n",
       "        vertical-align: middle;\n",
       "    }\n",
       "\n",
       "    .dataframe tbody tr th {\n",
       "        vertical-align: top;\n",
       "    }\n",
       "\n",
       "    .dataframe thead th {\n",
       "        text-align: right;\n",
       "    }\n",
       "</style>\n",
       "<table border=\"1\" class=\"dataframe\">\n",
       "  <thead>\n",
       "    <tr style=\"text-align: right;\">\n",
       "      <th></th>\n",
       "      <th>Token</th>\n",
       "      <th>Instancias</th>\n",
       "    </tr>\n",
       "  </thead>\n",
       "  <tbody>\n",
       "    <tr>\n",
       "      <th>14</th>\n",
       "      <td>no</td>\n",
       "      <td>16</td>\n",
       "    </tr>\n",
       "    <tr>\n",
       "      <th>16</th>\n",
       "      <td>ya</td>\n",
       "      <td>9</td>\n",
       "    </tr>\n",
       "    <tr>\n",
       "      <th>0</th>\n",
       "      <td>bien</td>\n",
       "      <td>6</td>\n",
       "    </tr>\n",
       "    <tr>\n",
       "      <th>18</th>\n",
       "      <td>siempre</td>\n",
       "      <td>4</td>\n",
       "    </tr>\n",
       "    <tr>\n",
       "      <th>8</th>\n",
       "      <td>tardar</td>\n",
       "      <td>3</td>\n",
       "    </tr>\n",
       "    <tr>\n",
       "      <th>10</th>\n",
       "      <td>muy</td>\n",
       "      <td>3</td>\n",
       "    </tr>\n",
       "    <tr>\n",
       "      <th>5</th>\n",
       "      <td>solo</td>\n",
       "      <td>3</td>\n",
       "    </tr>\n",
       "    <tr>\n",
       "      <th>7</th>\n",
       "      <td>luego</td>\n",
       "      <td>2</td>\n",
       "    </tr>\n",
       "    <tr>\n",
       "      <th>1</th>\n",
       "      <td>menos</td>\n",
       "      <td>2</td>\n",
       "    </tr>\n",
       "    <tr>\n",
       "      <th>11</th>\n",
       "      <td>demasiar</td>\n",
       "      <td>2</td>\n",
       "    </tr>\n",
       "    <tr>\n",
       "      <th>6</th>\n",
       "      <td>entonces</td>\n",
       "      <td>1</td>\n",
       "    </tr>\n",
       "    <tr>\n",
       "      <th>9</th>\n",
       "      <td>justar</td>\n",
       "      <td>1</td>\n",
       "    </tr>\n",
       "    <tr>\n",
       "      <th>12</th>\n",
       "      <td>aun</td>\n",
       "      <td>1</td>\n",
       "    </tr>\n",
       "    <tr>\n",
       "      <th>13</th>\n",
       "      <td>mejor</td>\n",
       "      <td>1</td>\n",
       "    </tr>\n",
       "    <tr>\n",
       "      <th>4</th>\n",
       "      <td>casi</td>\n",
       "      <td>1</td>\n",
       "    </tr>\n",
       "    <tr>\n",
       "      <th>15</th>\n",
       "      <td>nunca</td>\n",
       "      <td>1</td>\n",
       "    </tr>\n",
       "    <tr>\n",
       "      <th>3</th>\n",
       "      <td>literalmente</td>\n",
       "      <td>1</td>\n",
       "    </tr>\n",
       "    <tr>\n",
       "      <th>17</th>\n",
       "      <td>ahi</td>\n",
       "      <td>1</td>\n",
       "    </tr>\n",
       "    <tr>\n",
       "      <th>2</th>\n",
       "      <td>diariamente</td>\n",
       "      <td>1</td>\n",
       "    </tr>\n",
       "    <tr>\n",
       "      <th>19</th>\n",
       "      <td>mas</td>\n",
       "      <td>1</td>\n",
       "    </tr>\n",
       "  </tbody>\n",
       "</table>\n",
       "</div>"
      ],
      "text/plain": [
       "           Token  Instancias\n",
       "14            no          16\n",
       "16            ya           9\n",
       "0           bien           6\n",
       "18       siempre           4\n",
       "8         tardar           3\n",
       "10           muy           3\n",
       "5           solo           3\n",
       "7          luego           2\n",
       "1          menos           2\n",
       "11      demasiar           2\n",
       "6       entonces           1\n",
       "9         justar           1\n",
       "12           aun           1\n",
       "13         mejor           1\n",
       "4           casi           1\n",
       "15         nunca           1\n",
       "3   literalmente           1\n",
       "17           ahi           1\n",
       "2    diariamente           1\n",
       "19           mas           1"
      ]
     },
     "metadata": {},
     "output_type": "display_data"
    },
    {
     "data": {
      "image/png": "[encoded data removed]",
      "text/plain": [
       "<Figure size 1152x576 with 1 Axes>"
      ]
     },
     "metadata": {
      "needs_background": "light"
     },
     "output_type": "display_data"
    }
   ],
   "source": [
    "excep = {\n",
    "#     \"asir\":\"haz\", # verben\n",
    "#     \"hacer\":\"asir\",\n",
    "#     \"pasar\":\"paso\",\n",
    "#     \"alcanzar\":\"llegar\",\n",
    "#     \"hacer\":\"hacen\",\n",
    "}\n",
    "data = extract_data(dfs_prueba3[25][1],excep)\n",
    "# plot_freq_dist(data['sustantivos'],'el_tiempo_alcanza_sustantivos_25_1','el_tiempo_alcanza_sustantivos_25_1',most_common,print_df=print_df_var)\n",
    "# plot_freq_dist(data['verbos'],'el_tiempo_alcanza_verbos_25_1','el_tiempo_alcanza_verbos_25_1',most_common,print_df=print_df_var)\n",
    "# plot_freq_dist(data['adjetivos'],'el_tiempo_alcanza_adjetivos_25_1','el_tiempo_alcanza_adjetivos_25_1',most_common,print_df=print_df_var)\n",
    "# plot_freq_dist(data['adverbios'],'el_tiempo_alcanza_adverbios_25_1','el_tiempo_alcanza_adverbios_25_1',most_common,print_df=print_df_var)"
   ]
  },
  {
   "cell_type": "code",
   "execution_count": 30,
   "metadata": {
    "collapsed": true
   },
   "outputs": [
    {
     "data": {
      "text/html": [
       "<div>\n",
       "<style scoped>\n",
       "    .dataframe tbody tr th:only-of-type {\n",
       "        vertical-align: middle;\n",
       "    }\n",
       "\n",
       "    .dataframe tbody tr th {\n",
       "        vertical-align: top;\n",
       "    }\n",
       "\n",
       "    .dataframe thead th {\n",
       "        text-align: right;\n",
       "    }\n",
       "</style>\n",
       "<table border=\"1\" class=\"dataframe\">\n",
       "  <thead>\n",
       "    <tr style=\"text-align: right;\">\n",
       "      <th></th>\n",
       "      <th>Token</th>\n",
       "      <th>Instancias</th>\n",
       "    </tr>\n",
       "  </thead>\n",
       "  <tbody>\n",
       "    <tr>\n",
       "      <th>1</th>\n",
       "      <td>no</td>\n",
       "      <td>6</td>\n",
       "    </tr>\n",
       "    <tr>\n",
       "      <th>0</th>\n",
       "      <td>pronto</td>\n",
       "      <td>1</td>\n",
       "    </tr>\n",
       "    <tr>\n",
       "      <th>2</th>\n",
       "      <td>mucho</td>\n",
       "      <td>1</td>\n",
       "    </tr>\n",
       "    <tr>\n",
       "      <th>3</th>\n",
       "      <td>muy</td>\n",
       "      <td>1</td>\n",
       "    </tr>\n",
       "    <tr>\n",
       "      <th>4</th>\n",
       "      <td>siempre</td>\n",
       "      <td>1</td>\n",
       "    </tr>\n",
       "  </tbody>\n",
       "</table>\n",
       "</div>"
      ],
      "text/plain": [
       "     Token  Instancias\n",
       "1       no           6\n",
       "0   pronto           1\n",
       "2    mucho           1\n",
       "3      muy           1\n",
       "4  siempre           1"
      ]
     },
     "metadata": {},
     "output_type": "display_data"
    },
    {
     "data": {
      "image/png": "[encoded data removed]",
      "text/plain": [
       "<Figure size 1152x576 with 1 Axes>"
      ]
     },
     "metadata": {
      "needs_background": "light"
     },
     "output_type": "display_data"
    }
   ],
   "source": [
    "excep = {\n",
    "#     \"alcansas\":\"llegaera\", # verben\n",
    "#     \"alcanzar\":\"alcansas\",\n",
    "}\n",
    "data = extract_data(dfs_prueba3[25][2],excep)\n",
    "# plot_freq_dist(data['sustantivos'],'el_tiempo_alcanza_sustantivos_25_2','el_tiempo_alcanza_sustantivos_25_2',most_common,print_df=print_df_var)\n",
    "# plot_freq_dist(data['verbos'],'el_tiempo_alcanza_verbos_25_2','el_tiempo_alcanza_verbos_25_2',most_common,print_df=print_df_var)\n",
    "# plot_freq_dist(data['adjetivos'],'el_tiempo_alcanza_adjetivos_25_2','el_tiempo_alcanza_adjetivos_25_2',most_common,print_df=print_df_var)\n",
    "# plot_freq_dist(data['adverbios'],'el_tiempo_alcanza_adverbios_25_2','el_tiempo_alcanza_adverbios_25_2',most_common,print_df=print_df_var)"
   ]
  },
  {
   "cell_type": "code",
   "execution_count": 38,
   "metadata": {
    "collapsed": true
   },
   "outputs": [
    {
     "data": {
      "text/html": [
       "<div>\n",
       "<style scoped>\n",
       "    .dataframe tbody tr th:only-of-type {\n",
       "        vertical-align: middle;\n",
       "    }\n",
       "\n",
       "    .dataframe tbody tr th {\n",
       "        vertical-align: top;\n",
       "    }\n",
       "\n",
       "    .dataframe thead th {\n",
       "        text-align: right;\n",
       "    }\n",
       "</style>\n",
       "<table border=\"1\" class=\"dataframe\">\n",
       "  <thead>\n",
       "    <tr style=\"text-align: right;\">\n",
       "      <th></th>\n",
       "      <th>Token</th>\n",
       "      <th>Instancias</th>\n",
       "    </tr>\n",
       "  </thead>\n",
       "  <tbody>\n",
       "    <tr>\n",
       "      <th>1</th>\n",
       "      <td>no</td>\n",
       "      <td>28</td>\n",
       "    </tr>\n",
       "    <tr>\n",
       "      <th>0</th>\n",
       "      <td>temprano</td>\n",
       "      <td>1</td>\n",
       "    </tr>\n",
       "    <tr>\n",
       "      <th>2</th>\n",
       "      <td>tardar</td>\n",
       "      <td>1</td>\n",
       "    </tr>\n",
       "    <tr>\n",
       "      <th>3</th>\n",
       "      <td>nunca</td>\n",
       "      <td>1</td>\n",
       "    </tr>\n",
       "    <tr>\n",
       "      <th>4</th>\n",
       "      <td>ya</td>\n",
       "      <td>1</td>\n",
       "    </tr>\n",
       "    <tr>\n",
       "      <th>5</th>\n",
       "      <td>solo</td>\n",
       "      <td>1</td>\n",
       "    </tr>\n",
       "    <tr>\n",
       "      <th>6</th>\n",
       "      <td>muy</td>\n",
       "      <td>1</td>\n",
       "    </tr>\n",
       "    <tr>\n",
       "      <th>7</th>\n",
       "      <td>asi</td>\n",
       "      <td>1</td>\n",
       "    </tr>\n",
       "    <tr>\n",
       "      <th>8</th>\n",
       "      <td>siempre</td>\n",
       "      <td>1</td>\n",
       "    </tr>\n",
       "    <tr>\n",
       "      <th>9</th>\n",
       "      <td>fisicamente</td>\n",
       "      <td>1</td>\n",
       "    </tr>\n",
       "    <tr>\n",
       "      <th>10</th>\n",
       "      <td>aun</td>\n",
       "      <td>1</td>\n",
       "    </tr>\n",
       "    <tr>\n",
       "      <th>11</th>\n",
       "      <td>mas</td>\n",
       "      <td>1</td>\n",
       "    </tr>\n",
       "  </tbody>\n",
       "</table>\n",
       "</div>"
      ],
      "text/plain": [
       "          Token  Instancias\n",
       "1            no          28\n",
       "0      temprano           1\n",
       "2        tardar           1\n",
       "3         nunca           1\n",
       "4            ya           1\n",
       "5          solo           1\n",
       "6           muy           1\n",
       "7           asi           1\n",
       "8       siempre           1\n",
       "9   fisicamente           1\n",
       "10          aun           1\n",
       "11          mas           1"
      ]
     },
     "metadata": {},
     "output_type": "display_data"
    },
    {
     "data": {
      "image/png": "[encoded data removed]",
      "text/plain": [
       "<Figure size 1152x576 with 1 Axes>"
      ]
     },
     "metadata": {
      "needs_background": "light"
     },
     "output_type": "display_data"
    }
   ],
   "source": [
    "excep = {\n",
    "#     \"cosa\":\"cosass\", # sust\n",
    "#     \"cosas\":\"cosa\",\n",
    "    \n",
    "#     \"hacer\":\"acer\", # verben\n",
    "}\n",
    "data = extract_data(dfs_prueba3[25][3],excep)\n",
    "# plot_freq_dist(data['sustantivos'],'el_tiempo_alcanza_sustantivos_25_3','el_tiempo_alcanza_sustantivos_25_3',most_common,print_df=print_df_var)\n",
    "# plot_freq_dist(data['verbos'],'el_tiempo_alcanza_verbos_25_3','el_tiempo_alcanza_verbos_25_3',most_common,print_df=print_df_var)\n",
    "# plot_freq_dist(data['adjetivos'],'el_tiempo_alcanza_adjetivos_25_3','el_tiempo_alcanza_adjetivos_25_3',most_common,print_df=print_df_var)\n",
    "# plot_freq_dist(data['adverbios'],'el_tiempo_alcanza_adverbios_25_3','el_tiempo_alcanza_adverbios_25_3',most_common,print_df=print_df_var)"
   ]
  },
  {
   "cell_type": "code",
   "execution_count": 51,
   "metadata": {
    "collapsed": true
   },
   "outputs": [
    {
     "data": {
      "text/html": [
       "<div>\n",
       "<style scoped>\n",
       "    .dataframe tbody tr th:only-of-type {\n",
       "        vertical-align: middle;\n",
       "    }\n",
       "\n",
       "    .dataframe tbody tr th {\n",
       "        vertical-align: top;\n",
       "    }\n",
       "\n",
       "    .dataframe thead th {\n",
       "        text-align: right;\n",
       "    }\n",
       "</style>\n",
       "<table border=\"1\" class=\"dataframe\">\n",
       "  <thead>\n",
       "    <tr style=\"text-align: right;\">\n",
       "      <th></th>\n",
       "      <th>Token</th>\n",
       "      <th>Instancias</th>\n",
       "    </tr>\n",
       "  </thead>\n",
       "  <tbody>\n",
       "    <tr>\n",
       "      <th>4</th>\n",
       "      <td>ya</td>\n",
       "      <td>44</td>\n",
       "    </tr>\n",
       "    <tr>\n",
       "      <th>3</th>\n",
       "      <td>tardar</td>\n",
       "      <td>10</td>\n",
       "    </tr>\n",
       "    <tr>\n",
       "      <th>7</th>\n",
       "      <td>siempre</td>\n",
       "      <td>4</td>\n",
       "    </tr>\n",
       "    <tr>\n",
       "      <th>2</th>\n",
       "      <td>no</td>\n",
       "      <td>3</td>\n",
       "    </tr>\n",
       "    <tr>\n",
       "      <th>1</th>\n",
       "      <td>pronto</td>\n",
       "      <td>2</td>\n",
       "    </tr>\n",
       "    <tr>\n",
       "      <th>6</th>\n",
       "      <td>muy</td>\n",
       "      <td>2</td>\n",
       "    </tr>\n",
       "    <tr>\n",
       "      <th>0</th>\n",
       "      <td>antes</td>\n",
       "      <td>1</td>\n",
       "    </tr>\n",
       "    <tr>\n",
       "      <th>5</th>\n",
       "      <td>tan</td>\n",
       "      <td>1</td>\n",
       "    </tr>\n",
       "    <tr>\n",
       "      <th>8</th>\n",
       "      <td>cercar</td>\n",
       "      <td>1</td>\n",
       "    </tr>\n",
       "  </tbody>\n",
       "</table>\n",
       "</div>"
      ],
      "text/plain": [
       "     Token  Instancias\n",
       "4       ya          44\n",
       "3   tardar          10\n",
       "7  siempre           4\n",
       "2       no           3\n",
       "1   pronto           2\n",
       "6      muy           2\n",
       "0    antes           1\n",
       "5      tan           1\n",
       "8   cercar           1"
      ]
     },
     "metadata": {},
     "output_type": "display_data"
    },
    {
     "data": {
      "image/png": "[encoded data removed]",
      "text/plain": [
       "<Figure size 1152x576 with 1 Axes>"
      ]
     },
     "metadata": {
      "needs_background": "light"
     },
     "output_type": "display_data"
    }
   ],
   "source": [
    "excep = {\n",
    "#     \"fin\":\"final\", # sust\n",
    "#     \"hora\":\"horas\",\n",
    "#     \"oscuridad\":\"obscuridad\",\n",
    "    \n",
    "#     \"hacer\":\"asir\", # verben\n",
    "#     \"llegar\":\"aproximar\",\n",
    "#     \"oscurecer\":\"obscurecer\",\n",
    "    \n",
    "#     \"oscurecio\":\"obscuro\", # adj\n",
    "#     \"oscuro\":\"oscurecio\",\n",
    "}\n",
    "data = extract_data(dfs_prueba3[26][0],excep)\n",
    "# plot_freq_dist(data['sustantivos'],'la_noche_llega_sustantivos_26_0','la_noche_llega_sustantivos_26_0',most_common,print_df=print_df_var)\n",
    "# plot_freq_dist(data['verbos'],'la_noche_llega_verbos_26_0','la_noche_llega_verbos_26_0',most_common,print_df=print_df_var)\n",
    "# plot_freq_dist(data['adjetivos'],'la_noche_llega_adjetivos_26_0','la_noche_llega_adjetivos_26_0',most_common,print_df=print_df_var)\n",
    "# plot_freq_dist(data['adverbios'],'la_noche_llega_adverbios_26_0','la_noche_llega_adverbios_26_0',most_common,print_df=print_df_var)"
   ]
  },
  {
   "cell_type": "code",
   "execution_count": 16,
   "metadata": {
    "collapsed": true
   },
   "outputs": [
    {
     "data": {
      "text/html": [
       "<div>\n",
       "<style scoped>\n",
       "    .dataframe tbody tr th:only-of-type {\n",
       "        vertical-align: middle;\n",
       "    }\n",
       "\n",
       "    .dataframe tbody tr th {\n",
       "        vertical-align: top;\n",
       "    }\n",
       "\n",
       "    .dataframe thead th {\n",
       "        text-align: right;\n",
       "    }\n",
       "</style>\n",
       "<table border=\"1\" class=\"dataframe\">\n",
       "  <thead>\n",
       "    <tr style=\"text-align: right;\">\n",
       "      <th></th>\n",
       "      <th>Token</th>\n",
       "      <th>Instancias</th>\n",
       "    </tr>\n",
       "  </thead>\n",
       "  <tbody>\n",
       "    <tr>\n",
       "      <th>2</th>\n",
       "      <td>siempre</td>\n",
       "      <td>16</td>\n",
       "    </tr>\n",
       "    <tr>\n",
       "      <th>8</th>\n",
       "      <td>ya</td>\n",
       "      <td>12</td>\n",
       "    </tr>\n",
       "    <tr>\n",
       "      <th>0</th>\n",
       "      <td>no</td>\n",
       "      <td>11</td>\n",
       "    </tr>\n",
       "    <tr>\n",
       "      <th>10</th>\n",
       "      <td>asi</td>\n",
       "      <td>3</td>\n",
       "    </tr>\n",
       "    <tr>\n",
       "      <th>14</th>\n",
       "      <td>tardar</td>\n",
       "      <td>3</td>\n",
       "    </tr>\n",
       "    <tr>\n",
       "      <th>3</th>\n",
       "      <td>bien</td>\n",
       "      <td>2</td>\n",
       "    </tr>\n",
       "    <tr>\n",
       "      <th>1</th>\n",
       "      <td>tanto</td>\n",
       "      <td>1</td>\n",
       "    </tr>\n",
       "    <tr>\n",
       "      <th>4</th>\n",
       "      <td>tambien</td>\n",
       "      <td>1</td>\n",
       "    </tr>\n",
       "    <tr>\n",
       "      <th>5</th>\n",
       "      <td>abajar</td>\n",
       "      <td>1</td>\n",
       "    </tr>\n",
       "    <tr>\n",
       "      <th>6</th>\n",
       "      <td>susesivamente</td>\n",
       "      <td>1</td>\n",
       "    </tr>\n",
       "    <tr>\n",
       "      <th>7</th>\n",
       "      <td>entonces</td>\n",
       "      <td>1</td>\n",
       "    </tr>\n",
       "    <tr>\n",
       "      <th>9</th>\n",
       "      <td>demasiar</td>\n",
       "      <td>1</td>\n",
       "    </tr>\n",
       "    <tr>\n",
       "      <th>11</th>\n",
       "      <td>metaforicamente</td>\n",
       "      <td>1</td>\n",
       "    </tr>\n",
       "    <tr>\n",
       "      <th>12</th>\n",
       "      <td>eventualmente</td>\n",
       "      <td>1</td>\n",
       "    </tr>\n",
       "    <tr>\n",
       "      <th>13</th>\n",
       "      <td>diariamente</td>\n",
       "      <td>1</td>\n",
       "    </tr>\n",
       "  </tbody>\n",
       "</table>\n",
       "</div>"
      ],
      "text/plain": [
       "              Token  Instancias\n",
       "2           siempre          16\n",
       "8                ya          12\n",
       "0                no          11\n",
       "10              asi           3\n",
       "14           tardar           3\n",
       "3              bien           2\n",
       "1             tanto           1\n",
       "4           tambien           1\n",
       "5            abajar           1\n",
       "6     susesivamente           1\n",
       "7          entonces           1\n",
       "9          demasiar           1\n",
       "11  metaforicamente           1\n",
       "12    eventualmente           1\n",
       "13      diariamente           1"
      ]
     },
     "metadata": {},
     "output_type": "display_data"
    },
    {
     "data": {
      "image/png": "[encoded data removed]",
      "text/plain": [
       "<Figure size 1152x576 with 1 Axes>"
      ]
     },
     "metadata": {
      "needs_background": "light"
     },
     "output_type": "display_data"
    }
   ],
   "source": [
    "excep = {\n",
    "#     \"vida\":\"vidas\", # sust\n",
    "    \n",
    "#     \"oscurese\":\"escurese\", # verben\n",
    "#     \"obscurecer\":\"oscurese\",\n",
    "#     \"obscurece\":\"obscurecer\",\n",
    "#     \"oscurecer\":\"obscurece\",\n",
    "#     \"anochecer\":\"oscurecer\",\n",
    "}\n",
    "data = extract_data(dfs_prueba3[26][1],excep)\n",
    "# plot_freq_dist(data['sustantivos'],'la_noche_llega_sustantivos_26_1','la_noche_llega_sustantivos_26_1',most_common,print_df=print_df_var)\n",
    "# plot_freq_dist(data['verbos'],'la_noche_llega_verbos_26_1','la_noche_llega_verbos_26_1',most_common,print_df=print_df_var)\n",
    "# plot_freq_dist(data['adjetivos'],'la_noche_llega_adjetivos_26_1','la_noche_llega_adjetivos_26_1',most_common,print_df=print_df_var)\n",
    "# plot_freq_dist(data['adverbios'],'la_noche_llega_adverbios_26_1','la_noche_llega_adverbios_26_1',most_common,print_df=print_df_var)"
   ]
  },
  {
   "cell_type": "code",
   "execution_count": 20,
   "metadata": {
    "collapsed": true
   },
   "outputs": [
    {
     "data": {
      "text/html": [
       "<div>\n",
       "<style scoped>\n",
       "    .dataframe tbody tr th:only-of-type {\n",
       "        vertical-align: middle;\n",
       "    }\n",
       "\n",
       "    .dataframe tbody tr th {\n",
       "        vertical-align: top;\n",
       "    }\n",
       "\n",
       "    .dataframe thead th {\n",
       "        text-align: right;\n",
       "    }\n",
       "</style>\n",
       "<table border=\"1\" class=\"dataframe\">\n",
       "  <thead>\n",
       "    <tr style=\"text-align: right;\">\n",
       "      <th></th>\n",
       "      <th>Token</th>\n",
       "      <th>Instancias</th>\n",
       "    </tr>\n",
       "  </thead>\n",
       "  <tbody>\n",
       "    <tr>\n",
       "      <th>0</th>\n",
       "      <td>ya</td>\n",
       "      <td>1</td>\n",
       "    </tr>\n",
       "  </tbody>\n",
       "</table>\n",
       "</div>"
      ],
      "text/plain": [
       "  Token  Instancias\n",
       "0    ya           1"
      ]
     },
     "metadata": {},
     "output_type": "display_data"
    },
    {
     "data": {
      "image/png": "[encoded data removed]",
      "text/plain": [
       "<Figure size 1152x576 with 1 Axes>"
      ]
     },
     "metadata": {
      "needs_background": "light"
     },
     "output_type": "display_data"
    }
   ],
   "source": [
    "data = extract_data(dfs_prueba3[26][2],excep)\n",
    "# plot_freq_dist(data['sustantivos'],'la_noche_llega_sustantivos_26_2','la_noche_llega_sustantivos_26_2',most_common,print_df=print_df_var)\n",
    "# plot_freq_dist(data['verbos'],'la_noche_llega_verbos_26_2','la_noche_llega_verbos_26_2',most_common,print_df=print_df_var)\n",
    "# plot_freq_dist(data['adjetivos'],'la_noche_llega_adjetivos_26_2','la_noche_llega_adjetivos_26_2',most_common,print_df=print_df_var)\n",
    "# plot_freq_dist(data['adverbios'],'la_noche_llega_adverbios_26_2','la_noche_llega_adverbios_26_2',most_common,print_df=print_df_var)"
   ]
  },
  {
   "cell_type": "code",
   "execution_count": 24,
   "metadata": {
    "collapsed": true
   },
   "outputs": [
    {
     "data": {
      "text/html": [
       "<div>\n",
       "<style scoped>\n",
       "    .dataframe tbody tr th:only-of-type {\n",
       "        vertical-align: middle;\n",
       "    }\n",
       "\n",
       "    .dataframe tbody tr th {\n",
       "        vertical-align: top;\n",
       "    }\n",
       "\n",
       "    .dataframe thead th {\n",
       "        text-align: right;\n",
       "    }\n",
       "</style>\n",
       "<table border=\"1\" class=\"dataframe\">\n",
       "  <thead>\n",
       "    <tr style=\"text-align: right;\">\n",
       "      <th></th>\n",
       "      <th>Token</th>\n",
       "      <th>Instancias</th>\n",
       "    </tr>\n",
       "  </thead>\n",
       "  <tbody>\n",
       "    <tr>\n",
       "      <th>0</th>\n",
       "      <td>no</td>\n",
       "      <td>2</td>\n",
       "    </tr>\n",
       "  </tbody>\n",
       "</table>\n",
       "</div>"
      ],
      "text/plain": [
       "  Token  Instancias\n",
       "0    no           2"
      ]
     },
     "metadata": {},
     "output_type": "display_data"
    },
    {
     "data": {
      "image/png": "[encoded data removed]",
      "text/plain": [
       "<Figure size 1152x576 with 1 Axes>"
      ]
     },
     "metadata": {
      "needs_background": "light"
     },
     "output_type": "display_data"
    }
   ],
   "source": [
    "data = extract_data(dfs_prueba3[26][3],excep)\n",
    "# plot_freq_dist(data['sustantivos'],'la_noche_llega_sustantivos_26_3','la_noche_llega_sustantivos_26_3',most_common,print_df=print_df_var)\n",
    "# plot_freq_dist(data['verbos'],'la_noche_llega_verbos_26_3','la_noche_llega_verbos_26_3',most_common,print_df=print_df_var)\n",
    "# plot_freq_dist(data['adjetivos'],'la_noche_llega_adjetivos_26_3','la_noche_llega_adjetivos_26_3',most_common,print_df=print_df_var)\n",
    "# plot_freq_dist(data['adverbios'],'la_noche_llega_adverbios_26_3','la_noche_llega_adverbios_26_3',most_common,print_df=print_df_var)"
   ]
  },
  {
   "cell_type": "code",
   "execution_count": 30,
   "metadata": {
    "collapsed": true
   },
   "outputs": [
    {
     "data": {
      "text/html": [
       "<div>\n",
       "<style scoped>\n",
       "    .dataframe tbody tr th:only-of-type {\n",
       "        vertical-align: middle;\n",
       "    }\n",
       "\n",
       "    .dataframe tbody tr th {\n",
       "        vertical-align: top;\n",
       "    }\n",
       "\n",
       "    .dataframe thead th {\n",
       "        text-align: right;\n",
       "    }\n",
       "</style>\n",
       "<table border=\"1\" class=\"dataframe\">\n",
       "  <thead>\n",
       "    <tr style=\"text-align: right;\">\n",
       "      <th></th>\n",
       "      <th>Token</th>\n",
       "      <th>Instancias</th>\n",
       "    </tr>\n",
       "  </thead>\n",
       "  <tbody>\n",
       "    <tr>\n",
       "      <th>4</th>\n",
       "      <td>muy</td>\n",
       "      <td>23</td>\n",
       "    </tr>\n",
       "    <tr>\n",
       "      <th>0</th>\n",
       "      <td>no</td>\n",
       "      <td>2</td>\n",
       "    </tr>\n",
       "    <tr>\n",
       "      <th>1</th>\n",
       "      <td>bien</td>\n",
       "      <td>2</td>\n",
       "    </tr>\n",
       "    <tr>\n",
       "      <th>2</th>\n",
       "      <td>ya</td>\n",
       "      <td>1</td>\n",
       "    </tr>\n",
       "    <tr>\n",
       "      <th>3</th>\n",
       "      <td>demasiar</td>\n",
       "      <td>1</td>\n",
       "    </tr>\n",
       "    <tr>\n",
       "      <th>5</th>\n",
       "      <td>poco</td>\n",
       "      <td>1</td>\n",
       "    </tr>\n",
       "    <tr>\n",
       "      <th>6</th>\n",
       "      <td>tan</td>\n",
       "      <td>1</td>\n",
       "    </tr>\n",
       "    <tr>\n",
       "      <th>7</th>\n",
       "      <td>mas</td>\n",
       "      <td>1</td>\n",
       "    </tr>\n",
       "  </tbody>\n",
       "</table>\n",
       "</div>"
      ],
      "text/plain": [
       "      Token  Instancias\n",
       "4       muy          23\n",
       "0        no           2\n",
       "1      bien           2\n",
       "2        ya           1\n",
       "3  demasiar           1\n",
       "5      poco           1\n",
       "6       tan           1\n",
       "7       mas           1"
      ]
     },
     "metadata": {},
     "output_type": "display_data"
    },
    {
     "data": {
      "image/png": "[encoded data removed]",
      "text/plain": [
       "<Figure size 1152x576 with 1 Axes>"
      ]
     },
     "metadata": {
      "needs_background": "light"
     },
     "output_type": "display_data"
    }
   ],
   "source": [
    "excep = {\n",
    "#     \"pasar\":\"paso\", # verben\n",
    "}\n",
    "data = extract_data(dfs_prueba3[27][0],excep)\n",
    "# plot_freq_dist(data['sustantivos'],'los_dias_corren_sustantivos_27_0','los_dias_corren_sustantivos_27_0',most_common,print_df=print_df_var)\n",
    "# plot_freq_dist(data['verbos'],'los_dias_corren_verbos_27_0','los_dias_corren_verbos_27_0',most_common,print_df=print_df_var)\n",
    "# plot_freq_dist(data['adjetivos'],'los_dias_corren_adjetivos_27_0','los_dias_corren_adjetivos_27_0',most_common,print_df=print_df_var)\n",
    "# plot_freq_dist(data['adverbios'],'los_dias_corren_adverbios_27_0','los_dias_corren_adverbios_27_0',most_common,print_df=print_df_var)"
   ]
  },
  {
   "cell_type": "code",
   "execution_count": 16,
   "metadata": {
    "collapsed": true
   },
   "outputs": [
    {
     "data": {
      "text/html": [
       "<div>\n",
       "<style scoped>\n",
       "    .dataframe tbody tr th:only-of-type {\n",
       "        vertical-align: middle;\n",
       "    }\n",
       "\n",
       "    .dataframe tbody tr th {\n",
       "        vertical-align: top;\n",
       "    }\n",
       "\n",
       "    .dataframe thead th {\n",
       "        text-align: right;\n",
       "    }\n",
       "</style>\n",
       "<table border=\"1\" class=\"dataframe\">\n",
       "  <thead>\n",
       "    <tr style=\"text-align: right;\">\n",
       "      <th></th>\n",
       "      <th>Token</th>\n",
       "      <th>Instancias</th>\n",
       "    </tr>\n",
       "  </thead>\n",
       "  <tbody>\n",
       "    <tr>\n",
       "      <th>9</th>\n",
       "      <td>muy</td>\n",
       "      <td>14</td>\n",
       "    </tr>\n",
       "    <tr>\n",
       "      <th>8</th>\n",
       "      <td>no</td>\n",
       "      <td>7</td>\n",
       "    </tr>\n",
       "    <tr>\n",
       "      <th>1</th>\n",
       "      <td>ya</td>\n",
       "      <td>3</td>\n",
       "    </tr>\n",
       "    <tr>\n",
       "      <th>0</th>\n",
       "      <td>mucho</td>\n",
       "      <td>2</td>\n",
       "    </tr>\n",
       "    <tr>\n",
       "      <th>6</th>\n",
       "      <td>asi</td>\n",
       "      <td>2</td>\n",
       "    </tr>\n",
       "    <tr>\n",
       "      <th>2</th>\n",
       "      <td>siempre</td>\n",
       "      <td>1</td>\n",
       "    </tr>\n",
       "    <tr>\n",
       "      <th>3</th>\n",
       "      <td>metaforicamente</td>\n",
       "      <td>1</td>\n",
       "    </tr>\n",
       "    <tr>\n",
       "      <th>4</th>\n",
       "      <td>mas</td>\n",
       "      <td>1</td>\n",
       "    </tr>\n",
       "    <tr>\n",
       "      <th>5</th>\n",
       "      <td>literalmente</td>\n",
       "      <td>1</td>\n",
       "    </tr>\n",
       "    <tr>\n",
       "      <th>7</th>\n",
       "      <td>simplemente</td>\n",
       "      <td>1</td>\n",
       "    </tr>\n",
       "    <tr>\n",
       "      <th>10</th>\n",
       "      <td>logicamente</td>\n",
       "      <td>1</td>\n",
       "    </tr>\n",
       "    <tr>\n",
       "      <th>11</th>\n",
       "      <td>poco</td>\n",
       "      <td>1</td>\n",
       "    </tr>\n",
       "  </tbody>\n",
       "</table>\n",
       "</div>"
      ],
      "text/plain": [
       "              Token  Instancias\n",
       "9               muy          14\n",
       "8                no           7\n",
       "1                ya           3\n",
       "0             mucho           2\n",
       "6               asi           2\n",
       "2           siempre           1\n",
       "3   metaforicamente           1\n",
       "4               mas           1\n",
       "5      literalmente           1\n",
       "7       simplemente           1\n",
       "10      logicamente           1\n",
       "11             poco           1"
      ]
     },
     "metadata": {},
     "output_type": "display_data"
    },
    {
     "data": {
      "image/png": "[encoded data removed]",
      "text/plain": [
       "<Figure size 1152x576 with 1 Axes>"
      ]
     },
     "metadata": {
      "needs_background": "light"
     },
     "output_type": "display_data"
    }
   ],
   "source": [
    "excep = {\n",
    "#     \"gente\":\"personas\", # sust\n",
    "#     \"persona\":\"gente\",\n",
    "    \n",
    "#     \"pasar\":\"paso\", # verben\n",
    "    \n",
    "#     \"rapidos\":\"rapida\", # adj\n",
    "}\n",
    "data = extract_data(dfs_prueba3[27][1],excep)\n",
    "# plot_freq_dist(data['sustantivos'],'los_dias_corren_sustantivos_27_1','los_dias_corren_sustantivos_27_1',most_common,print_df=print_df_var)\n",
    "# plot_freq_dist(data['verbos'],'los_dias_corren_verbos_27_1','los_dias_corren_verbos_27_1',most_common,print_df=print_df_var)\n",
    "# plot_freq_dist(data['adjetivos'],'los_dias_corren_adjetivos_27_1','los_dias_corren_adjetivos_27_1',most_common,print_df=print_df_var)\n",
    "# plot_freq_dist(data['adverbios'],'los_dias_corren_adverbios_27_1','los_dias_corren_adverbios_27_1',most_common,print_df=print_df_var)"
   ]
  },
  {
   "cell_type": "code",
   "execution_count": 22,
   "metadata": {
    "collapsed": true
   },
   "outputs": [
    {
     "data": {
      "text/html": [
       "<div>\n",
       "<style scoped>\n",
       "    .dataframe tbody tr th:only-of-type {\n",
       "        vertical-align: middle;\n",
       "    }\n",
       "\n",
       "    .dataframe tbody tr th {\n",
       "        vertical-align: top;\n",
       "    }\n",
       "\n",
       "    .dataframe thead th {\n",
       "        text-align: right;\n",
       "    }\n",
       "</style>\n",
       "<table border=\"1\" class=\"dataframe\">\n",
       "  <thead>\n",
       "    <tr style=\"text-align: right;\">\n",
       "      <th></th>\n",
       "      <th>Token</th>\n",
       "      <th>Instancias</th>\n",
       "    </tr>\n",
       "  </thead>\n",
       "  <tbody>\n",
       "    <tr>\n",
       "      <th>3</th>\n",
       "      <td>no</td>\n",
       "      <td>10</td>\n",
       "    </tr>\n",
       "    <tr>\n",
       "      <th>4</th>\n",
       "      <td>muy</td>\n",
       "      <td>8</td>\n",
       "    </tr>\n",
       "    <tr>\n",
       "      <th>0</th>\n",
       "      <td>rapidamente</td>\n",
       "      <td>1</td>\n",
       "    </tr>\n",
       "    <tr>\n",
       "      <th>1</th>\n",
       "      <td>ni</td>\n",
       "      <td>1</td>\n",
       "    </tr>\n",
       "    <tr>\n",
       "      <th>2</th>\n",
       "      <td>menos</td>\n",
       "      <td>1</td>\n",
       "    </tr>\n",
       "  </tbody>\n",
       "</table>\n",
       "</div>"
      ],
      "text/plain": [
       "         Token  Instancias\n",
       "3           no          10\n",
       "4          muy           8\n",
       "0  rapidamente           1\n",
       "1           ni           1\n",
       "2        menos           1"
      ]
     },
     "metadata": {},
     "output_type": "display_data"
    },
    {
     "data": {
      "image/png": "[encoded data removed]",
      "text/plain": [
       "<Figure size 1152x576 with 1 Axes>"
      ]
     },
     "metadata": {
      "needs_background": "light"
     },
     "output_type": "display_data"
    }
   ],
   "source": [
    "excep = {\n",
    "#     \"pasar\":\"paso\", # verben\n",
    "    \n",
    "#     \"rapido\":\"rapida\", # adj\n",
    "}\n",
    "data = extract_data(dfs_prueba3[27][2],excep)\n",
    "# plot_freq_dist(data['sustantivos'],'los_dias_corren_sustantivos_27_2','los_dias_corren_sustantivos_27_2',most_common,print_df=print_df_var)\n",
    "# plot_freq_dist(data['verbos'],'los_dias_corren_verbos_27_2','los_dias_corren_verbos_27_2',most_common,print_df=print_df_var)\n",
    "# plot_freq_dist(data['adjetivos'],'los_dias_corren_adjetivos_27_2','los_dias_corren_adjetivos_27_2',most_common,print_df=print_df_var)\n",
    "# plot_freq_dist(data['adverbios'],'los_dias_corren_adverbios_27_2','los_dias_corren_adverbios_27_2',most_common,print_df=print_df_var)"
   ]
  },
  {
   "cell_type": "code",
   "execution_count": 27,
   "metadata": {
    "collapsed": true
   },
   "outputs": [
    {
     "data": {
      "text/html": [
       "<div>\n",
       "<style scoped>\n",
       "    .dataframe tbody tr th:only-of-type {\n",
       "        vertical-align: middle;\n",
       "    }\n",
       "\n",
       "    .dataframe tbody tr th {\n",
       "        vertical-align: top;\n",
       "    }\n",
       "\n",
       "    .dataframe thead th {\n",
       "        text-align: right;\n",
       "    }\n",
       "</style>\n",
       "<table border=\"1\" class=\"dataframe\">\n",
       "  <thead>\n",
       "    <tr style=\"text-align: right;\">\n",
       "      <th></th>\n",
       "      <th>Token</th>\n",
       "      <th>Instancias</th>\n",
       "    </tr>\n",
       "  </thead>\n",
       "  <tbody>\n",
       "    <tr>\n",
       "      <th>2</th>\n",
       "      <td>no</td>\n",
       "      <td>31</td>\n",
       "    </tr>\n",
       "    <tr>\n",
       "      <th>1</th>\n",
       "      <td>solo</td>\n",
       "      <td>3</td>\n",
       "    </tr>\n",
       "    <tr>\n",
       "      <th>0</th>\n",
       "      <td>muy</td>\n",
       "      <td>2</td>\n",
       "    </tr>\n",
       "  </tbody>\n",
       "</table>\n",
       "</div>"
      ],
      "text/plain": [
       "  Token  Instancias\n",
       "2    no          31\n",
       "1  solo           3\n",
       "0   muy           2"
      ]
     },
     "metadata": {},
     "output_type": "display_data"
    },
    {
     "data": {
      "image/png": "[encoded data removed]",
      "text/plain": [
       "<Figure size 1152x576 with 1 Axes>"
      ]
     },
     "metadata": {
      "needs_background": "light"
     },
     "output_type": "display_data"
    }
   ],
   "source": [
    "excep = {\n",
    "#     \"pies\":\"piernas\", # sust\n",
    "}\n",
    "data = extract_data(dfs_prueba3[27][3],excep)\n",
    "# plot_freq_dist(data['sustantivos'],'los_dias_corren_sustantivos_27_3','los_dias_corren_sustantivos_27_3',most_common,print_df=print_df_var)\n",
    "# plot_freq_dist(data['verbos'],'los_dias_corren_verbos_27_3','los_dias_corren_verbos_27_3',most_common,print_df=print_df_var)\n",
    "# plot_freq_dist(data['adjetivos'],'los_dias_corren_adjetivos_27_3','los_dias_corren_adjetivos_27_3',most_common,print_df=print_df_var)\n",
    "# plot_freq_dist(data['adverbios'],'los_dias_corren_adverbios_27_3','los_dias_corren_adverbios_27_3',most_common,print_df=print_df_var)"
   ]
  },
  {
   "cell_type": "code",
   "execution_count": null,
   "metadata": {},
   "outputs": [],
   "source": []
  }
 ],
 "metadata": {
  "kernelspec": {
   "display_name": "Python 3.8.2 64-bit",
   "language": "python",
   "name": "python38264bit624dde0bc77f4533b14781abca9b70f6"
  },
  "language_info": {
   "codemirror_mode": {
    "name": "ipython",
    "version": 3
   },
   "file_extension": ".py",
   "mimetype": "text/x-python",
   "name": "python",
   "nbconvert_exporter": "python",
   "pygments_lexer": "ipython3",
   "version": "3.8.2"
  }
 },
 "nbformat": 4,
 "nbformat_minor": 4
}
